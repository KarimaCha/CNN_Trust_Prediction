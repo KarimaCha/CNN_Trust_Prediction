{
 "cells": [
  {
   "cell_type": "markdown",
   "metadata": {},
   "source": [
    "# Support Vector Machine (SVM)\n",
    "This notebook includes predictive modeling of social ratings using Support Vector Machines (SVMs) and grid search cross validation.\n",
    "\n",
    "---\n",
    "\n",
    "### Content:\n",
    "\n",
    "- **1) Load Packages & Data**\n",
    "- **2) Image Preprocessing**\n",
    "    - a) Stratified train-test split\n",
    "    - b) Conversion to grayscale\n",
    "    - c) Mean-centering\n",
    "    - d) Flattening\n",
    "- **3) PCR for Modeling**\n",
    "- **4) SVR using Grid Search CV**\n",
    "- **5) Model Evaluation**\n",
    "- **6) Summary of Results**\n",
    "\n",
    "---"
   ]
  },
  {
   "cell_type": "markdown",
   "metadata": {
    "colab_type": "text",
    "id": "NIWFb1XCcZlv"
   },
   "source": [
    "# 1) Load packages & Data"
   ]
  },
  {
   "cell_type": "code",
   "execution_count": 1,
   "metadata": {
    "colab": {},
    "colab_type": "code",
    "id": "ZFYelZQFO3qz"
   },
   "outputs": [],
   "source": [
    "# Load basic packages\n",
    "\n",
    "import pandas as pd\n",
    "import numpy as np\n",
    "import os, os.path\n",
    "\n",
    "import seaborn as sns\n",
    "import matplotlib.pyplot as plt\n",
    "\n",
    "#plt.style.use('seaborn-white')  \n",
    "sns.set_style(\"white\")"
   ]
  },
  {
   "cell_type": "code",
   "execution_count": 2,
   "metadata": {
    "colab": {},
    "colab_type": "code",
    "id": "-tHKmeiVhti0"
   },
   "outputs": [
    {
     "data": {
      "text/plain": [
       "((2222, 224, 224, 3), (2222,))"
      ]
     },
     "execution_count": 2,
     "metadata": {},
     "output_type": "execute_result"
    }
   ],
   "source": [
    "# choose type of X and y values for modeling \n",
    "\n",
    "data_path = '/Users/kacha/nf-ds/nf_capstone/data/'\n",
    "y_name = 'yT'    # select from:  yT, yF, yS, yA, yE, yI\n",
    "X_name = 'Xf'    # select from:  Xr, Xs, Xp, Xf (all uncentered)\n",
    "\n",
    "y = np.load(data_path + y_name + '.npy')\n",
    "X = np.load(data_path + X_name + '.npy')\n",
    "\n",
    "X.shape, y.shape"
   ]
  },
  {
   "cell_type": "markdown",
   "metadata": {},
   "source": [
    "---\n",
    "# 2) Image Preprocessing"
   ]
  },
  {
   "cell_type": "markdown",
   "metadata": {},
   "source": [
    "### a) Stratified train-test split"
   ]
  },
  {
   "cell_type": "code",
   "execution_count": 3,
   "metadata": {},
   "outputs": [],
   "source": [
    "# load indices for stratified train-test-split\n",
    "\n",
    "skfold_path = '/Users/kacha/nf-ds/nf_capstone/data/skfold_1/'\n",
    "train_idx = np.load(skfold_path + y_name + '_train_raw_indices.npy')\n",
    "test_idx = np.load(skfold_path + y_name + '_test_indices.npy')"
   ]
  },
  {
   "cell_type": "code",
   "execution_count": 4,
   "metadata": {},
   "outputs": [
    {
     "data": {
      "text/plain": [
       "((1888, 224, 224, 3), (334, 224, 224, 3), (1888,), (334,))"
      ]
     },
     "execution_count": 4,
     "metadata": {},
     "output_type": "execute_result"
    }
   ],
   "source": [
    "# make train/test split based on loaded indices\n",
    "\n",
    "X_train = X[train_idx]\n",
    "X_test = X[test_idx]\n",
    "\n",
    "y_train = y[train_idx]\n",
    "y_test = y[test_idx]\n",
    "\n",
    "X_train.shape, X_test.shape, y_train.shape, y_test.shape"
   ]
  },
  {
   "cell_type": "code",
   "execution_count": 5,
   "metadata": {},
   "outputs": [],
   "source": [
    "# delete unsplit data to free up RAM\n",
    "del X, y"
   ]
  },
  {
   "cell_type": "code",
   "execution_count": 6,
   "metadata": {},
   "outputs": [
    {
     "data": {
      "image/png": "[encoded data removed]",
      "text/plain": [
       "<Figure size 432x288 with 1 Axes>"
      ]
     },
     "metadata": {
      "needs_background": "light"
     },
     "output_type": "display_data"
    }
   ],
   "source": [
    "# check stratification for y\n",
    "\n",
    "sns.distplot(y_train, bins=25)\n",
    "sns.distplot(y_test, bins=25)\n",
    "plt.legend(labels=['train','test'], loc='upper left');"
   ]
  },
  {
   "cell_type": "code",
   "execution_count": null,
   "metadata": {},
   "outputs": [],
   "source": [
    "# plot example images with min/max ratings in train and test set\n",
    "# Note: output not shown in GitHub because of license agreement for face images\n",
    "\n",
    "plt.figure(figsize=(9,4))\n",
    "\n",
    "# train data with min and max rating\n",
    "plt.subplot(141)\n",
    "idx = y_train.argmin()\n",
    "plt.imshow(X_train[idx])  # /255.0)\n",
    "plt.title('train - min\\n{:.2f}'.format(y_train[idx]));\n",
    "\n",
    "plt.subplot(142)\n",
    "idx = y_train.argmax() \n",
    "plt.imshow(X_train[idx]) # /255.0)\n",
    "plt.title('train - max\\n{:.2f}'.format(y_train[idx]));\n",
    "\n",
    "# test data with min and max rating\n",
    "plt.subplot(143)\n",
    "idx = y_test.argmin()\n",
    "plt.imshow(X_test[idx])  # /255.0)\n",
    "plt.title('test - min\\n{:.2f}'.format(y_test[idx]));\n",
    "\n",
    "plt.subplot(144)\n",
    "idx = y_test.argmax()\n",
    "plt.imshow(X_test[idx])  # /255.0)\n",
    "plt.title('test - max\\n{:.2f}'.format(y_test[idx]));\n",
    "plt.tight_layout();"
   ]
  },
  {
   "cell_type": "markdown",
   "metadata": {
    "colab_type": "text",
    "id": "fyZU6UFw-oS4"
   },
   "source": [
    "### b) Conversion to grayscale"
   ]
  },
  {
   "cell_type": "code",
   "execution_count": 9,
   "metadata": {
    "colab": {
     "base_uri": "https://localhost:8080/",
     "height": 34
    },
    "colab_type": "code",
    "id": "Im0NeeoR6-3U",
    "outputId": "0325d4e2-92c8-4482-a716-2b31eb31deaf"
   },
   "outputs": [
    {
     "data": {
      "text/plain": [
       "((1888, 224, 224), (334, 224, 224))"
      ]
     },
     "execution_count": 9,
     "metadata": {},
     "output_type": "execute_result"
    }
   ],
   "source": [
    "# make grayscale images from rgb images\n",
    "# https://stackoverflow.com/questions/12201577/how-can-i-convert-an-rgb-image-into-grayscale-in-python\n",
    "# https://pillow.readthedocs.io/en/3.2.x/reference/Image.html#PIL.Image.Image.convert\n",
    "\n",
    "def rgb2gray(X):\n",
    "    return np.dot(X[...,:3], [0.2989, 0.5870, 0.1140])\n",
    "\n",
    "X_train_gray = rgb2gray(X_train)\n",
    "X_test_gray = rgb2gray(X_test)\n",
    "\n",
    "X_train_gray.shape, X_test_gray.shape"
   ]
  },
  {
   "cell_type": "code",
   "execution_count": null,
   "metadata": {},
   "outputs": [],
   "source": [
    "# plot example images with min/max ratings in train and test set\n",
    "# Note: output not shown in GitHub because of license agreement for face images\n",
    "\n",
    "plt.figure(figsize=(9,4))\n",
    "\n",
    "# train data with min and max rating\n",
    "plt.subplot(141)\n",
    "idx = y_train.argmin()\n",
    "plt.imshow(X_train_gray[idx], cmap=plt.get_cmap('gray'))  # /255.0)\n",
    "plt.title('train - min\\n{:.2f}'.format(y_train[idx]));\n",
    "\n",
    "plt.subplot(142)\n",
    "idx = y_train.argmax() \n",
    "plt.imshow(X_train_gray[idx], cmap=plt.get_cmap('gray')) # /255.0)\n",
    "plt.title('train - max\\n{:.2f}'.format(y_train[idx]));\n",
    "\n",
    "\n",
    "# test data with min and max rating\n",
    "plt.subplot(143)\n",
    "idx = y_test.argmin()\n",
    "plt.imshow(X_test_gray[idx], cmap=plt.get_cmap('gray'))  # /255.0)\n",
    "plt.title('test - min\\n{:.2f}'.format(y_test[idx]));\n",
    "\n",
    "plt.subplot(144)\n",
    "idx = y_test.argmax()\n",
    "plt.imshow(X_test_gray[idx], cmap=plt.get_cmap('gray'))  # /255.0)\n",
    "plt.title('test - max\\n{:.2f}'.format(y_test[idx]));\n",
    "plt.tight_layout();"
   ]
  },
  {
   "cell_type": "markdown",
   "metadata": {},
   "source": [
    "### c) Mean-centering"
   ]
  },
  {
   "cell_type": "code",
   "execution_count": 11,
   "metadata": {},
   "outputs": [
    {
     "data": {
      "text/plain": [
       "((224, 224, 3), (224, 224))"
      ]
     },
     "execution_count": 11,
     "metadata": {},
     "output_type": "execute_result"
    }
   ],
   "source": [
    "# take the mean of trainings set for mean-centering of train/test set later\n",
    "\n",
    "X_mean = np.mean(X_train, axis=0)\n",
    "X_mean_gray = np.mean(X_train_gray, axis=0)\n",
    "\n",
    "X_mean.shape, X_mean_gray.shape"
   ]
  },
  {
   "cell_type": "code",
   "execution_count": 12,
   "metadata": {},
   "outputs": [],
   "source": [
    "# write functions to center X using mean of training data:\n",
    "\n",
    "# for colored images\n",
    "def center_X(X):\n",
    "    return X - X_mean\n",
    "\n",
    "def decenter_X(X):\n",
    "    return X + X_mean\n",
    "\n",
    "# for gray images\n",
    "def center_X_gray(X):\n",
    "    return X - X_mean_gray\n",
    "\n",
    "def decenter_X_gray(X):\n",
    "    return X + X_mean_gray"
   ]
  },
  {
   "cell_type": "code",
   "execution_count": 15,
   "metadata": {
    "colab": {
     "base_uri": "https://localhost:8080/",
     "height": 265
    },
    "colab_type": "code",
    "id": "xWdWJBDO-AeX",
    "outputId": "21481201-a23f-40bd-9f58-be74c4c12696"
   },
   "outputs": [
    {
     "data": {
      "image/png": "[encoded data removed]",
      "text/plain": [
       "<Figure size 1008x288 with 2 Axes>"
      ]
     },
     "metadata": {
      "needs_background": "light"
     },
     "output_type": "display_data"
    }
   ],
   "source": [
    "# plot distribution of pixel values for raw and mean-centered images\n",
    "\n",
    "plt.figure(figsize=(14,4))\n",
    "\n",
    "# for colored images\n",
    "plt.subplot(121)\n",
    "sns.distplot(X_train[:5].ravel(), bins=25)\n",
    "sns.distplot(center_X(X_train[:5]).ravel(), bins=25)\n",
    "plt.legend(labels=['raw','centered'], loc='upper left')\n",
    "plt.title('colored images', size=15);\n",
    "\n",
    "# for grayscale images\n",
    "plt.subplot(122)\n",
    "sns.distplot(X_train_gray[:5].ravel(), bins=25)\n",
    "sns.distplot(center_X_gray(X_train_gray[:5]).ravel(), bins=25)\n",
    "plt.legend(labels=['raw','centered'], loc='upper left')\n",
    "plt.title('grayscale images', size=15);"
   ]
  },
  {
   "cell_type": "markdown",
   "metadata": {
    "colab_type": "text",
    "id": "_RAD95sMFTP9"
   },
   "source": [
    "### d) Flattening"
   ]
  },
  {
   "cell_type": "code",
   "execution_count": 16,
   "metadata": {
    "colab": {
     "base_uri": "https://localhost:8080/",
     "height": 34
    },
    "colab_type": "code",
    "id": "5FQWg_mAIHKp",
    "outputId": "2d5c2e71-fa39-4588-db9d-e29ceede1413"
   },
   "outputs": [
    {
     "data": {
      "text/plain": [
       "((1888, 150528), (1888, 50176), (334, 150528), (334, 50176))"
      ]
     },
     "execution_count": 16,
     "metadata": {},
     "output_type": "execute_result"
    }
   ],
   "source": [
    "# flatten centered image arrays for PCA/SVR (cf = centered & flat)\n",
    "# see: https://docs.scipy.org/doc/numpy/reference/generated/numpy.reshape.html\n",
    "\n",
    "# for colored images\n",
    "X_train_cf = center_X(X_train).reshape((X_train.shape[0], -1))\n",
    "X_test_cf = center_X(X_test).reshape((X_test.shape[0], -1))\n",
    "\n",
    "# for grayscale images\n",
    "X_train_gray_cf = center_X_gray(X_train_gray).reshape((X_train_gray.shape[0], -1))\n",
    "X_test_gray_cf = center_X_gray(X_test_gray).reshape((X_test_gray.shape[0], -1))\n",
    "\n",
    "X_train_cf.shape, X_train_gray_cf.shape, X_test_cf.shape, X_test_gray_cf.shape"
   ]
  },
  {
   "cell_type": "markdown",
   "metadata": {},
   "source": [
    "---\n",
    "# 3) PCR for modeling"
   ]
  },
  {
   "cell_type": "markdown",
   "metadata": {
    "colab_type": "text",
    "id": "nITyrSTp0gz7"
   },
   "source": [
    "**Some notes about PCA for modeling:**\n",
    "\n",
    "Each image contains [224 x 224] or over 50,000 pixels (per color channel). While we could use each pixel value as a feature, it is more effective to use some sort of preprocessor like principal component analysis (PCA) to extract more meaningful features and feed these features into our support vector machine (SVM) regressor. We will do this by packaging the PCA and the SVM into a single pipeline (see below).\n",
    "\n",
    "\n",
    "In the case of images, one common heuristic is to choose the number of extracted compontents so as to **retain 99%** of the variance. Depending on the application, if you are willing to incur some additional error, values in the **90-98% range** are also sometimes used. When you describe to others how you applied PCA, saying that you chose k to retain 95% of the variance will also be a much more easily interpretable description than saying that you retained 120 (or whatever other number of) components.\n",
    "\n",
    "from: http://ufldl.stanford.edu/tutorial/unsupervised/PCAWhitening/"
   ]
  },
  {
   "cell_type": "code",
   "execution_count": 28,
   "metadata": {},
   "outputs": [
    {
     "name": "stdout",
     "output_type": "stream",
     "text": [
      "296\n"
     ]
    }
   ],
   "source": [
    "# check how many components are extracted if we set 'explain_variance' to different values\n",
    "\n",
    "from sklearn.decomposition import PCA\n",
    "\n",
    "explain_variance = 0.90\n",
    "pca = PCA(n_components=explain_variance, svd_solver='auto', whiten=True, random_state=0) \n",
    "\n",
    "pca.fit(X_train_cf, y_train)        # for rgb images\n",
    "#pca.fit(X_train_gray_cf, y_train)  # for gray images\n",
    "print(pca.n_components_)\n",
    "#pca.explained_variance_ratio_.cumsum()"
   ]
  },
  {
   "cell_type": "markdown",
   "metadata": {},
   "source": [
    "**Number of extracted components with rgb images: (same for whiten=True or False):**\n",
    "- with 0.80:  39 components\n",
    "- with 0.90: 123 components\n",
    "- with 0.95: 296 components\n",
    "\n",
    "**Number of extracted components with grayscale images: (same for whiten=True or False):**\n",
    "- with 0.80:  34 components\n",
    "- with 0.90: 105 components\n",
    "- with 0.95: 247 components"
   ]
  },
  {
   "cell_type": "code",
   "execution_count": null,
   "metadata": {},
   "outputs": [],
   "source": [
    "# plot explained variance ratio over components\n",
    "'''\n",
    "plt.plot(range(len(pca.explained_variance_ratio_)), \n",
    "               pca.explained_variance_ratio_);\n",
    "''';"
   ]
  },
  {
   "cell_type": "code",
   "execution_count": null,
   "metadata": {
    "colab": {},
    "colab_type": "code",
    "id": "enYVzQX2xg3t"
   },
   "outputs": [],
   "source": [
    "# check value for gamma when 'scale' keyword is used below\n",
    "# see formula: https://scikit-learn.org/stable/modules/generated/sklearn.svm.SVR.html --> 1 / (n_features * X.var())\n",
    "'''\n",
    "pca = PCA(n_components=0.90, svd_solver='auto', whiten=True, random_state=0) \n",
    "pca.fit(X_train_cf)\n",
    "X_transformed = pca.transform(X_train_cf)\n",
    "print(X_transformed.shape)\n",
    "print('X var:', X_transformed.var())\n",
    "print('n features:', pca.n_components_)\n",
    "print('scale:', 1 / ( pca.n_components_ * X_transformed.var() )) # = 0.008\n",
    "''';"
   ]
  },
  {
   "cell_type": "markdown",
   "metadata": {
    "colab_type": "text",
    "id": "HL6vqCniGWhR"
   },
   "source": [
    "---\n",
    "# 4) SVR using Grid Search CV"
   ]
  },
  {
   "cell_type": "markdown",
   "metadata": {
    "colab_type": "text",
    "id": "CTaFjSdWaOiP"
   },
   "source": [
    "**Some notes about Grid Search CV:**\n",
    "\n",
    "We use a grid search cross-validation to explore combinations of parameters. Here we will adjust ``C`` (which controls the margin hardness) and ``gamma`` (which controls the size of the radial basis function kernel), and determine the best model. \n",
    "\n",
    "If the returned optimal values do not fall toward the middle of our grid, but at the edges, we will to expand the grid to make sure we have found the true optimum.\n",
    "\n",
    "- https://scikit-learn.org/stable/modules/svm.html\n",
    "- https://scikit-learn.org/stable/auto_examples/svm/plot_svm_regression"
   ]
  },
  {
   "cell_type": "code",
   "execution_count": 14,
   "metadata": {
    "colab": {},
    "colab_type": "code",
    "id": "c-9iLUrKdgVt"
   },
   "outputs": [],
   "source": [
    "# import packages for grid search CV\n",
    "\n",
    "from sklearn.svm import SVR \n",
    "from sklearn.decomposition import PCA\n",
    "from sklearn.model_selection import GridSearchCV\n",
    "from sklearn.pipeline import make_pipeline"
   ]
  },
  {
   "cell_type": "code",
   "execution_count": null,
   "metadata": {
    "colab": {},
    "colab_type": "code",
    "id": "s81dHM3xnmNP"
   },
   "outputs": [],
   "source": [
    "# fitting model WITH grid search\n",
    "'''\n",
    "# select parameter values for grid search\n",
    "param_grid = {'svr__C': [0.5, 1, 2.5],\n",
    "              'svr__gamma': ['scale', 0.001, 0.005]}\n",
    "\n",
    "# initialize models and run grid search\n",
    "pca = PCA(n_components=0.90, svd_solver='auto', whiten=True, random_state=0)  \n",
    "svr = SVR(kernel='rbf')\n",
    "model = make_pipeline(pca, svr)\n",
    "grayscale = False\n",
    "\n",
    "grid = GridSearchCV(model, param_grid, cv=5, verbose=2)  #n_jobs=1\n",
    "\n",
    "if grayscale:\n",
    "    %time grid.fit(X_train_gray_flat, y_train)\n",
    "else:\n",
    "    %time grid.fit(X_train_flat, y_train)\n",
    "\n",
    "# get best model parameters\n",
    "print(grid.best_params_)\n",
    "model = grid.best_estimator_\n",
    "''';"
   ]
  },
  {
   "cell_type": "code",
   "execution_count": 15,
   "metadata": {
    "colab": {
     "base_uri": "https://localhost:8080/",
     "height": 71
    },
    "colab_type": "code",
    "id": "I_sU6Dy0fYwH",
    "outputId": "6c18af00-7d1b-47f0-cf94-45ea648406f4"
   },
   "outputs": [],
   "source": [
    "# fitting model WITHOUT grid search\n",
    "\n",
    "model_name = 's29'\n",
    "pca = PCA(n_components=0.90, svd_solver='auto', whiten=True, random_state=0)  \n",
    "svr = SVR(kernel='rbf', C=1, gamma='scale')\n",
    "model = make_pipeline(pca, svr)\n",
    "grayscale = False\n",
    "\n",
    "if grayscale:\n",
    "    model.fit(X_train_gray_cf, y_train)\n",
    "else:\n",
    "    model.fit(X_train_cf, y_train)"
   ]
  },
  {
   "cell_type": "code",
   "execution_count": 16,
   "metadata": {
    "colab": {
     "base_uri": "https://localhost:8080/",
     "height": 272
    },
    "colab_type": "code",
    "id": "nmuFm4Mjb2lS",
    "outputId": "70c0bfb0-2331-4e66-c10e-3e403de38ba5"
   },
   "outputs": [
    {
     "name": "stdout",
     "output_type": "stream",
     "text": [
      "model saved to: /Users/kacha/nf-ds/nf_capstone/models/s29_Xf_yT.sav\n"
     ]
    }
   ],
   "source": [
    "# save trained model with pickle\n",
    "# https://machinelearningmastery.com/save-load-machine-learning-models-python-scikit-learn/\n",
    "\n",
    "import pickle\n",
    "\n",
    "model_file = '_'.join([model_name, X_name, y_name + '.sav'])\n",
    "models_dir = '/Users/kacha/nf-ds/nf_capstone/models/'\n",
    "pickle.dump(model, open(models_dir + model_file, 'wb'))\n",
    "print('model saved to: ' + models_dir + model_file)"
   ]
  },
  {
   "cell_type": "code",
   "execution_count": null,
   "metadata": {},
   "outputs": [],
   "source": [
    "# load model from .sav file\n",
    "\n",
    "# loaded_model = pickle.load(open(models_dir + filename, 'rb'))\n",
    "# loaded_model.get_params"
   ]
  },
  {
   "cell_type": "markdown",
   "metadata": {
    "colab_type": "text",
    "id": "rfgF3YWVG7y-"
   },
   "source": [
    "---\n",
    "# 5) Model Evaluation"
   ]
  },
  {
   "cell_type": "code",
   "execution_count": 17,
   "metadata": {
    "colab": {},
    "colab_type": "code",
    "id": "sb2-hDOL5PUI"
   },
   "outputs": [
    {
     "name": "stdout",
     "output_type": "stream",
     "text": [
      "(334,) (1888,)\n"
     ]
    }
   ],
   "source": [
    "# make predictions with trained model\n",
    "\n",
    "if grayscale:\n",
    "    y_pred_test = model.predict(X_test_gray_cf)\n",
    "    y_pred_train = model.predict(X_train_gray_cf)\n",
    "else:\n",
    "    y_pred_test = model.predict(X_test_cf)\n",
    "    y_pred_train = model.predict(X_train_cf)\n",
    "    \n",
    "print(y_pred_test.shape, y_pred_train.shape)"
   ]
  },
  {
   "cell_type": "code",
   "execution_count": 18,
   "metadata": {
    "colab": {},
    "colab_type": "code",
    "id": "uNybDAJlSkxQ"
   },
   "outputs": [],
   "source": [
    "# function to make dataframe with model statistics (RMSE, MAE, PC)\n",
    "\n",
    "def make_df_model_eval(y_pred_test, y_pred_train):\n",
    "    from sklearn.metrics import mean_squared_error, mean_absolute_error\n",
    "    from scipy.stats import pearsonr\n",
    "\n",
    "    n_train = y_train.shape[0]\n",
    "    RMSE_train = np.sqrt(mean_squared_error(y_train, y_pred_train))\n",
    "    MAE_train = mean_absolute_error(y_train, y_pred_train)\n",
    "    PC_train = 100*pearsonr(y_train, y_pred_train)[0]\n",
    "\n",
    "    n_test = y_test.shape[0]\n",
    "    RMSE_test = np.sqrt(mean_squared_error(y_test, y_pred_test))\n",
    "    MAE_test = mean_absolute_error(y_test, y_pred_test)\n",
    "    PC_test = 100*pearsonr(y_test, y_pred_test)[0]\n",
    "\n",
    "    df_model_eval = pd.DataFrame([[n_train, RMSE_train, MAE_train, PC_train],\n",
    "                                  [n_test, RMSE_test, MAE_test, PC_test]],\n",
    "                                   index=['train', 'test'],\n",
    "                                   columns=['n_samples', 'RMSE', 'MAE', 'PC'])\n",
    "    return df_model_eval"
   ]
  },
  {
   "cell_type": "code",
   "execution_count": 19,
   "metadata": {
    "colab": {
     "base_uri": "https://localhost:8080/",
     "height": 111
    },
    "colab_type": "code",
    "id": "ABaG2CH1S6Mt",
    "outputId": "54ac16c8-44a2-43f6-9242-fdf6a99c4cd4"
   },
   "outputs": [
    {
     "data": {
      "text/html": [
       "<div>\n",
       "<style scoped>\n",
       "    .dataframe tbody tr th:only-of-type {\n",
       "        vertical-align: middle;\n",
       "    }\n",
       "\n",
       "    .dataframe tbody tr th {\n",
       "        vertical-align: top;\n",
       "    }\n",
       "\n",
       "    .dataframe thead th {\n",
       "        text-align: right;\n",
       "    }\n",
       "</style>\n",
       "<table border=\"1\" class=\"dataframe\">\n",
       "  <thead>\n",
       "    <tr style=\"text-align: right;\">\n",
       "      <th></th>\n",
       "      <th>n_samples</th>\n",
       "      <th>RMSE</th>\n",
       "      <th>MAE</th>\n",
       "      <th>PC</th>\n",
       "    </tr>\n",
       "  </thead>\n",
       "  <tbody>\n",
       "    <tr>\n",
       "      <th>train</th>\n",
       "      <td>1888</td>\n",
       "      <td>0.394</td>\n",
       "      <td>0.243</td>\n",
       "      <td>92.973</td>\n",
       "    </tr>\n",
       "    <tr>\n",
       "      <th>test</th>\n",
       "      <td>334</td>\n",
       "      <td>0.730</td>\n",
       "      <td>0.583</td>\n",
       "      <td>62.247</td>\n",
       "    </tr>\n",
       "  </tbody>\n",
       "</table>\n",
       "</div>"
      ],
      "text/plain": [
       "       n_samples  RMSE   MAE     PC\n",
       "train       1888 0.394 0.243 92.973\n",
       "test         334 0.730 0.583 62.247"
      ]
     },
     "metadata": {},
     "output_type": "display_data"
    }
   ],
   "source": [
    "df_model_eval = make_df_model_eval(y_pred_test, y_pred_train)\n",
    "with pd.option_context('display.float_format', '{:,.3f}'.format):\n",
    "    display(df_model_eval)"
   ]
  },
  {
   "cell_type": "code",
   "execution_count": 20,
   "metadata": {
    "colab": {
     "base_uri": "https://localhost:8080/",
     "height": 68
    },
    "colab_type": "code",
    "id": "XNU-G5yiYFk4",
    "outputId": "686079d2-f3df-44eb-c252-368cd0c219de"
   },
   "outputs": [
    {
     "name": "stdout",
     "output_type": "stream",
     "text": [
      "evaluation dataframe saved to: /Users/kacha/nf-ds/nf_capstone/models/s29_Xf_yT_eval.csv\n"
     ]
    }
   ],
   "source": [
    "# save model evaluation dataframe\n",
    "\n",
    "eval_file = '_'.join([model_name, X_name, y_name, 'eval.csv'])\n",
    "df_model_eval.to_csv(models_dir + eval_file, index=False)\n",
    "print('evaluation dataframe saved to: ' + models_dir + eval_file)"
   ]
  },
  {
   "cell_type": "code",
   "execution_count": 21,
   "metadata": {
    "colab": {},
    "colab_type": "code",
    "id": "vn2msSRsRgtj"
   },
   "outputs": [],
   "source": [
    "# write function to show scatter plot (pred vs. true) for train and test set\n",
    "\n",
    "def model_scatter_hist(y_test, y_pred_test, y_train, y_pred_train):\n",
    "\n",
    "    fig = plt.figure(figsize=(8,6))\n",
    "    \n",
    "    sns.scatterplot(y_train, y_pred_train, color='blue', label='train')\n",
    "    sns.scatterplot(y_test, y_pred_test, color='red', label='test')\n",
    "    plt.xlabel('true rating', size=12)\n",
    "    plt.ylabel('predicted rating', size=12);\n",
    "    plt.ylim((1,9))\n",
    "    plt.xlim((1,9))\n",
    "    plt.plot(plt.gca().get_xlim(), plt.gca().get_ylim(), ls=\"--\", c='gray')\n",
    "    plt.show();\n",
    "\n",
    "    fig = plt.figure(figsize=(8,4))\n",
    "    sns.distplot(y_test, bins=25, label='true')\n",
    "    sns.distplot(y_pred_test, bins=25, label='predicted')\n",
    "    plt.xlim((1,9))\n",
    "    plt.legend()\n",
    "    plt.show();"
   ]
  },
  {
   "cell_type": "code",
   "execution_count": 22,
   "metadata": {
    "colab": {
     "base_uri": "https://localhost:8080/",
     "height": 643
    },
    "colab_type": "code",
    "id": "7GIiKiYSRrKO",
    "outputId": "5584bacf-e481-486e-e147-6a7f3d73506d"
   },
   "outputs": [
    {
     "data": {
      "image/png": "[encoded data removed]",
      "text/plain": [
       "<Figure size 576x432 with 1 Axes>"
      ]
     },
     "metadata": {
      "needs_background": "light"
     },
     "output_type": "display_data"
    },
    {
     "data": {
      "image/png": "[encoded data removed]",
      "text/plain": [
       "<Figure size 576x288 with 1 Axes>"
      ]
     },
     "metadata": {
      "needs_background": "light"
     },
     "output_type": "display_data"
    }
   ],
   "source": [
    "# show scatter plot (pred. vs. true) for current model\n",
    "model_scatter_hist(y_test, y_pred_test, y_train, y_pred_train)"
   ]
  },
  {
   "cell_type": "code",
   "execution_count": 23,
   "metadata": {},
   "outputs": [],
   "source": [
    "# write function to show min/max predictions\n",
    "\n",
    "def plot_min_max_predictions(y_pred_test, n=5):\n",
    "\n",
    "    y_pred_min = y_pred_test.argsort()[:n]\n",
    "    y_pred_max = y_pred_test.argsort()[-n:]\n",
    "\n",
    "    fig, ax = plt.subplots(2,n,figsize=(3*n,7))\n",
    "\n",
    "    for p, i in enumerate(y_pred_min, start=1):\n",
    "        plt.subplot(2,n,p)\n",
    "        plt.imshow(X_test[i])  #/255.0)\n",
    "        plt.title('true: {:.2f}\\npredicted: {:.2f}'.format(y_test[i], y_pred_test[i]))\n",
    "        plt.axis('off');\n",
    "\n",
    "    for p, i in enumerate(y_pred_max, start=n+1):\n",
    "        plt.subplot(2,n,p)\n",
    "        plt.imshow(X_test[i])  #/255.0)\n",
    "        plt.title('true: {:.2f}\\npredicted: {:.2f}'.format(y_test[i], y_pred_test[i]))\n",
    "        plt.axis('off');\n",
    "\n",
    "    plt.show();"
   ]
  },
  {
   "cell_type": "code",
   "execution_count": null,
   "metadata": {},
   "outputs": [],
   "source": [
    "# plot min/max predictions\n",
    "# Note: output not shown in GitHub because of license agreement for face images\n",
    "\n",
    "plot_min_max_predictions(y_pred_test, n=5)"
   ]
  },
  {
   "cell_type": "code",
   "execution_count": null,
   "metadata": {
    "colab": {
     "base_uri": "https://localhost:8080/",
     "height": 585
    },
    "colab_type": "code",
    "id": "6f4GH66vaOiW",
    "outputId": "c566ce66-2126-4d26-9994-54c2abb67ffd"
   },
   "outputs": [],
   "source": [
    "# plot some of the test images along with their predicted values\n",
    "# Note: output not shown in GitHub because of license agreement for face images\n",
    "\n",
    "fig, ax = plt.subplots(4, 6, figsize=(13,10))\n",
    "plt.subplots_adjust(hspace=0.7)\n",
    "\n",
    "for i, axi in enumerate(ax.flat):\n",
    "\n",
    "    if grayscale:\n",
    "        axi.imshow(X_test_gray[i],  # decenter_X_gray(X_test_gray_cf[i].reshape(224, -1)\n",
    "                   cmap=plt.get_cmap('gray'))\n",
    "    else:\n",
    "        axi.imshow(X_test[i])       # decenter_X(X_test_cf[i].reshape(224, -1, 3))\n",
    "        \n",
    "    axi.set(xticks=[], yticks=[])\n",
    "    axi.set_title('true: {}\\npred: {}'.format(y_pred_test[i].round(2), y_test[i].round(2)),\n",
    "                       color='black' if (abs(y_pred_test[i] - y_test[i]) < 1.0) else 'red')\n",
    "    \n",
    "fig.suptitle('True and predicted ratings - Red labels show difference > 1.0', size=14);"
   ]
  },
  {
   "cell_type": "markdown",
   "metadata": {
    "colab_type": "text",
    "id": "7-6YxAchb8fj"
   },
   "source": [
    "---\n",
    "# 6) Summary of Results"
   ]
  },
  {
   "cell_type": "markdown",
   "metadata": {},
   "source": [
    "**Summary of Results:**\n",
    "\n",
    "model | X | y | n_comp | whiten | C grid | gamma grid | C best | gamma best | kernel | train | test\n",
    "--- | --- | --- | --- | --- | --- | --- | --- | --- | --- | --- | ---\n",
    "s01 | Xs, gray  | yT | 150 | True  | [1, 5, 10, 50]  | [0.0001, 0.0005, 0.001, 0.005] | 1  | .005  | rgb | 83% | 54%\n",
    "s02 | Xs, gray  | yT | 150 | True  | [0.01, 0.1, 1]  | [0.001, 0.005, 0.01, 0.05] | 1  | .005  | rbf | 83%   | 54%\n",
    "s03 | Xsc, gray | yT | .95 | False | [0.1, 1, 10]    | [0.001, 0.005, 0.01]       | 10 | .001  | rbf | 99.6% | 47.1%\n",
    "s04 | Xsc, gray | yT | .95 | False | [10, 100, 1000] | [0.00001, 0.0001, 0.001]   | 10 | .0001 | rbf | 79.6% | 50.6%\n",
    "s05 | Xsc, gray | yT | .95 | True  | no grid         | no grid                    | 10 | .0001 | rbf | 62.3% | 48.3%\n",
    "s06 | Xsc, gray | yT | .75*| False | no grid         | no grid                    | 10 | .0001 | rbf | 46.5% | 30.1%\n",
    "s07 | Xsc, rgb  | yT | .95 | False | [0.1, 1, 10, 100] | ['scale']                | 1  | scale | rbf | 85.0% | 51.0%\n",
    "s08 | Xsc, rgb  | yT | .95 | True  | no grid         | no grid                    | 1  | scale | rbf | 93.3% | 55.4%\n",
    "s09 | Xsc, rgb  | yT | .99 | True  | [0.5, 1, 5]     | [0.0001, 0.001, 0.01]      | 5  | .001  | rbf | 99.7% | 47.0%\n",
    "s10 | Xsc, rgb  | yT | .99 | True  | no grid         | no grid                    | .1 | scale | rbf | 80.0% | 41.7%\n",
    "s11 | Xsc, rgb  | yT | .90 | True  | no grid         | no grid                    | 1  | scale | rbf | 91.6% | 55.9%\n",
    "s12 | Xsc, rgb  | yT | .95 | True  | [0.5, 0.75, 1, 2.5] | ['scale', 0.001, 0.005] | -  | - | rbf | - | -\n",
    "s13 | Xrc, rgb  | yT | .90 | True  | no grid         | no grid                    | 1  | scale | rbf | 92.1% | 57.6%\n",
    "s14 | Xr**, rgb | yT | .90 | True  | no grid         | no grid                    | 1  | scale | rbf | 92.1% | 57.6%\n",
    "s15 | Xrc, rgb  | yA | .90 | True  | no grid         | no grid                    | 1  | scale | rbf | 89.3% | 57.9%\n",
    "s16 | Xrc, rgb  | yT | .90 | True  | [0.5, 1, 2.5]   | ['scale', 0.001, 0.005]  | 2.5 | scale | rbf | 97.7% | 57.2%\n",
    "s17 | Xrc, rgb  | yT | .90 | True  | no grid         | no grid                  | 1  |  -  | linear | 58.5% | 49.7%\n",
    "s18 | Xrc, rgb  | yT | .90 | True  | no grid         | no grid                  | 1  | scale | poly | 84.1% | 43.6%\n",
    "s19 | Xfc, rgb  | yT | .90 | True  | no grid         | no grid                  | 1  | scale | rbf  | 93.0% | 62.2%\n",
    "s20 | Xfc, rgb  | yT | .90 | False | no grid         | no grid                  | 1  | scale | rbf  | 96.3% | 33.5%\n",
    "s21 | Xf2c, rgb | yT | .90 | True  | no grid         | no grid                  | 1  | scale | rbf  | 93.1% | 60.1%\n",
    "s22 | Xrc, rgb  | yT | .90 | True  | no grid         | no grid                  | 1  | scale | rbf  | 92.0% | 56.9%\n",
    "s23 | Xfc, rgb  | yF | .90 | True  | no grid         | no grid                  | 1  | scale | rbf  | 93.0% | 64.4%\n",
    "s24 | Xfc, rgb  | yS | .90 | True  | no grid         | no grid                  | 1  | scale | rbf  | 92.4% | 66.0%\n",
    "s25 | Xfc, rgb  | yA | .90 | True  | no grid         | no grid                  | 1  | scale | rbf  | 90.1% | 60.7%\n",
    "s26 | Xfc, rgb  | yE | .90 | True  | no grid         | no grid                  | 1  | scale | rbf  | 93.4% | 51.9%\n",
    "s27 | Xfc, rgb  | yI | .90 | True  | no grid         | no grid                  | 1  | scale | rbf  | 92.4% | 52.9%\n",
    "s28 | Xfc, rgb  | yI | .95 | True  | no grid         | no grid                  | 1  | scale | rbf  | 94.0% | 50.6%\n",
    "\n",
    "\n",
    "<br><br>\n",
    "\n",
    "**Final models:**\n",
    "\n",
    "model | X | y | n_comp | whiten |  C | gamma | kernel | train | test\n",
    "--- | --- | --- | --- | --- | --- | --- | --- | --- | ---\n",
    "s19 | Xfc, rgb  | yT | .90 | True  |  1  | scale | rbf  | 93.0% | 62.2%\n",
    "s23 | Xfc, rgb  | yF | .90 | True  |  1  | scale | rbf  | 93.0% | 64.4%\n",
    "s24 | Xfc, rgb  | yS | .90 | True  |  1  | scale | rbf  | 92.4% | 66.0%\n",
    "s25 | Xfc, rgb  | yA | .90 | True  |  1  | scale | rbf  | 90.1% | 60.7%\n",
    "s26 | Xfc, rgb  | yE | .90 | True  |  1  | scale | rbf  | 93.4% | 51.9%\n",
    "s27 | Xfc, rgb  | yI | .90 | True  |  1  | scale | rbf  | 92.4% | 52.9%\n",
    "\n",
    "\n",
    "\\* only 18 components extracted<br>\n",
    "\\** exactly same results as s13 (with Xrc)<br>\n",
    "c: image array was centered before PCA (although PCA in sklearn centers features by default, see \\**)\n",
    "\n",
    "---"
   ]
  }
 ],
 "metadata": {
  "accelerator": "GPU",
  "anaconda-cloud": {},
  "colab": {
   "collapsed_sections": [
    "OSRfEp0eKVQr",
    "fyZU6UFw-oS4",
    "VcI0rEBcLjID",
    "_RAD95sMFTP9",
    "7cCFHEKoFmDV",
    "HL6vqCniGWhR"
   ],
   "machine_shape": "hm",
   "name": "7_SVM_on_images.ipynb",
   "provenance": []
  },
  "kernelspec": {
   "display_name": "Python 3",
   "language": "python",
   "name": "python3"
  },
  "language_info": {
   "codemirror_mode": {
    "name": "ipython",
    "version": 3
   },
   "file_extension": ".py",
   "mimetype": "text/x-python",
   "name": "python",
   "nbconvert_exporter": "python",
   "pygments_lexer": "ipython3",
   "version": "3.6.6"
  }
 },
 "nbformat": 4,
 "nbformat_minor": 1
}
