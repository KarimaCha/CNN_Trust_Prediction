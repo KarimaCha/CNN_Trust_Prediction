{
 "cells": [
  {
   "cell_type": "markdown",
   "metadata": {
    "colab_type": "text",
    "id": "_3B2IUDUO-na"
   },
   "source": [
    "# Convolutional Neural Network (CNN) - Train\n",
    "This notebook includes predictive modeling of social ratings using Convolutional Neural Networks (CNNs) and transfer learning.\n",
    "<br><br>\n",
    "\n",
    "---\n",
    "### Content:\n",
    "- **1) Load Packages**\n",
    "- **2) Mount Google Cloud Storage (Bucket)**\n",
    "- **3) Load Data for Modeling**\n",
    "- **4) Preprocess Images**\n",
    "    - a) Mean-centering\n",
    "    - b) Data Augmentation\n",
    "- **5) Build Model**\n",
    "    - a) CNN from scratch (m01)\n",
    "    - b) Resnet50 as base model (m02)\n",
    "    - c) VGGface2 as base model (m03)\n",
    "    - d) Other base models (m04)\n",
    "- **6) Train Model**\n",
    "    - a) Run1: compile & train\n",
    "    - b) Run2: compile & train\n",
    "    - c) Run3: compile & train\n",
    "- **7) Save Model**\n",
    "- **8) Evaluate Model**\n",
    "    - a) Plot train history\n",
    "    - b) Plot model evaluation metrics\n",
    "    - c) Plot faces with min/max predicted ratings\n",
    "- **9) Appendix**\n",
    "    - a) Stratified train/val/test split\n",
    "    - b) Options for Data Augmentation\n",
    "    - c) Code Snippets\n",
    "---\n"
   ]
  },
  {
   "cell_type": "markdown",
   "metadata": {
    "colab_type": "text",
    "id": "ULZpopZvDnYZ"
   },
   "source": [
    "# 1) Load Packages"
   ]
  },
  {
   "cell_type": "code",
   "execution_count": 2,
   "metadata": {
    "colab": {
     "base_uri": "https://localhost:8080/",
     "height": 80
    },
    "colab_type": "code",
    "id": "uJCqwGyFzO7b",
    "outputId": "b9ed0e05-c3ad-47be-d7aa-5ac169c4669c"
   },
   "outputs": [
    {
     "data": {
      "text/html": [
       "<p style=\"color: red;\">\n",
       "The default version of TensorFlow in Colab will soon switch to TensorFlow 2.x.<br>\n",
       "We recommend you <a href=\"https://www.tensorflow.org/guide/migrate\" target=\"_blank\">upgrade</a> now \n",
       "or ensure your notebook will continue to use TensorFlow 1.x via the <code>%tensorflow_version 1.x</code> magic:\n",
       "<a href=\"https://colab.research.google.com/notebooks/tensorflow_version.ipynb\" target=\"_blank\">more info</a>.</p>\n"
      ],
      "text/plain": [
       "<IPython.core.display.HTML object>"
      ]
     },
     "metadata": {
      "tags": []
     },
     "output_type": "display_data"
    },
    {
     "data": {
      "text/plain": [
       "'1.15.0'"
      ]
     },
     "execution_count": 2,
     "metadata": {
      "tags": []
     },
     "output_type": "execute_result"
    }
   ],
   "source": [
    "# select tensorflow version (1 or 2)\n",
    "\n",
    "tf_version = 1\n",
    "\n",
    "from __future__ import absolute_import, division, print_function, unicode_literals\n",
    "\n",
    "if tf_version==2:\n",
    "    try:  # use %tensorflow_version magic in colab\n",
    "        %tensorflow_version 2.x \n",
    "    except Exception:\n",
    "        pass\n",
    "\n",
    "import tensorflow as tf\n",
    "from tensorflow import keras\n",
    "\n",
    "tf.__version__    # Note: version '2.1.0-rc1' supports GPU by default"
   ]
  },
  {
   "cell_type": "code",
   "execution_count": 3,
   "metadata": {
    "colab": {
     "base_uri": "https://localhost:8080/",
     "height": 34
    },
    "colab_type": "code",
    "id": "K2gcBXdcUiHL",
    "outputId": "4ab8feb2-f7ac-4600-ae23-adf8dae830fd"
   },
   "outputs": [
    {
     "data": {
      "text/plain": [
       "'/device:GPU:0'"
      ]
     },
     "execution_count": 3,
     "metadata": {
      "tags": []
     },
     "output_type": "execute_result"
    }
   ],
   "source": [
    "# test if GPU is used\n",
    "\n",
    "tf.test.gpu_device_name()"
   ]
  },
  {
   "cell_type": "code",
   "execution_count": 0,
   "metadata": {
    "colab": {},
    "colab_type": "code",
    "id": "k7e0asiPDNiH"
   },
   "outputs": [],
   "source": [
    "# tell TF to only display errors\n",
    "\n",
    "import logging\n",
    "logger = tf.get_logger()\n",
    "logger.setLevel(logging.ERROR)"
   ]
  },
  {
   "cell_type": "code",
   "execution_count": 0,
   "metadata": {
    "colab": {},
    "colab_type": "code",
    "id": "ZFYelZQFO3qz"
   },
   "outputs": [],
   "source": [
    "# import other basic packages\n",
    "\n",
    "import pandas as pd\n",
    "import numpy as np\n",
    "import os, os.path\n",
    "\n",
    "import seaborn as sns\n",
    "import matplotlib.pyplot as plt\n",
    " \n",
    "sns.set_style(\"white\")"
   ]
  },
  {
   "cell_type": "markdown",
   "metadata": {
    "colab_type": "text",
    "id": "mZlhn2fENHeg"
   },
   "source": [
    "---\n",
    "# 2) Mount Google Cloud Storage (Bucket)"
   ]
  },
  {
   "cell_type": "code",
   "execution_count": 0,
   "metadata": {
    "colab": {},
    "colab_type": "code",
    "id": "z_P51gH2mJbd"
   },
   "outputs": [],
   "source": [
    "# first install gcsfuse (allows to mount Cloud Storage buckets as file systems)\n",
    "# see: https://stackoverflow.com/questions/55253498/\n",
    "\n",
    "%%capture\n",
    "!echo \"deb http://packages.cloud.google.com/apt gcsfuse-bionic main\" > /etc/apt/sources.list.d/gcsfuse.list\n",
    "!curl https://packages.cloud.google.com/apt/doc/apt-key.gpg | apt-key add -\n",
    "!apt update\n",
    "!apt install gcsfuse"
   ]
  },
  {
   "cell_type": "code",
   "execution_count": 7,
   "metadata": {
    "colab": {
     "base_uri": "https://localhost:8080/",
     "height": 34
    },
    "colab_type": "code",
    "id": "GJC1oWnDmP5p",
    "outputId": "6fca6863-5833-4400-d550-12fcceec4355"
   },
   "outputs": [
    {
     "name": "stdout",
     "output_type": "stream",
     "text": [
      "Writing /key.json\n"
     ]
    }
   ],
   "source": [
    "%%writefile /key.json\n",
    "{\n",
    "  \"type\": \"service_account\",\n",
    "  \"project_id\": \"groovy-iris-261608\",\n",
    "  \"private_key_id\": \"c76405daf3425cec95b720bfd06619e7fedcf6ab\",\n",
    "  \"private_key\": \"xxxxx\",\n",
    "  \"client_email\": \"237395843415-compute@developer.gserviceaccount.com\",\n",
    "  \"client_id\": \"110383988897262773560\",\n",
    "  \"auth_uri\": \"https://accounts.google.com/o/oauth2/auth\",\n",
    "  \"token_uri\": \"https://oauth2.googleapis.com/token\",\n",
    "  \"auth_provider_x509_cert_url\": \"https://www.googleapis.com/oauth2/v1/certs\",\n",
    "  \"client_x509_cert_url\": \"https://www.googleapis.com/robot/v1/metadata/x509/237395843415-compute%40developer.gserviceaccount.com\"\n",
    "}"
   ]
  },
  {
   "cell_type": "code",
   "execution_count": 8,
   "metadata": {
    "colab": {
     "base_uri": "https://localhost:8080/",
     "height": 119
    },
    "colab_type": "code",
    "id": "YEe0EeUnvNMh",
    "outputId": "31905c86-2dea-41f1-df71-b0463414bfa8"
   },
   "outputs": [
    {
     "name": "stdout",
     "output_type": "stream",
     "text": [
      "env: GOOGLE_APPLICATION_CREDENTIALS=/key.json\n",
      "Using mount point: /content/my-bucket\n",
      "Opening GCS connection...\n",
      "Opening bucket...\n",
      "Mounting file system...\n",
      "File system has been successfully mounted.\n"
     ]
    }
   ],
   "source": [
    "# mount my google cloud bucket to colab filesystem\n",
    "\n",
    "%env GOOGLE_APPLICATION_CREDENTIALS=/key.json\n",
    "!mkdir /content/my-bucket\n",
    "!gcsfuse nf-capstone-bucket /content/my-bucket"
   ]
  },
  {
   "cell_type": "code",
   "execution_count": 9,
   "metadata": {
    "colab": {
     "base_uri": "https://localhost:8080/",
     "height": 34
    },
    "colab_type": "code",
    "id": "UWo2RRrAFSI-",
    "outputId": "4d144adb-8ff4-406c-e479-1c96b3a68c38"
   },
   "outputs": [
    {
     "data": {
      "text/plain": [
       "'66.4 GB'"
      ]
     },
     "execution_count": 9,
     "metadata": {
      "tags": []
     },
     "output_type": "execute_result"
    }
   ],
   "source": [
    "# show size of bucket folder\n",
    "\n",
    "from pathlib import Path\n",
    "from humanize import naturalsize\n",
    "naturalsize(sum(f.stat().st_size for f in Path(\"/content/my-bucket\").glob(\"**/*\")))"
   ]
  },
  {
   "cell_type": "code",
   "execution_count": 0,
   "metadata": {
    "colab": {},
    "colab_type": "code",
    "id": "HwfA9OSvIh8P"
   },
   "outputs": [],
   "source": [
    "# set paths to data and models\n",
    "\n",
    "data_dir_bucket = '/content/my-bucket/data/'\n",
    "models_dir_bucket = '/content/my-bucket/models/'\n",
    "\n",
    "# if kfold_1 folder is not shown, create an object for it to access folder\n",
    "# see: https://github.com/GoogleCloudPlatform/gcsfuse/issues/141\n",
    "if os.path.isdir(data_dir_bucket + 'kfold_1/') == False:\n",
    "    print('making directory:', data_dir_bucket + 'kfold_1/')\n",
    "    os.mkdir(data_dir_bucket + 'kfold_1/')"
   ]
  },
  {
   "cell_type": "markdown",
   "metadata": {
    "colab_type": "text",
    "id": "MZ7dWDuKEwBB"
   },
   "source": [
    "---\n",
    "# 3) Load Data for Modeling"
   ]
  },
  {
   "cell_type": "code",
   "execution_count": 0,
   "metadata": {
    "colab": {},
    "colab_type": "code",
    "id": "3FmTHjOZW-ie"
   },
   "outputs": [],
   "source": [
    "# choose type of X (images) and y (ratings) for modeling\n",
    "\n",
    "y_name = 'yT'    # yT (trustworthy), yF (friendly), yS (sociable), yA (attractive), yE (emotional), yI (intelligent)\n",
    "X_name = 'Xf'    # Xr, Xs, Xp (load raw, non-centered image data)"
   ]
  },
  {
   "cell_type": "code",
   "execution_count": 0,
   "metadata": {
    "colab": {},
    "colab_type": "code",
    "id": "RYcij2BauBcP"
   },
   "outputs": [],
   "source": [
    "# load indices for stratified train/validation/test set and split data accordingly\n",
    "\n",
    "skfold_folder = 'skfold_1/'\n",
    "\n",
    "idx_train = np.load(data_dir_bucket + skfold_folder + y_name + '_train_indices.npy')\n",
    "idx_test = np.load(data_dir_bucket + skfold_folder + y_name + '_test_indices.npy')\n",
    "idx_val = np.load(data_dir_bucket + skfold_folder + y_name + '_val_indices.npy')\n",
    "\n",
    "y = np.load(data_dir_bucket + y_name + '.npy')\n",
    "X = np.load(data_dir_bucket + X_name + '.npy')\n",
    "\n",
    "y_train = y[idx_train]  \n",
    "y_test = y[idx_test]    \n",
    "y_val = y[idx_val]      \n",
    "\n",
    "X_train = X[idx_train] \n",
    "X_test = X[idx_test]    \n",
    "X_val = X[idx_val]      "
   ]
  },
  {
   "cell_type": "code",
   "execution_count": 0,
   "metadata": {
    "colab": {},
    "colab_type": "code",
    "id": "sHg_vLy0gA-c"
   },
   "outputs": [],
   "source": [
    "# delete unsplit X and y data to free up RAM\n",
    "del X, y"
   ]
  },
  {
   "cell_type": "code",
   "execution_count": 14,
   "metadata": {
    "colab": {
     "base_uri": "https://localhost:8080/",
     "height": 34
    },
    "colab_type": "code",
    "id": "KcFLqfmVT03h",
    "outputId": "ebc18126-19d2-4a98-f2de-ccd35ee18546"
   },
   "outputs": [
    {
     "data": {
      "text/plain": [
       "(1554, 334, 334, 2222)"
      ]
     },
     "execution_count": 14,
     "metadata": {
      "tags": []
     },
     "output_type": "execute_result"
    }
   ],
   "source": [
    "# get size of train, validation and test set\n",
    "\n",
    "n_train = len(y_train)\n",
    "n_val = len(y_val)\n",
    "n_test = len(y_test)\n",
    "\n",
    "n_train, n_val, n_test, n_train + n_val + n_test"
   ]
  },
  {
   "cell_type": "code",
   "execution_count": 15,
   "metadata": {
    "colab": {
     "base_uri": "https://localhost:8080/",
     "height": 283
    },
    "colab_type": "code",
    "id": "8lYWYVn7n1-q",
    "outputId": "c7d7658b-542d-4718-fe5c-0bc0f12d5da0"
   },
   "outputs": [
    {
     "data": {
      "image/png": "[encoded data removed]",
      "text/plain": [
       "<Figure size 432x288 with 1 Axes>"
      ]
     },
     "metadata": {
      "tags": []
     },
     "output_type": "display_data"
    }
   ],
   "source": [
    "# check stratification for y\n",
    "\n",
    "sns.distplot(y_train, bins=25)\n",
    "sns.distplot(y_val, bins=25)\n",
    "sns.distplot(y_test, bins=25)\n",
    "plt.legend(labels=['train','val','test'], loc='upper left', fontsize=12)\n",
    "plt.title('Rating distribution', size=15);"
   ]
  },
  {
   "cell_type": "code",
   "execution_count": null,
   "metadata": {
    "colab": {
     "base_uri": "https://localhost:8080/",
     "height": 196
    },
    "colab_type": "code",
    "id": "tNksYwsehITN",
    "outputId": "7c05c99c-3e2f-4d22-9a53-3ba513ef7202"
   },
   "outputs": [],
   "source": [
    "# plot example images with min/max ratings for each data subset (train/test/val)\n",
    "# Note: output not shown in GitHub because of license agreement for face images\n",
    "\n",
    "plt.figure(figsize=(13,4))\n",
    "\n",
    "# train data with min and max rating\n",
    "plt.subplot(161)\n",
    "idx = y_train.argmin()\n",
    "plt.imshow(X_train[idx])  # /255.0)\n",
    "plt.title('train - min\\n{:.2f}'.format(y_train[idx]));\n",
    "\n",
    "plt.subplot(162)\n",
    "idx = y_train.argmax() \n",
    "plt.imshow(X_train[idx]) # /255.0)\n",
    "plt.title('train - max\\n{:.2f}'.format(y_train[idx]));\n",
    "\n",
    "\n",
    "# validation data with min and max rating\n",
    "plt.subplot(163)\n",
    "idx = y_val.argmin()\n",
    "plt.imshow(X_val[idx])  # /255.0)\n",
    "plt.title('val - min\\n{:.2f}'.format(y_val[idx]));\n",
    "\n",
    "plt.subplot(164)\n",
    "idx = y_val.argmax() \n",
    "plt.imshow(X_val[idx]) # /255.0)\n",
    "plt.title('val - max\\n{:.2f}'.format(y_val[idx]));\n",
    "\n",
    "\n",
    "# test data with min and max rating\n",
    "plt.subplot(165)\n",
    "idx = y_test.argmin()\n",
    "plt.imshow(X_test[idx])  # /255.0)\n",
    "plt.title('test - min\\n{:.2f}'.format(y_test[idx]));\n",
    "\n",
    "plt.subplot(166)\n",
    "idx = y_test.argmax()\n",
    "plt.imshow(X_test[idx])  # /255.0)\n",
    "plt.title('test - max\\n{:.2f}'.format(y_test[idx]));\n",
    "plt.tight_layout();"
   ]
  },
  {
   "cell_type": "markdown",
   "metadata": {
    "colab_type": "text",
    "id": "SweShasPvVcv"
   },
   "source": [
    "---\n",
    "# 4) Preprocess Images"
   ]
  },
  {
   "cell_type": "markdown",
   "metadata": {
    "colab_type": "text",
    "id": "AWTs596LlTrr"
   },
   "source": [
    "## a) Mean-centering"
   ]
  },
  {
   "cell_type": "code",
   "execution_count": 17,
   "metadata": {
    "colab": {
     "base_uri": "https://localhost:8080/",
     "height": 34
    },
    "colab_type": "code",
    "id": "QhM0NDjjxx7U",
    "outputId": "ef51e734-f455-42ad-87e5-e6e5496850c5"
   },
   "outputs": [
    {
     "data": {
      "text/plain": [
       "(224, 224, 3)"
      ]
     },
     "execution_count": 17,
     "metadata": {
      "tags": []
     },
     "output_type": "execute_result"
    }
   ],
   "source": [
    "# take the mean of training set for mean-centering of train/val/test set later\n",
    "\n",
    "X_mean = np.mean(X_train, axis=0)\n",
    "X_mean.shape"
   ]
  },
  {
   "cell_type": "code",
   "execution_count": 0,
   "metadata": {
    "colab": {},
    "colab_type": "code",
    "id": "8uCNWMWrybHh"
   },
   "outputs": [],
   "source": [
    "# write functon to center (or decenter) X using mean of training data:\n",
    "\n",
    "def center_X(X):\n",
    "    return X - X_mean\n",
    "\n",
    "def decenter_X(X):\n",
    "    return X + X_mean"
   ]
  },
  {
   "cell_type": "code",
   "execution_count": 19,
   "metadata": {
    "colab": {
     "base_uri": "https://localhost:8080/",
     "height": 283
    },
    "colab_type": "code",
    "id": "yJ3ePhr-kj47",
    "outputId": "fde5b4a4-ee4c-4cb5-f919-e8e5d2120747"
   },
   "outputs": [
    {
     "data": {
      "image/png": "[encoded data removed]",
      "text/plain": [
       "<Figure size 864x288 with 1 Axes>"
      ]
     },
     "metadata": {
      "tags": []
     },
     "output_type": "display_data"
    }
   ],
   "source": [
    "# plot pixel value distribution for raw and centered image arrays\n",
    "\n",
    "fig = plt.figure(figsize=(12,4))\n",
    "fig.add_subplot(121)\n",
    "sns.distplot(X_train[:10,:,:,:].ravel(), bins=25); \n",
    "sns.distplot(center_X(X_train)[:10,:,:,:].ravel(), bins=25); \n",
    "plt.legend(labels=['raw','centered'], loc='upper left', fontsize=12)\n",
    "plt.title('Pixel value distribution', size=15);"
   ]
  },
  {
   "cell_type": "markdown",
   "metadata": {
    "colab_type": "text",
    "id": "nbtYJyRplWwa"
   },
   "source": [
    "## b) Data Augmentation"
   ]
  },
  {
   "cell_type": "markdown",
   "metadata": {
    "colab_type": "text",
    "id": "VYho1QprlxQj"
   },
   "source": [
    "**Some notes about data augmentation**:\n",
    "- see: https://stackoverflow.com/questions/42443936/; https://github.com/keras-team/keras/issues/5862\n",
    "\n",
    "Data augmentation takes the approach of generating more training data from existing training samples by augmenting the samples using random transformations that yield believable-looking images. This helps expose the model to more aspects of the data and generalize better.\n",
    "\n",
    "Implement this in tf.keras using the ImageDataGenerator class. Pass different transformations to the dataset and it will take care of applying it during the training process.\n",
    "\n",
    "CAVE: Generally, only apply data augmentation to the TRAINING examples (not on VALIDATION/TEST examples)!\n"
   ]
  },
  {
   "cell_type": "code",
   "execution_count": 0,
   "metadata": {
    "colab": {},
    "colab_type": "code",
    "id": "KlW02RMcyYQx"
   },
   "outputs": [],
   "source": [
    "# Option 1: for non-extracted face images\n",
    "\n",
    "from tensorflow.keras.preprocessing.image import ImageDataGenerator\n",
    "\n",
    "if X_name == 'Xs':\n",
    "    traingen = ImageDataGenerator(\n",
    "                        # rescale=1./255,         # not needed here, already 0-1\n",
    "                        rotation_range=15,        # degree range for random rotations\n",
    "                        # brightness_range=[0.5,1.0], # randomly brighten (>1) or darken (<1) the image\n",
    "                        width_shift_range=.1,     # fraction of total width (if <1)\n",
    "                        height_shift_range=.1,    # fraction of total width (if <1)\n",
    "                        fill_mode='constant',     # points outside the boundaries of the input are filled according to the given mode\n",
    "                        cval=1,                   # value used for points outside the boundaries when fill_mode = \"constant\"\n",
    "                        horizontal_flip=True      # makes randomly mirror-images\n",
    "                        #shear_range=140,         # shear intensity (don't apply, distorts the faces!)\n",
    "                        #zoom_range=0.1)          # range for random zoom (don't apply, distorts the faces!)\n",
    "                        \n",
    "  \n",
    "# compute quantities required for featurewise normalization\n",
    "# only required if featurewise_center or featurewise_std_normalization or zca_whitening are set to True.\n",
    "# datagen.fit(center_X(X_train))"
   ]
  },
  {
   "cell_type": "code",
   "execution_count": 0,
   "metadata": {
    "colab": {},
    "colab_type": "code",
    "id": "HmA1Dl7e2Cld"
   },
   "outputs": [],
   "source": [
    "# Option 2: for extracted face images\n",
    "\n",
    "from tensorflow.keras.preprocessing.image import ImageDataGenerator\n",
    "\n",
    "if X_name == 'Xf':\n",
    "    traingen = ImageDataGenerator(\n",
    "                        rescale=1./255,             # not needed here, already 0-1 >> but use if brightness_range is applied!\n",
    "                        rotation_range=10,          # degree range for random rotations\n",
    "                        brightness_range=[0.8,1.2], # randomly brighten (>1) or darken (<1) the image\n",
    "                        # width_shift_range=.1,     # fraction of total width (if <1)\n",
    "                        # height_shift_range=.1,    # fraction of total width (if <1)\n",
    "                        fill_mode='nearest',        # points outside the boundaries of the input are filled according to the given mode\n",
    "                        #cval=1,                    # value used for points outside the boundaries when fill_mode = \"constant\"\n",
    "                        horizontal_flip=True,       # makes randomly mirror-images\n",
    "                        #shear_range=140,           # shear intensity (don't apply, distorts the faces!)\n",
    "                        zoom_range=0.1,             # range for random zoom (don't apply, distorts the faces!)\n",
    "                        )"
   ]
  },
  {
   "cell_type": "code",
   "execution_count": 36,
   "metadata": {
    "colab": {
     "base_uri": "https://localhost:8080/",
     "height": 416
    },
    "colab_type": "code",
    "id": "Birn3f0G6kXC",
    "outputId": "bff4a020-bb87-4d51-b026-c07b9e7b8f87"
   },
   "outputs": [
    {
     "data": {
      "image/png": "[encoded data removed]",
      "text/plain": [
       "<Figure size 1080x504 with 10 Axes>"
      ]
     },
     "metadata": {
      "tags": []
     },
     "output_type": "display_data"
    }
   ],
   "source": [
    "# check what the generator does to one example image (use publication-friendly images for demonstration)\n",
    "\n",
    "n_gen = 10\n",
    "img_idx = 12\n",
    "\n",
    "X_public = np.load(data_dir_bucket + 'Xf_public.npy')\n",
    "\n",
    "fig = plt.figure(figsize=(15,7))\n",
    "for i, (X_gen, y_gen) in enumerate(traingen.flow(X_public[img_idx:img_idx+1,], \n",
    "                                   y_train[img_idx:img_idx+1,], # ,seed=0\n",
    "                                   batch_size=1),start=1):\n",
    "    plt.subplot(2,5,i)\n",
    "    plt.imshow(X_gen[0])\n",
    "    plt.title(y_gen[0])\n",
    "    i += 1\n",
    "    if i > n_gen:\n",
    "        break"
   ]
  },
  {
   "cell_type": "markdown",
   "metadata": {
    "colab_type": "text",
    "id": "9aQP8e41D-YM"
   },
   "source": [
    "---\n",
    "# 5) Build Model\n",
    "Note: For the following models, the abbreviation **aug** always refers to **image data augmentation** and the abbreviation **reg** to **regularization**."
   ]
  },
  {
   "cell_type": "markdown",
   "metadata": {
    "colab_type": "text",
    "id": "khtsSe59_uGS"
   },
   "source": [
    "## a) CNN from scratch (m01)\n"
   ]
  },
  {
   "cell_type": "markdown",
   "metadata": {
    "colab_type": "text",
    "id": "SjV3mPZ5Xr1I"
   },
   "source": [
    "### m01a: simple model (no aug/reg)"
   ]
  },
  {
   "cell_type": "code",
   "execution_count": 0,
   "metadata": {
    "colab": {},
    "colab_type": "code",
    "id": "cYY48bj8YOlR"
   },
   "outputs": [],
   "source": [
    "# see: https://towardsdatascience.com/a-comprehensive-hands-on-guide-to-transfer-learning-with-real-world-applications-in-deep-learning-212bf3b2f27a\n",
    "\n",
    "def create_model_m01a():\n",
    "    name = 'm01a'\n",
    "\n",
    "    from tensorflow.keras.layers import Conv2D, MaxPooling2D, Flatten, Dense\n",
    "    from tensorflow.keras.models import Sequential\n",
    "\n",
    "    input_shape = X_train[0].shape\n",
    "    model = Sequential(name=name)\n",
    "\n",
    "    model.add(Conv2D(16, kernel_size=(3, 3), activation='relu', \n",
    "                  input_shape=input_shape))\n",
    "    model.add(MaxPooling2D(pool_size=(2, 2)))\n",
    "\n",
    "    model.add(Conv2D(64, kernel_size=(3, 3), activation='relu'))\n",
    "    model.add(MaxPooling2D(pool_size=(2, 2)))\n",
    "\n",
    "    model.add(Conv2D(128, kernel_size=(3, 3), activation='relu'))\n",
    "    model.add(MaxPooling2D(pool_size=(2, 2)))\n",
    "\n",
    "    model.add(Conv2D(128, kernel_size=(3, 3), activation='relu'))\n",
    "    model.add(MaxPooling2D(pool_size=(2, 2)))\n",
    "\n",
    "    model.add(Flatten())\n",
    "    model.add(Dense(512, activation='relu'))\n",
    "    model.add(Dense(512, activation='relu'))\n",
    "    model.add(Dense(1, name='regressor'))\n",
    "\n",
    "    return model"
   ]
  },
  {
   "cell_type": "code",
   "execution_count": 0,
   "metadata": {
    "colab": {},
    "colab_type": "code",
    "id": "q_sBMsEyKQoT"
   },
   "outputs": [],
   "source": [
    "# include preprocess_input function into data generator for train and val set\n",
    "\n",
    "def preprocess_input_center(x):\n",
    "    return center_X(x)\n",
    "\n",
    "traingen = ImageDataGenerator(preprocessing_function = preprocess_input_center)\n",
    "valgen = ImageDataGenerator(preprocessing_function = preprocess_input_center)"
   ]
  },
  {
   "cell_type": "markdown",
   "metadata": {
    "colab_type": "text",
    "id": "HH3HbiJuQvI1"
   },
   "source": [
    "### m01b: simple model with different architecture (no aug/reg)"
   ]
  },
  {
   "cell_type": "code",
   "execution_count": 0,
   "metadata": {
    "colab": {},
    "colab_type": "code",
    "id": "-3koDkPTQvI5"
   },
   "outputs": [],
   "source": [
    "# see: paper from Messer & Fausser\n",
    "\n",
    "def create_model_m01b():\n",
    "    name = 'm01b'\n",
    "\n",
    "    from tensorflow.keras.layers import Conv2D, MaxPooling2D, Flatten, Dense\n",
    "    from tensorflow.keras.models import Sequential\n",
    "\n",
    "    input_shape = X_train[0].shape\n",
    "    model = Sequential(name=name)\n",
    "\n",
    "    model.add(Conv2D(32, kernel_size=(3, 3), activation='relu', \n",
    "                     input_shape=input_shape))\n",
    "    model.add(MaxPooling2D(pool_size=(2, 2)))\n",
    "\n",
    "    model.add(Conv2D(32, kernel_size=(3, 3), activation='relu'))\n",
    "    model.add(MaxPooling2D(pool_size=(2, 2)))\n",
    "\n",
    "    model.add(Conv2D(64, kernel_size=(3, 3), activation='relu'))\n",
    "    model.add(MaxPooling2D(pool_size=(2, 2)))\n",
    "\n",
    "    model.add(Flatten())\n",
    "    model.add(Dense(64, activation='relu'))\n",
    "    model.add(Dense(1, name='regressor'))\n",
    "\n",
    "    return model"
   ]
  },
  {
   "cell_type": "code",
   "execution_count": 0,
   "metadata": {
    "colab": {},
    "colab_type": "code",
    "id": "LATv3PTIQvI8"
   },
   "outputs": [],
   "source": [
    "# include preprocess_input function into data generator for train and val set\n",
    "\n",
    "def preprocess_input_center(x):\n",
    "    return center_X(x)\n",
    "  \n",
    "traingen = ImageDataGenerator(preprocessing_function = preprocess_input_center)\n",
    "valgen = ImageDataGenerator(preprocessing_function = preprocess_input_center)"
   ]
  },
  {
   "cell_type": "markdown",
   "metadata": {
    "colab_type": "text",
    "id": "Cim9YxzhUhTT"
   },
   "source": [
    "### m01c: m01a + aug (no reg)"
   ]
  },
  {
   "cell_type": "code",
   "execution_count": 0,
   "metadata": {
    "colab": {},
    "colab_type": "code",
    "id": "AykFodH4UhTg"
   },
   "outputs": [],
   "source": [
    "# include preprocess_input function into data generator for train and val set\n",
    "\n",
    "def preprocess_input_center(x):\n",
    "    return center_X(x)\n",
    "  \n",
    "traingen = ImageDataGenerator(\n",
    "                        rescale=1./255,           # not needed here, already 0-1 >> but use if brightness_range is applied!\n",
    "                        rotation_range=10,        # degree range for random rotations\n",
    "                        brightness_range=[0.8,1.2], # randomly brighten (>1) or darken (<1) the image\n",
    "                        fill_mode='nearest',      # points outside the boundaries of the input are filled according to the given mode\n",
    "                        horizontal_flip=True,     # makes randomly mirror-images\n",
    "                        zoom_range=0.1,           # range for random zoom\n",
    "                        preprocessing_function = preprocess_input_center)\n",
    "\n",
    "valgen = ImageDataGenerator(preprocessing_function = preprocess_input_center)"
   ]
  },
  {
   "cell_type": "markdown",
   "metadata": {
    "colab_type": "text",
    "id": "EGyE970ScP5g"
   },
   "source": [
    "### m01d: m01a + different aug (no reg)"
   ]
  },
  {
   "cell_type": "code",
   "execution_count": 0,
   "metadata": {
    "colab": {},
    "colab_type": "code",
    "id": "OZFbhlukcP5p"
   },
   "outputs": [],
   "source": [
    "# include preprocess_input function into data generator for train and val set\n",
    "\n",
    "def preprocess_input_center(x):\n",
    "    x_pp = center_X(x)\n",
    "    return x_pp\n",
    "  \n",
    "traingen = ImageDataGenerator(\n",
    "                        rescale=1./255,             # not needed here, already 0-1 >> but use if brightness_range is applied!\n",
    "                        rotation_range=10,          # degree range for random rotations\n",
    "                        brightness_range=[0.9,1.1], # randomly brighten (>1) or darken (<1) the image\n",
    "                        fill_mode='nearest',        # points outside the boundaries of the input are filled according to the given mode\n",
    "                        horizontal_flip=True,       # makes randomly mirror-images\n",
    "                        #zoom_range=0.1,            # range for random zoom\n",
    "                        preprocessing_function = preprocess_input_center)\n",
    "\n",
    "valgen = ImageDataGenerator(preprocessing_function = preprocess_input_center)"
   ]
  },
  {
   "cell_type": "markdown",
   "metadata": {
    "colab_type": "text",
    "id": "hLYouLPZKQoJ"
   },
   "source": [
    "### m01e: m01a + dropout (no aug)\n"
   ]
  },
  {
   "cell_type": "code",
   "execution_count": 0,
   "metadata": {
    "colab": {},
    "colab_type": "code",
    "id": "uWcYO1l5KQoQ"
   },
   "outputs": [],
   "source": [
    "def create_model_m01e():\n",
    "    name = 'm01e'\n",
    "\n",
    "    from tensorflow.keras.layers import Conv2D, MaxPooling2D, Flatten, Dense, Dropout\n",
    "    from tensorflow.keras.models import Sequential\n",
    "\n",
    "    input_shape = X_train[0].shape\n",
    "    model = Sequential(name=name)\n",
    "\n",
    "    model.add(Conv2D(16, kernel_size=(3, 3), activation='relu', \n",
    "                     input_shape=input_shape))\n",
    "    model.add(MaxPooling2D(pool_size=(2, 2)))\n",
    "\n",
    "    model.add(Conv2D(64, kernel_size=(3, 3), activation='relu'))\n",
    "    model.add(MaxPooling2D(pool_size=(2, 2)))\n",
    "\n",
    "    model.add(Conv2D(128, kernel_size=(3, 3), activation='relu'))\n",
    "    model.add(MaxPooling2D(pool_size=(2, 2)))\n",
    "\n",
    "    model.add(Conv2D(128, kernel_size=(3, 3), activation='relu'))\n",
    "    model.add(MaxPooling2D(pool_size=(2, 2)))\n",
    "\n",
    "    model.add(Flatten())\n",
    "    model.add(Dense(512, activation='relu'))\n",
    "    model.add(Dropout(0.3))                     # added Dropout\n",
    "\n",
    "    model.add(Dense(512, activation='relu'))\n",
    "    model.add(Dropout(0.3))                     # added Dropout\n",
    "\n",
    "    model.add(Dense(1, name='regressor'))\n",
    "\n",
    "    return model"
   ]
  },
  {
   "cell_type": "code",
   "execution_count": 0,
   "metadata": {
    "colab": {},
    "colab_type": "code",
    "id": "19cwuDTGG3sJ"
   },
   "outputs": [],
   "source": [
    "# include preprocess_input function into data generator for train and val set\n",
    "\n",
    "def preprocess_input_center(x):\n",
    "    return center_X(x)\n",
    "  \n",
    "traingen = ImageDataGenerator(preprocessing_function = preprocess_input_center)\n",
    "valgen = ImageDataGenerator(preprocessing_function = preprocess_input_center)"
   ]
  },
  {
   "cell_type": "markdown",
   "metadata": {
    "colab_type": "text",
    "id": "GsorwE1AXz7l"
   },
   "source": [
    "## b) Resnet50 as base model (m02)"
   ]
  },
  {
   "cell_type": "markdown",
   "metadata": {
    "colab_type": "text",
    "id": "V4C3dcvZdUYo"
   },
   "source": [
    "### m02a: Resnet50 + Dense (no aug/reg)"
   ]
  },
  {
   "cell_type": "code",
   "execution_count": 0,
   "metadata": {
    "colab": {},
    "colab_type": "code",
    "id": "_oDd22Yg_1Yf"
   },
   "outputs": [],
   "source": [
    "# see: https://github.com/shudima/notebooks/blob/master/Beauty%20Classifier.ipynb\n",
    "\n",
    "def create_model_m02a():\n",
    "    name = 'm02a'\n",
    "\n",
    "    # load dependencies for keras model\n",
    "    from tensorflow.keras.models import Sequential\n",
    "    from tensorflow.keras.applications import ResNet50\n",
    "    from tensorflow.keras.layers import Dense, Flatten, GlobalAveragePooling2D\n",
    "\n",
    "    input_shape = X_train[0].shape\n",
    "    resnet = ResNet50(include_top=False, \n",
    "                      pooling='avg', \n",
    "                      weights='imagenet',\n",
    "                      input_shape=input_shape) # https://keras.io/applications/#resnet: default input size for this model is 224x224\n",
    "  \n",
    "    # build model\n",
    "    model = Sequential(name=name)\n",
    "    model.add(resnet)\n",
    "    model.add(Dense(1, name='regressor'))\n",
    "\n",
    "    return model"
   ]
  },
  {
   "cell_type": "code",
   "execution_count": 0,
   "metadata": {
    "colab": {},
    "colab_type": "code",
    "id": "8H9thFkGknPv"
   },
   "outputs": [],
   "source": [
    "# include preprocess_input function into data generator for train and val set\n",
    "# Caution: using 'x_new = preprocess_input(x)' does also change x!\n",
    "\n",
    "from tensorflow.keras.applications.resnet50 import preprocess_input\n",
    "\n",
    "def preprocess_input_resnet50(x):\n",
    "    x_pp = preprocess_input(x*255)\n",
    "    return x_pp\n",
    "\n",
    "traingen = ImageDataGenerator(preprocessing_function = preprocess_input_resnet50)\n",
    "valgen = ImageDataGenerator(preprocessing_function = preprocess_input_resnet50)"
   ]
  },
  {
   "cell_type": "markdown",
   "metadata": {
    "colab_type": "text",
    "id": "dSFshkxpjyjm"
   },
   "source": [
    "### m02b: m02a + aug (no reg)"
   ]
  },
  {
   "cell_type": "code",
   "execution_count": 0,
   "metadata": {
    "colab": {},
    "colab_type": "code",
    "id": "9404xP96jyju"
   },
   "outputs": [],
   "source": [
    "# include preprocess_input function into data generator for train and val set\n",
    "# Caution: using 'x_new = preprocess_input(x)' does also change x!\n",
    "\n",
    "from tensorflow.keras.applications.resnet50 import preprocess_input\n",
    "\n",
    "def preprocess_input_resnet50(x):\n",
    "    x_pp = preprocess_input(x*255)\n",
    "    return x_pp\n",
    "\n",
    "traingen = ImageDataGenerator(\n",
    "                        #rescale=1./255,          # not needed here, already 0-1 >> but use if brightness_range is applied!!!\n",
    "                        rotation_range=10,        # degree range for random rotations\n",
    "                        #brightness_range=[0.8,1.2], # randomly brighten (>1) or darken (<1) the image\n",
    "                        fill_mode='nearest',      # points outside the boundaries of the input are filled according to the given mode\n",
    "                        horizontal_flip=True,     # makes randomly mirror-images\n",
    "                        zoom_range=0.1,           # range for random zoom\n",
    "                        preprocessing_function = preprocess_input_resnet50)\n",
    "\n",
    "valgen = ImageDataGenerator(preprocessing_function = preprocess_input_resnet50)"
   ]
  },
  {
   "cell_type": "markdown",
   "metadata": {
    "colab_type": "text",
    "id": "FT2yjwa9nb5i"
   },
   "source": [
    "### m02c: Resnet50 + 3 Dense (no aug/reg)"
   ]
  },
  {
   "cell_type": "code",
   "execution_count": 0,
   "metadata": {
    "colab": {},
    "colab_type": "code",
    "id": "8Yf3gVtqnb5p"
   },
   "outputs": [],
   "source": [
    "# see: https://github.com/shudima/notebooks/blob/master/Beauty%20Classifier.ipynb\n",
    "\n",
    "def create_model_m02c():\n",
    "    name = 'm02c'\n",
    "\n",
    "    # load dependencies for keras model\n",
    "    from tensorflow.keras.models import Sequential\n",
    "    from tensorflow.keras.applications import ResNet50\n",
    "    from tensorflow.keras.layers import Dense, Flatten, GlobalAveragePooling2D\n",
    "\n",
    "    input_shape = X_train[0].shape\n",
    "    resnet = ResNet50(include_top=False, \n",
    "                      pooling='avg', \n",
    "                      weights='imagenet',\n",
    "                      input_shape=input_shape) # https://keras.io/applications/#resnet: default input size for this model is 224x224\n",
    "  \n",
    "    # build model\n",
    "    model = Sequential(name=name)\n",
    "    model.add(resnet)\n",
    "    model.add(Flatten())\n",
    "    model.add(Dense(2048, activation='relu'))\n",
    "    model.add(Dense(2048, activation='relu'))\n",
    "    model.add(Dense(1, name='regressor'))\n",
    "\n",
    "    return model"
   ]
  },
  {
   "cell_type": "code",
   "execution_count": 0,
   "metadata": {
    "colab": {},
    "colab_type": "code",
    "id": "Yj2pk1tFnb5s"
   },
   "outputs": [],
   "source": [
    "# include preprocess_input function into data generator for train and val set\n",
    "# Caution: using 'x_new = preprocess_input(x)' does also change x!\n",
    "\n",
    "from tensorflow.keras.applications.resnet50 import preprocess_input\n",
    "\n",
    "def preprocess_input_resnet50(x):\n",
    "    x_pp = preprocess_input(x*255)\n",
    "    return x_pp\n",
    "\n",
    "traingen = ImageDataGenerator(preprocessing_function = preprocess_input_resnet50)\n",
    "valgen = ImageDataGenerator(preprocessing_function = preprocess_input_resnet50)"
   ]
  },
  {
   "cell_type": "markdown",
   "metadata": {
    "colab_type": "text",
    "id": "8PDHzZ4is-OD"
   },
   "source": [
    "### m02d: m02c + aug (no reg)"
   ]
  },
  {
   "cell_type": "code",
   "execution_count": 0,
   "metadata": {
    "colab": {},
    "colab_type": "code",
    "id": "RsE_elDCtm1B"
   },
   "outputs": [],
   "source": [
    "# include preprocess_input function into data generator for train and val set\n",
    "# Caution: using 'x_new = preprocess_input(x)' does also change x!\n",
    "\n",
    "from tensorflow.keras.applications.resnet50 import preprocess_input\n",
    "\n",
    "def preprocess_input_resnet50(x):\n",
    "    x_pp = preprocess_input(x*255)\n",
    "    return x_pp\n",
    "\n",
    "traingen = ImageDataGenerator(\n",
    "                        #rescale=1./255,          # not needed here, already 0-1 >> but use if brightness_range is applied!!!\n",
    "                        rotation_range=10,        # degree range for random rotations\n",
    "                        #brightness_range=[0.8,1.2], # randomly brighten (>1) or darken (<1) the image\n",
    "                        fill_mode='nearest',      # points outside the boundaries of the input are filled according to the given mode\n",
    "                        horizontal_flip=True,     # makes randomly mirror-images\n",
    "                        zoom_range=0.1,           # range for random zoom\n",
    "                        preprocessing_function = preprocess_input_resnet50)\n",
    "\n",
    "valgen = ImageDataGenerator(preprocessing_function = preprocess_input_resnet50)"
   ]
  },
  {
   "cell_type": "markdown",
   "metadata": {
    "colab_type": "text",
    "id": "zd1ixjZ6xNAl"
   },
   "source": [
    "### m02e: m02c + aug + reg (Dropout)"
   ]
  },
  {
   "cell_type": "code",
   "execution_count": 0,
   "metadata": {
    "colab": {},
    "colab_type": "code",
    "id": "NXLZY2z3xXcp"
   },
   "outputs": [],
   "source": [
    "# see: https://github.com/shudima/notebooks/blob/master/Beauty%20Classifier.ipynb\n",
    "\n",
    "def create_model_m02e():\n",
    "    name = 'm02e'\n",
    "\n",
    "    # load dependencies for keras model\n",
    "    from tensorflow.keras.models import Sequential\n",
    "    from tensorflow.keras.applications import ResNet50\n",
    "    from tensorflow.keras.layers import Dense, Flatten, GlobalAveragePooling2D, Dropout\n",
    "\n",
    "    input_shape = X_train[0].shape\n",
    "    resnet = ResNet50(include_top=False, \n",
    "                      pooling='avg', \n",
    "                      weights='imagenet',\n",
    "                      input_shape=input_shape) # https://keras.io/applications/#resnet: default input size for this model is 224x224\n",
    "  \n",
    "    # build model\n",
    "    model = Sequential(name=name)\n",
    "    model.add(resnet)\n",
    "    model.add(Flatten())\n",
    "    model.add(Dense(2048, activation='relu'))\n",
    "    model.add(Dropout(0.3))                    # added dropout\n",
    "    model.add(Dense(2048, activation='relu'))\n",
    "    model.add(Dropout(0.3))                    # added dropout\n",
    "    model.add(Dense(1, name='regressor'))\n",
    "\n",
    "    return model"
   ]
  },
  {
   "cell_type": "code",
   "execution_count": 0,
   "metadata": {
    "colab": {},
    "colab_type": "code",
    "id": "Gl-zfTsuxNAo"
   },
   "outputs": [],
   "source": [
    "# include preprocess_input function into data generator for train and val set\n",
    "# Caution: using 'x_new = preprocess_input(x)' does also change x!\n",
    "\n",
    "from tensorflow.keras.applications.resnet50 import preprocess_input\n",
    "\n",
    "def preprocess_input_resnet50(x):\n",
    "    x_pp = preprocess_input(x*255)\n",
    "    return x_pp\n",
    "\n",
    "traingen = ImageDataGenerator(\n",
    "                        #rescale=1./255,          # not needed here, already 0-1 >> but use if brightness_range is applied!!!\n",
    "                        rotation_range=10,        # degree range for random rotations\n",
    "                        #brightness_range=[0.8,1.2], # randomly brighten (>1) or darken (<1) the image\n",
    "                        fill_mode='nearest',      # points outside the boundaries of the input are filled according to the given mode\n",
    "                        horizontal_flip=True,     # makes randomly mirror-images\n",
    "                        zoom_range=0.1,           # range for random zoom\n",
    "                        preprocessing_function = preprocess_input_resnet50)\n",
    "\n",
    "valgen = ImageDataGenerator(preprocessing_function = preprocess_input_resnet50)"
   ]
  },
  {
   "cell_type": "markdown",
   "metadata": {
    "colab_type": "text",
    "id": "wUvglBWJyxMf"
   },
   "source": [
    "### m02f: m02c + aug + reg (Dropout, L2)"
   ]
  },
  {
   "cell_type": "code",
   "execution_count": 0,
   "metadata": {
    "colab": {},
    "colab_type": "code",
    "id": "DN0dcqU8yxMi"
   },
   "outputs": [],
   "source": [
    "# see: https://github.com/shudima/notebooks/blob/master/Beauty%20Classifier.ipynb\n",
    "\n",
    "def create_model_m02f():\n",
    "    name = 'm02f'\n",
    "\n",
    "    # load dependencies for keras model\n",
    "    from tensorflow.keras.models import Sequential\n",
    "    from tensorflow.keras.applications import ResNet50\n",
    "    from tensorflow.keras.layers import Dense, Flatten, GlobalAveragePooling2D, Dropout\n",
    "    from tensorflow.keras.regularizers import l2\n",
    "\n",
    "    input_shape = X_train[0].shape\n",
    "    resnet = ResNet50(include_top=False, \n",
    "                      pooling='avg', \n",
    "                      weights='imagenet',\n",
    "                      input_shape=input_shape) # https://keras.io/applications/#resnet: default input size for this model is 224x224\n",
    "  \n",
    "    # L2 parameter (weight decay)\n",
    "    # see: https://machinelearningmastery.com/how-to-reduce-overfitting-in-deep-learning-with-weight-regularization/\n",
    "    l2_value = 0.0005\n",
    "\n",
    "    # build model\n",
    "    model = Sequential(name=name)\n",
    "    model.add(resnet)\n",
    "    model.add(Flatten())\n",
    "\n",
    "    model.add(Dense(2048, activation='relu', \n",
    "              kernel_regularizer=l2(l2_value)))     # added L2\n",
    "    model.add(Dropout(0.3))                         # added dropout\n",
    "\n",
    "    model.add(Dense(2048, activation='relu', \n",
    "              kernel_regularizer=l2(l2_value)))     # added L2\n",
    "    model.add(Dropout(0.3))                         # added dropout\n",
    "\n",
    "    model.add(Dense(1, name='regressor'))\n",
    "\n",
    "    return model"
   ]
  },
  {
   "cell_type": "code",
   "execution_count": 0,
   "metadata": {
    "colab": {},
    "colab_type": "code",
    "id": "9VWe2_nKyxMl"
   },
   "outputs": [],
   "source": [
    "# include preprocess_input function into data generator for train and val set\n",
    "# Caution: using 'x_new = preprocess_input(x)' does also change x!\n",
    "\n",
    "from tensorflow.keras.applications.resnet50 import preprocess_input\n",
    "\n",
    "def preprocess_input_resnet50(x):\n",
    "    x_pp = preprocess_input(x*255)\n",
    "    return x_pp\n",
    "\n",
    "traingen = ImageDataGenerator(\n",
    "                        #rescale=1./255,          # not needed here, already 0-1 >> but use if brightness_range is applied!!!\n",
    "                        rotation_range=10,        # degree range for random rotations\n",
    "                        #brightness_range=[0.8,1.2], # randomly brighten (>1) or darken (<1) the image\n",
    "                        fill_mode='nearest',      # points outside the boundaries of the input are filled according to the given mode\n",
    "                        horizontal_flip=True,     # makes randomly mirror-images\n",
    "                        zoom_range=0.1,           # range for random zoom\n",
    "                        preprocessing_function = preprocess_input_resnet50)\n",
    "\n",
    "valgen = ImageDataGenerator(preprocessing_function = preprocess_input_resnet50)"
   ]
  },
  {
   "cell_type": "markdown",
   "metadata": {
    "colab_type": "text",
    "id": "70PQeMWzBguP"
   },
   "source": [
    "### m02g: m02c + aug + reg (L2)"
   ]
  },
  {
   "cell_type": "code",
   "execution_count": 0,
   "metadata": {
    "colab": {},
    "colab_type": "code",
    "id": "8pvBklspBguT"
   },
   "outputs": [],
   "source": [
    "# see: https://github.com/shudima/notebooks/blob/master/Beauty%20Classifier.ipynb\n",
    "\n",
    "def create_model_m02g():\n",
    "    name = 'm02g'\n",
    "\n",
    "    # load dependencies for keras model\n",
    "    from tensorflow.keras.models import Sequential\n",
    "    from tensorflow.keras.applications import ResNet50\n",
    "    from tensorflow.keras.layers import Dense, Flatten, GlobalAveragePooling2D, Dropout\n",
    "    from tensorflow.keras.regularizers import l2\n",
    "\n",
    "    input_shape = X_train[0].shape\n",
    "    resnet = ResNet50(include_top=False, \n",
    "                      pooling='avg', \n",
    "                      weights='imagenet',\n",
    "                      input_shape=input_shape) # https://keras.io/applications/#resnet: default input size for this model is 224x224\n",
    "  \n",
    "    # L2 parameter (weight decay)\n",
    "    # see: https://machinelearningmastery.com/how-to-reduce-overfitting-in-deep-learning-with-weight-regularization/\n",
    "    l2_value = 0.0005\n",
    "\n",
    "    # build model\n",
    "    model = Sequential(name=name)\n",
    "    model.add(resnet)\n",
    "    model.add(Flatten())\n",
    "\n",
    "    model.add(Dense(2048, activation='relu', \n",
    "                  kernel_regularizer=l2(l2_value)))     # added L2\n",
    "    model.add(Dense(2048, activation='relu', \n",
    "                  kernel_regularizer=l2(l2_value)))     # added L2\n",
    "    model.add(Dense(1, name='regressor'))\n",
    "\n",
    "    return model"
   ]
  },
  {
   "cell_type": "code",
   "execution_count": 0,
   "metadata": {
    "colab": {},
    "colab_type": "code",
    "id": "4Iz7TjDNBguW"
   },
   "outputs": [],
   "source": [
    "# include preprocess_input function into data generator for train and val set\n",
    "# Caution: using 'x_new = preprocess_input(x)' does also change x!\n",
    "\n",
    "from tensorflow.keras.applications.resnet50 import preprocess_input\n",
    "\n",
    "def preprocess_input_resnet50(x):\n",
    "    x_pp = preprocess_input(x*255)\n",
    "    return x_pp\n",
    "\n",
    "traingen = ImageDataGenerator(\n",
    "                        #rescale=1./255,          # not needed here, already 0-1 >> but use if brightness_range is applied!!!\n",
    "                        rotation_range=10,        # degree range for random rotations\n",
    "                        #brightness_range=[0.8,1.2], # randomly brighten (>1) or darken (<1) the image\n",
    "                        fill_mode='nearest',      # points outside the boundaries of the input are filled according to the given mode\n",
    "                        horizontal_flip=True,     # makes randomly mirror-images\n",
    "                        zoom_range=0.1,           # range for random zoom\n",
    "                        preprocessing_function = preprocess_input_resnet50)\n",
    "\n",
    "valgen = ImageDataGenerator(preprocessing_function = preprocess_input_resnet50)"
   ]
  },
  {
   "cell_type": "markdown",
   "metadata": {
    "colab_type": "text",
    "id": "DzLFKYNw4r3J"
   },
   "source": [
    "### m02h: m02c + aug + reg (WC)"
   ]
  },
  {
   "cell_type": "code",
   "execution_count": 0,
   "metadata": {
    "colab": {},
    "colab_type": "code",
    "id": "8RXZWpAP4r3M"
   },
   "outputs": [],
   "source": [
    "def create_model_m02h():\n",
    "    name = 'm02h'\n",
    "\n",
    "    # load dependencies for keras model\n",
    "    from tensorflow.keras.models import Sequential\n",
    "    from tensorflow.keras.applications import ResNet50\n",
    "    from tensorflow.keras.layers import Dense, Flatten, GlobalAveragePooling2D, Dropout\n",
    "    from tensorflow.keras.constraints import max_norm\n",
    "\n",
    "    input_shape = X_train[0].shape\n",
    "    resnet = ResNet50(include_top=False, \n",
    "                      pooling='avg', \n",
    "                      weights='imagenet',\n",
    "                      input_shape=input_shape) # https://keras.io/applications/#resnet: default input size for this model is 224x224\n",
    "  \n",
    "    # instantiate norm\n",
    "    norm = max_norm(3.0)\n",
    "\n",
    "    # build model\n",
    "    model = Sequential(name=name)\n",
    "    model.add(resnet)\n",
    "    model.add(Flatten())\n",
    "\n",
    "    model.add(Dense(2048, activation='relu',  \n",
    "                kernel_constraint = norm))     # added weight constraint (WC)\n",
    "    model.add(Dense(2048, activation='relu', \n",
    "                kernel_constraint = norm))     # added weight constraint (WC)\n",
    "    model.add(Dense(1, name='regressor'))\n",
    "\n",
    "    return model"
   ]
  },
  {
   "cell_type": "code",
   "execution_count": 0,
   "metadata": {
    "colab": {},
    "colab_type": "code",
    "id": "a-2iUuav4r3O"
   },
   "outputs": [],
   "source": [
    "# include preprocess_input function into data generator for train and val set\n",
    "# Caution: using 'x_new = preprocess_input(x)' does also change x!\n",
    "\n",
    "from tensorflow.keras.applications.resnet50 import preprocess_input\n",
    "\n",
    "def preprocess_input_resnet50(x):\n",
    "    x_pp = preprocess_input(x*255)\n",
    "    return x_pp\n",
    "\n",
    "traingen = ImageDataGenerator(\n",
    "                        #rescale=1./255,          # not needed here, already 0-1 >> but use if brightness_range is applied!!!\n",
    "                        rotation_range=10,        # degree range for random rotations\n",
    "                        #brightness_range=[0.8,1.2], # randomly brighten (>1) or darken (<1) the image\n",
    "                        fill_mode='nearest',      # points outside the boundaries of the input are filled according to the given mode\n",
    "                        horizontal_flip=True,     # makes randomly mirror-images\n",
    "                        zoom_range=0.1,           # range for random zoom\n",
    "                        preprocessing_function = preprocess_input_resnet50)\n",
    "\n",
    "valgen = ImageDataGenerator(preprocessing_function = preprocess_input_resnet50)"
   ]
  },
  {
   "cell_type": "markdown",
   "metadata": {
    "colab_type": "text",
    "id": "_hgWaVTvYMMT"
   },
   "source": [
    "### m02i: m02c + aug + reg (WC, small Dropout) "
   ]
  },
  {
   "cell_type": "code",
   "execution_count": 0,
   "metadata": {
    "colab": {},
    "colab_type": "code",
    "id": "KDnrwHw_l4TD"
   },
   "outputs": [],
   "source": [
    "def create_model_m02i():\n",
    "    name = 'm02i'\n",
    "\n",
    "    # load dependencies for keras model\n",
    "    from tensorflow.keras.models import Sequential\n",
    "    from tensorflow.keras.applications import ResNet50\n",
    "    from tensorflow.keras.layers import Dense, Flatten, GlobalAveragePooling2D, Dropout\n",
    "    from tensorflow.keras.regularizers import l1\n",
    "\n",
    "    input_shape = X_train[0].shape\n",
    "    resnet = ResNet50(include_top=False, \n",
    "                      pooling='avg', \n",
    "                      weights='imagenet',\n",
    "                      input_shape=input_shape) # https://keras.io/applications/#resnet: default input size for this model is 224x224\n",
    "  \n",
    "    # instantiate regularizer\n",
    "    # see: https://machinelearningmastery.com/how-to-reduce-generalization-error-in-deep-neural-networks-with-activity-regularization-in-keras/\n",
    "    l1_value = 0.001  \n",
    "\n",
    "    # build model\n",
    "    model = Sequential(name=name)\n",
    "    model.add(resnet)\n",
    "    model.add(Flatten())\n",
    "\n",
    "    model.add(Dense(2048, activation='relu',  \n",
    "              activity_regularizer=l1(l1_value)))   # added L1\n",
    "    model.add(Dropout(0.1))                         # added dropout\n",
    "\n",
    "    model.add(Dense(2048, activation='relu', \n",
    "              activity_regularizer=l1(l1_value)))   # added L1\n",
    "    model.add(Dropout(0.1))                         # added dropout\n",
    "\n",
    "    model.add(Dense(1, name='regressor'))\n",
    "\n",
    "    return model"
   ]
  },
  {
   "cell_type": "code",
   "execution_count": 0,
   "metadata": {
    "colab": {},
    "colab_type": "code",
    "id": "52rZaQrql37V"
   },
   "outputs": [],
   "source": [
    "# include preprocess_input function into data generator for train and val set\n",
    "# Caution: using 'x_new = preprocess_input(x)' does also change x!\n",
    "\n",
    "from tensorflow.keras.applications.resnet50 import preprocess_input\n",
    "\n",
    "def preprocess_input_resnet50(x):\n",
    "    x_pp = preprocess_input(x*255)\n",
    "    return x_pp\n",
    "\n",
    "traingen = ImageDataGenerator(\n",
    "                        #rescale=1./255,          # not needed here, already 0-1 >> but use if brightness_range is applied!!!\n",
    "                        rotation_range=10,        # degree range for random rotations\n",
    "                        #brightness_range=[0.8,1.2], # randomly brighten (>1) or darken (<1) the image\n",
    "                        fill_mode='nearest',      # points outside the boundaries of the input are filled according to the given mode\n",
    "                        horizontal_flip=True,     # makes randomly mirror-images\n",
    "                        zoom_range=0.1,           # range for random zoom\n",
    "                        preprocessing_function = preprocess_input_resnet50)\n",
    "\n",
    "valgen = ImageDataGenerator(preprocessing_function = preprocess_input_resnet50)"
   ]
  },
  {
   "cell_type": "markdown",
   "metadata": {
    "colab_type": "text",
    "id": "yCMTZnt1qNmE"
   },
   "source": [
    "### m02k: m02c - all base model layers frozen"
   ]
  },
  {
   "cell_type": "code",
   "execution_count": 0,
   "metadata": {
    "colab": {},
    "colab_type": "code",
    "id": "7KXkWxjcqNmF"
   },
   "outputs": [],
   "source": [
    "# see: https://github.com/shudima/notebooks/blob/master/Beauty%20Classifier.ipynb\n",
    "\n",
    "def create_model_m02k():\n",
    "    name = 'm02k'\n",
    "\n",
    "    # load dependencies for keras model\n",
    "    from tensorflow.keras.models import Sequential\n",
    "    from tensorflow.keras.applications import ResNet50\n",
    "    from tensorflow.keras.layers import Dense, Flatten, GlobalAveragePooling2D\n",
    "\n",
    "    input_shape = X_train[0].shape\n",
    "    resnet = ResNet50(include_top=False, \n",
    "                      pooling='avg', \n",
    "                      weights='imagenet',\n",
    "                      input_shape=input_shape) # https://keras.io/applications/#resnet: default input size for this model is 224x224\n",
    "  \n",
    "    # set trainable and frozen layers of Resnet50:\n",
    "    # see: https://towardsdatascience.com/a-comprehensive-hands-on-guide-to-transfer-learning-with-real-world-applications-in-deep-learning-212bf3b2f27a\n",
    "\n",
    "    # build model\n",
    "    model = Sequential(name=name)\n",
    "    model.add(resnet)\n",
    "    model.add(Flatten())\n",
    "    model.add(Dense(2048, activation='relu'))\n",
    "    model.add(Dense(2048, activation='relu'))\n",
    "    model.add(Dense(1, name='regressor'))\n",
    "\n",
    "    # freeze resnet model\n",
    "    model.layers[0].trainable = False\n",
    "\n",
    "    return model"
   ]
  },
  {
   "cell_type": "code",
   "execution_count": 0,
   "metadata": {
    "colab": {},
    "colab_type": "code",
    "id": "nIzBey-8qNmJ"
   },
   "outputs": [],
   "source": [
    "# include preprocess_input function into data generator for train and val set\n",
    "# Caution: using 'x_new = preprocess_input(x)' does also change x!\n",
    "\n",
    "from tensorflow.keras.applications.resnet50 import preprocess_input\n",
    "\n",
    "def preprocess_input_resnet50(x):\n",
    "    x_pp = preprocess_input(x*255)\n",
    "    return x_pp\n",
    "\n",
    "traingen = ImageDataGenerator(preprocessing_function = preprocess_input_resnet50)\n",
    "valgen = ImageDataGenerator(preprocessing_function = preprocess_input_resnet50)"
   ]
  },
  {
   "cell_type": "markdown",
   "metadata": {
    "colab_type": "text",
    "id": "qNNXF5gw9rlT"
   },
   "source": [
    "### m02m: m02c - only selected layers frozen"
   ]
  },
  {
   "cell_type": "code",
   "execution_count": 0,
   "metadata": {
    "colab": {},
    "colab_type": "code",
    "id": "mmEOfKpJ9rlW"
   },
   "outputs": [],
   "source": [
    "# see: https://github.com/shudima/notebooks/blob/master/Beauty%20Classifier.ipynb\n",
    "\n",
    "def create_model_m02m(first_unfrozen_layer = 4):\n",
    "    name = 'm02m'\n",
    "\n",
    "    # load dependencies for keras model\n",
    "    from tensorflow.keras.models import Sequential\n",
    "    from tensorflow.keras.applications import ResNet50\n",
    "    from tensorflow.keras.layers import Dense, Flatten, GlobalAveragePooling2D\n",
    "\n",
    "    input_shape = X_train[0].shape\n",
    "    resnet = ResNet50(include_top=False, \n",
    "                      pooling='avg', \n",
    "                      weights='imagenet',\n",
    "                      input_shape=input_shape) # https://keras.io/applications/#resnet: default input size for this model is 224x224\n",
    "  \n",
    "    # set trainable and frozen layers of Resnet50:\n",
    "    # see: https://towardsdatascience.com/a-comprehensive-hands-on-guide-to-transfer-learning-with-real-world-applications-in-deep-learning-212bf3b2f27a\n",
    "\n",
    "    resnet.trainable = True\n",
    "    set_trainable = False\n",
    "    for layer in resnet.layers:\n",
    "        if layer.name == f'conv{first_unfrozen_layer}_block1_1_conv':\n",
    "            set_trainable = True\n",
    "        if set_trainable:\n",
    "            layer.trainable = True\n",
    "        else:\n",
    "            layer.trainable = False \n",
    "\n",
    "    # show frozen and trainable layers in dataframe:\n",
    "    pd.set_option('max_colwidth', -1)\n",
    "    pd.options.display.max_rows = 500\n",
    "    layers = [(layer, layer.name, layer.trainable) for layer in resnet.layers]\n",
    "    #display(pd.DataFrame(layers, columns=['Layer Type', 'Layer Name', 'Layer Trainable']))\n",
    "\n",
    "    # build model\n",
    "    model = Sequential(name=name)\n",
    "    model.add(resnet)\n",
    "    model.add(Flatten())\n",
    "    model.add(Dense(2048, activation='relu'))\n",
    "    model.add(Dense(2048, activation='relu'))\n",
    "    model.add(Dense(1, name='regressor'))\n",
    "\n",
    "    return model"
   ]
  },
  {
   "cell_type": "code",
   "execution_count": 0,
   "metadata": {
    "colab": {},
    "colab_type": "code",
    "id": "Rh3Aewex9rlZ"
   },
   "outputs": [],
   "source": [
    "# include preprocess_input function into data generator for train and val set\n",
    "# Caution: using 'x_new = preprocess_input(x)' does also change x!\n",
    "\n",
    "from tensorflow.keras.applications.resnet50 import preprocess_input\n",
    "\n",
    "def preprocess_input_resnet50(x):\n",
    "    x_pp = preprocess_input(x*255)\n",
    "    return x_pp\n",
    "\n",
    "traingen = ImageDataGenerator(preprocessing_function = preprocess_input_resnet50)\n",
    "valgen = ImageDataGenerator(preprocessing_function = preprocess_input_resnet50)"
   ]
  },
  {
   "cell_type": "markdown",
   "metadata": {
    "colab_type": "text",
    "id": "gg8nRONhX92c"
   },
   "source": [
    "## c) VGGface2 as base model (m03)\n",
    "Note: For the following models, first install the vggface package from GitHub (see below)."
   ]
  },
  {
   "cell_type": "code",
   "execution_count": 21,
   "metadata": {
    "colab": {
     "base_uri": "https://localhost:8080/",
     "height": 187
    },
    "colab_type": "code",
    "id": "JAhPHAQCEgdQ",
    "outputId": "e9931d9e-8062-4047-f934-9dd78514fe2d"
   },
   "outputs": [
    {
     "name": "stdout",
     "output_type": "stream",
     "text": [
      "Name: keras-vggface\n",
      "Version: 0.6\n",
      "Summary: VGGFace implementation with Keras framework\n",
      "Home-page: https://github.com/rcmalli/keras-vggface\n",
      "Author: Refik Can MALLI\n",
      "Author-email: mallir@itu.edu.tr\n",
      "License: MIT\n",
      "Location: /usr/local/lib/python3.6/dist-packages\n",
      "Requires: pillow, pyyaml, h5py, keras, six, scipy, numpy\n",
      "Required-by: \n"
     ]
    }
   ],
   "source": [
    "# install VGGFace(2)) models in Keras\n",
    "%%capture\n",
    "!pip install git+https://github.com/rcmalli/keras-vggface.git\n",
    "\n",
    "# confirm that the library was installed correctly \n",
    "!pip show keras-vggface"
   ]
  },
  {
   "cell_type": "code",
   "execution_count": 22,
   "metadata": {
    "colab": {
     "base_uri": "https://localhost:8080/",
     "height": 51
    },
    "colab_type": "code",
    "id": "fU-l0ZNqdG69",
    "outputId": "d1f4de7c-32d5-47ad-8ad2-c11c0fe96c08"
   },
   "outputs": [
    {
     "name": "stdout",
     "output_type": "stream",
     "text": [
      "0.6\n"
     ]
    },
    {
     "name": "stderr",
     "output_type": "stream",
     "text": [
      "Using TensorFlow backend.\n"
     ]
    }
   ],
   "source": [
    "# check version of keras_vggface\n",
    "\n",
    "import keras_vggface\n",
    "print(keras_vggface.__version__)"
   ]
  },
  {
   "cell_type": "markdown",
   "metadata": {
    "colab_type": "text",
    "id": "-OxgU8oWfD1r"
   },
   "source": [
    "### m03a: VGGface2 + Dense (no aug/reg) - all layers trainable"
   ]
  },
  {
   "cell_type": "code",
   "execution_count": 0,
   "metadata": {
    "colab": {},
    "colab_type": "code",
    "id": "AdtcKWjFfD1u"
   },
   "outputs": [],
   "source": [
    "# see: https://github.com/shudima/notebooks/blob/master/Beauty%20Classifier.ipynb\n",
    "\n",
    "def create_model_m03a(model_type='resnet50'):  # 'vgg16', 'senet50'\n",
    "    name = 'm03a_' + model_type\n",
    "\n",
    "    # load dependencies for keras model\n",
    "    # Caution: use keras instead of tensorflow.keras here because of vggface model\n",
    "    # see: https://stackoverflow.com/questions/55324762/\n",
    "\n",
    "    from keras.models import Sequential\n",
    "    from keras_vggface.vggface import VGGFace\n",
    "    from keras.layers import Dense  #, Flatten, GlobalAveragePooling2D, Input\n",
    "\n",
    "    # create a vggface2 base model\n",
    "    input_shape = X_train[0].shape\n",
    "    vggface = VGGFace(model=model_type,\n",
    "                      include_top=False, \n",
    "                      pooling='avg',           # pooling: None, avg or max\n",
    "                      weights='vggface',\n",
    "                      input_shape=input_shape) # default: (224, 224, 3)\n",
    "  \n",
    "    # build model\n",
    "    model = Sequential(name=name)\n",
    "    model.add(vggface)\n",
    "    model.add(Dense(1, name='regressor'))\n",
    "\n",
    "    return model"
   ]
  },
  {
   "cell_type": "code",
   "execution_count": 0,
   "metadata": {
    "colab": {},
    "colab_type": "code",
    "id": "2EyWacbsU8ib"
   },
   "outputs": [],
   "source": [
    "# include preprocess_input function to datagen iterator for train and val set\n",
    "# see: https://towardsdatascience.com/transfer-learning-for-image-classification-using-keras-c47ccf09c8c8\n",
    "\n",
    "from keras_vggface.utils import preprocess_input\n",
    "\n",
    "def preprocess_input_vggface(x, model_type='vgg16'):\n",
    "    if model_type=='vgg16':\n",
    "        model_version=1\n",
    "    elif (model_type=='resnet50') | (model_type=='senet50'):\n",
    "        model_version=2\n",
    "    x_pp = preprocess_input(x*255, version=model_version)\n",
    "    return x_pp\n",
    "\n",
    "traingen = ImageDataGenerator(preprocessing_function = preprocess_input_vggface)\n",
    "valgen = ImageDataGenerator(preprocessing_function = preprocess_input_vggface)"
   ]
  },
  {
   "cell_type": "markdown",
   "metadata": {
    "colab_type": "text",
    "id": "WRqyLWxyO45e"
   },
   "source": [
    "### m03b: VGGface2 + 3 Dense (no aug/reg) - all layers trainable"
   ]
  },
  {
   "cell_type": "code",
   "execution_count": 0,
   "metadata": {
    "colab": {},
    "colab_type": "code",
    "id": "KneB8mO8O45h"
   },
   "outputs": [],
   "source": [
    "def create_model_m03b(model_type='resnet50'):  # 'vgg16', 'senet50'\n",
    "    name = 'm03b_' + model_type\n",
    "\n",
    "    # load dependencies for keras model\n",
    "    # Caution: use keras instead of tensorflow.keras here because of vggface model\n",
    "    # see: https://stackoverflow.com/questions/55324762/\n",
    "\n",
    "    from keras.models import Sequential\n",
    "    from keras_vggface.vggface import VGGFace\n",
    "    from keras.layers import Dense  #, Flatten, GlobalAveragePooling2D, Input\n",
    "\n",
    "    # create a vggface2 base model\n",
    "    input_shape = X_train[0].shape\n",
    "    vggface = VGGFace(model=model_type,\n",
    "                      include_top=False, \n",
    "                      pooling='avg',            # pooling: None, avg or max\n",
    "                      weights='vggface',\n",
    "                      input_shape=input_shape)  # default: (224, 224, 3)\n",
    "\n",
    "    n_hidden = vggface.output_shape[1]  # use 2048 for resnet50/senet50 and 512 for vgg16\n",
    "\n",
    "    # build model\n",
    "    model = Sequential(name=name)\n",
    "    model.add(vggface)\n",
    "    #model.add(Flatten()) .   # include Flatten if pooling=None\n",
    "    model.add(Dense(n_hidden, activation='relu'))\n",
    "    model.add(Dense(n_hidden, activation='relu'))\n",
    "    model.add(Dense(1, name='regressor'))\n",
    "\n",
    "    return model"
   ]
  },
  {
   "cell_type": "code",
   "execution_count": 0,
   "metadata": {
    "colab": {},
    "colab_type": "code",
    "id": "qAFq1H2KO45l"
   },
   "outputs": [],
   "source": [
    "# include preprocess_input function to datagen iterator for train and val set\n",
    "# see: https://towardsdatascience.com/transfer-learning-for-image-classification-using-keras-c47ccf09c8c8\n",
    "\n",
    "from keras_vggface.utils import preprocess_input\n",
    "\n",
    "def preprocess_input_vggface(x, model_type='resnet50'):\n",
    "    if model_type=='vgg16':\n",
    "        model_version=1\n",
    "    elif (model_type=='resnet50') | (model_type=='senet50'):\n",
    "        model_version=2\n",
    "    x_pp = preprocess_input(x*255, version=model_version)\n",
    "    return x_pp\n",
    "\n",
    "traingen = ImageDataGenerator(preprocessing_function = preprocess_input_vggface)\n",
    "valgen = ImageDataGenerator(preprocessing_function = preprocess_input_vggface)"
   ]
  },
  {
   "cell_type": "markdown",
   "metadata": {
    "colab_type": "text",
    "id": "cYmcb3QOnJcO"
   },
   "source": [
    "### m03c: m03b + aug (no reg) - all layers trainable"
   ]
  },
  {
   "cell_type": "code",
   "execution_count": 0,
   "metadata": {
    "colab": {},
    "colab_type": "code",
    "id": "uIKYoU2jnJcT"
   },
   "outputs": [],
   "source": [
    "# include preprocess_input function to datagen iterator for train and val set\n",
    "# see: https://towardsdatascience.com/transfer-learning-for-image-classification-using-keras-c47ccf09c8c8\n",
    "\n",
    "from keras_vggface.utils import preprocess_input\n",
    "\n",
    "def preprocess_input_vggface(x, model_type='resnet50'):\n",
    "    if model_type=='vgg16':\n",
    "        model_version=1\n",
    "    elif (model_type=='resnet50') | (model_type=='senet50'):\n",
    "        model_version=2\n",
    "    x_pp = preprocess_input(x*255, version=model_version)\n",
    "    return x_pp\n",
    "\n",
    "traingen = ImageDataGenerator(\n",
    "                        #rescale=1./255,          # not needed here, already 0-1 >> but use if brightness_range is applied!!!\n",
    "                        rotation_range=10,        # degree range for random rotations\n",
    "                        #brightness_range=[0.8,1.2], # randomly brighten (>1) or darken (<1) the image\n",
    "                        fill_mode='nearest',      # points outside the boundaries of the input are filled according to the given mode\n",
    "                        horizontal_flip=True,     # makes randomly mirror-images\n",
    "                        zoom_range=0.1,           # range for random zoom\n",
    "                        preprocessing_function = preprocess_input_vggface)\n",
    "\n",
    "valgen = ImageDataGenerator(preprocessing_function = preprocess_input_vggface)"
   ]
  },
  {
   "cell_type": "markdown",
   "metadata": {
    "colab_type": "text",
    "id": "abOFXJjoqv5i"
   },
   "source": [
    "### m03d: m03b (no aug/reg) - selected layers frozen"
   ]
  },
  {
   "cell_type": "code",
   "execution_count": 0,
   "metadata": {
    "colab": {},
    "colab_type": "code",
    "id": "9vSGNH0kqv5l"
   },
   "outputs": [],
   "source": [
    "def create_model_m03d(model_type='resnet50',     # select from: 'vgg16', 'resnet50', 'senet50'\n",
    "                      first_unfrozen_layer=3,    # select first unfrozen (trainable) layer\n",
    "                      display_layers=False,      # select to print trainable/frozen layers when creating model\n",
    "                      dropout=None,              # specify dropout, e.g. 0.1\n",
    "                      L2=None,                   # L2 regularization\n",
    "                      WC=None):                  # weight constraint\n",
    "    name = 'm03d_' + model_type\n",
    "\n",
    "    # load dependencies for keras model\n",
    "    # Caution: use keras instead of tensorflow.keras here because of vggface model\n",
    "    # see: https://stackoverflow.com/questions/55324762/\n",
    "\n",
    "    from keras.models import Sequential\n",
    "    from keras_vggface.vggface import VGGFace\n",
    "    from keras.layers import Dense, Dropout, Flatten  # GlobalAveragePooling2D, Input\n",
    "\n",
    "    # create a vggface2 base model\n",
    "    input_shape = X_train[0].shape\n",
    "    vggface = VGGFace(model=model_type,\n",
    "                      include_top=False, \n",
    "                      pooling='avg',  # pooling: None (default), avg or max (when None include Flatten layer below)\n",
    "                      weights='vggface',\n",
    "                      input_shape=input_shape) # default: (224, 224, 3)\n",
    "    n_hidden = 2048   # use 2048 for resnet50/senet50 and 512 for vgg16 (only if pooling!=None)\n",
    "\n",
    "    # set trainable and frozen layers of base model:\n",
    "    # see: https://towardsdatascience.com/a-comprehensive-hands-on-guide-to-transfer-learning-with-real-world-applications-in-deep-learning-212bf3b2f27a\n",
    "\n",
    "    vggface.trainable = True\n",
    "    set_trainable = False\n",
    "    for layer in vggface.layers:\n",
    "        if layer.name == f'conv{first_unfrozen_layer}_1_1x1_reduce':\n",
    "            set_trainable = True\n",
    "        if set_trainable:\n",
    "            layer.trainable = True\n",
    "        else:\n",
    "            layer.trainable = False \n",
    "\n",
    "    # show frozen and trainable layers in dataframe\n",
    "    if display_layers:\n",
    "        pd.set_option('max_colwidth', -1)\n",
    "        pd.options.display.max_rows = 500\n",
    "        layers = [(layer, layer.name, layer.trainable) for layer in vggface.layers]\n",
    "        display(pd.DataFrame(layers, columns=['Layer Type', 'Layer Name', 'Layer Trainable']))\n",
    "\n",
    "\n",
    "    # add regularizer (https://keras.io/regularizers/)\n",
    "    if L2:\n",
    "        from keras.regularizers import l2\n",
    "        reg=l2(L2)  # L2 parameter (weight decay)  0.0005\n",
    "                    # see: https://machinelearningmastery.com/how-to-reduce-overfitting-in-deep-learning-with-weight-regularization/\n",
    "    else:\n",
    "        reg=None\n",
    "\n",
    "\n",
    "    # add constraint (https://keras.io/constraints/)\n",
    "    if WC:\n",
    "        from keras.constraints import max_norm\n",
    "        con=max_norm(WC)  \n",
    "    else:\n",
    "        con=None  \n",
    "\n",
    "\n",
    "    # build model\n",
    "    model = Sequential(name=name)\n",
    "    model.add(vggface)\n",
    "    #model.add(Flatten())\n",
    "    # An alternative approach to adding a Flatten layer is to define the base model with an average pooling layer.\n",
    "    # Setting ‘pooling‘ to ‘avg‘ means that the filter maps at the output end of the model are reduced to a vector using global average pooling.\n",
    "    # see: https://machinelearningmastery.com/how-to-use-transfer-learning-when-developing-convolutional-neural-network-models/\n",
    "    # see: https://machinelearningmastery.com/how-to-perform-face-recognition-with-vggface2-convolutional-neural-network-in-keras/\n",
    "\n",
    "    model.add(Dense(n_hidden, activation='relu', \n",
    "                    kernel_regularizer = reg, bias_regularizer=None, activity_regularizer=None, \n",
    "                    kernel_constraint = con, bias_constraint=None))\n",
    "    if dropout: \n",
    "        model.add(Dropout(dropout))  # e.g. Dropout(0.1)\n",
    "\n",
    "    model.add(Dense(n_hidden, activation='relu', \n",
    "                    kernel_regularizer = reg, bias_regularizer=None, activity_regularizer=None, \n",
    "                    kernel_constraint = con, bias_constraint=None))\n",
    "    if dropout:\n",
    "        model.add(Dropout(dropout))  # e.g. Dropout(0.1)\n",
    "\n",
    "    model.add(Dense(1, name='regressor'))\n",
    "\n",
    "    return model"
   ]
  },
  {
   "cell_type": "code",
   "execution_count": 0,
   "metadata": {
    "colab": {},
    "colab_type": "code",
    "id": "ZMukWmFylOW5"
   },
   "outputs": [],
   "source": [
    "# write the same model with the keras API to later use methods such as GradCAM & Guided Backpropagation on the model\n",
    "# see: https://github.com/keras-team/keras/issues/10716\n",
    "\n",
    "def create_model_m03d_API(model_type='resnet50',     # select from: 'vgg16', 'resnet50', 'senet50'\n",
    "                          first_unfrozen_layer=3,\n",
    "                          display_layers=False,\n",
    "                          dropout=None,              # specify dropout, e.g. 0.1\n",
    "                          L2=None,                   # L2 regularization\n",
    "                          WC=None):                  # weight constraint\n",
    "    name = 'm03d_API_' + model_type\n",
    "\n",
    "    # load dependencies for keras model\n",
    "    # Caution: use keras instead of tensorflow.keras here because of vggface model\n",
    "    # see: https://stackoverflow.com/questions/55324762/t\n",
    "\n",
    "    from keras.models import Sequential, Model\n",
    "    from keras_vggface.vggface import VGGFace\n",
    "    from keras.layers import Dense, Dropout, Flatten  # GlobalAveragePooling2D, Input\n",
    "  \n",
    "    # create a vggface2 base model\n",
    "    input_shape = X_train[0].shape\n",
    "    base_model = VGGFace(model=model_type,\n",
    "                         include_top=False, \n",
    "                         pooling='avg',  # pooling: None (default), avg or max (when None include Flatten layer below)\n",
    "                         weights='vggface',\n",
    "                         input_shape=input_shape) # default: (224, 224, 3)\n",
    "\n",
    "    # add regularizer (https://keras.io/regularizers/)\n",
    "    if L2:\n",
    "        from keras.regularizers import l2\n",
    "        reg=l2(L2)  # L2 parameter (weight decay)  0.0005\n",
    "                    # see: https://machinelearningmastery.com/how-to-reduce-overfitting-in-deep-learning-with-weight-regularization/\n",
    "    else:\n",
    "        reg=None\n",
    "\n",
    "    # add constraint (https://keras.io/constraints/)\n",
    "    if WC:\n",
    "        from keras.constraints import max_norm\n",
    "        con=max_norm(WC)  \n",
    "    else:\n",
    "        con=None \n",
    "\n",
    "    # summarize input and output shape\n",
    "    n_hidden = 2048   # use 2048 for resnet50/senet50 and 512 for vgg16 (only if pooling!=None)\n",
    "\n",
    "    # x = Flatten(name='flatten')(last_layer)\n",
    "    x = Dense(n_hidden, activation='relu', \n",
    "              kernel_regularizer = reg, bias_regularizer=None, activity_regularizer=None, \n",
    "              kernel_constraint = con, bias_constraint=None)(base_model.output)\n",
    "    if dropout: \n",
    "        x = Dropout(dropout)(x)   # e.g. Dropout(0.1)\n",
    "\n",
    "    x = Dense(n_hidden, activation='relu', \n",
    "              kernel_regularizer = reg, bias_regularizer=None, activity_regularizer=None, \n",
    "              kernel_constraint = con, bias_constraint=None)(x)\n",
    "    if dropout: \n",
    "        x = Dropout(dropout)(x)   # e.g. Dropout(0.1)\n",
    "\n",
    "    out = Dense(1, name='regressor')(x)\n",
    "    model = Model(base_model.input, out)\n",
    "    model.name = name\n",
    "\n",
    "    # set trainable and frozen layers of base model:\n",
    "    # see: https://towardsdatascience.com/a-comprehensive-hands-on-guide-to-transfer-learning-with-real-world-applications-in-deep-learning-212bf3b2f27a\n",
    "    model.trainable = True\n",
    "    set_trainable = False\n",
    "    for layer in model.layers:\n",
    "        if layer.name == f'conv{first_unfrozen_layer}_1_1x1_reduce':\n",
    "            set_trainable = True\n",
    "        if set_trainable:\n",
    "            layer.trainable = True\n",
    "        else:\n",
    "            layer.trainable = False \n",
    "\n",
    "    # show frozen and trainable layers in dataframe\n",
    "    if display_layers:\n",
    "        pd.set_option('max_colwidth', -1)\n",
    "        pd.options.display.max_rows = 500\n",
    "        layers = [(layer, layer.name, layer.trainable) for layer in model.layers]\n",
    "        display(pd.DataFrame(layers, columns=['Layer Type', 'Layer Name', 'Layer Trainable']))\n",
    "\n",
    "    return model"
   ]
  },
  {
   "cell_type": "code",
   "execution_count": 0,
   "metadata": {
    "colab": {},
    "colab_type": "code",
    "id": "EPn4i6QDqv5o"
   },
   "outputs": [],
   "source": [
    "# include preprocess_input function to datagen iterator for train and val set\n",
    "# see: https://towardsdatascience.com/transfer-learning-for-image-classification-using-keras-c47ccf09c8c8\n",
    "\n",
    "from keras.preprocessing.image import ImageDataGenerator\n",
    "from keras_vggface.utils import preprocess_input\n",
    "\n",
    "def preprocess_input_vggface(x, model_type='resnet50'):\n",
    "    if model_type=='vgg16':\n",
    "        model_version=1\n",
    "    elif (model_type=='resnet50') | (model_type=='senet50'):\n",
    "        model_version=2\n",
    "    x_pp = preprocess_input(x*255, version=model_version)\n",
    "    return x_pp\n",
    "\n",
    "traingen = ImageDataGenerator(preprocessing_function = preprocess_input_vggface)\n",
    "valgen = ImageDataGenerator(preprocessing_function = preprocess_input_vggface)"
   ]
  },
  {
   "cell_type": "markdown",
   "metadata": {
    "colab_type": "text",
    "id": "ixdkZIYzEldz"
   },
   "source": [
    "### m03e: m03d (frist_unfrozen_layer=3) + aug (no reg)"
   ]
  },
  {
   "cell_type": "code",
   "execution_count": 0,
   "metadata": {
    "colab": {},
    "colab_type": "code",
    "id": "JgO_EFsAEvsU"
   },
   "outputs": [],
   "source": [
    "# include preprocess_input function to datagen iterator for train and val set\n",
    "# see: https://towardsdatascience.com/transfer-learning-for-image-classification-using-keras-c47ccf09c8c8\n",
    "\n",
    "from keras.preprocessing.image import ImageDataGenerator\n",
    "from keras_vggface.utils import preprocess_input\n",
    "\n",
    "def preprocess_input_vggface(x, model_type='resnet50'):\n",
    "    if model_type=='vgg16':\n",
    "        model_version=1\n",
    "    elif (model_type=='resnet50') | (model_type=='senet50'):\n",
    "        model_version=2\n",
    "    x_pp = preprocess_input(x*255, version=model_version)\n",
    "    return x_pp\n",
    "\n",
    "traingen = ImageDataGenerator(\n",
    "                        #rescale=1./255,          # not needed here, already 0-1 >> but use if brightness_range is applied!!!\n",
    "                        rotation_range=5,         # degree range for random rotations\n",
    "                        brightness_range=[0.9,1.1], # randomly brighten (>1) or darken (<1) the image\n",
    "                        fill_mode='nearest',      # points outside the boundaries of the input are filled according to the given mode\n",
    "                        horizontal_flip=True,     # makes randomly mirror-images\n",
    "                        #zoom_range=0.1,          # range for random zoom\n",
    "                        preprocessing_function = preprocess_input_vggface)\n",
    "\n",
    "valgen = ImageDataGenerator(preprocessing_function = preprocess_input_vggface)"
   ]
  },
  {
   "cell_type": "markdown",
   "metadata": {
    "colab_type": "text",
    "id": "4_fRK2DPyn67"
   },
   "source": [
    "## d) other base models (m04)"
   ]
  },
  {
   "cell_type": "markdown",
   "metadata": {
    "colab_type": "text",
    "id": "w467Zxupy3eb"
   },
   "source": [
    "### m04a: m03d (frist_unfrozen_layer=3, no aug/reg)"
   ]
  },
  {
   "cell_type": "code",
   "execution_count": 0,
   "metadata": {
    "colab": {},
    "colab_type": "code",
    "id": "NhP-uVqP0Av9"
   },
   "outputs": [],
   "source": [
    "from keras import backend as K\n",
    "K.clear_session()\n",
    "  \n",
    "from keras.applications.inception_resnet_v2 import InceptionResNetV2\n",
    "input_shape = X_train[0].shape\n",
    "base_model = InceptionResNetV2(\n",
    "                    include_top=False, \n",
    "                    pooling='avg',  # pooling: None (default), avg or max (when None include Flatten layer below)\n",
    "                    weights='imagenet',\n",
    "                    input_shape=input_shape)"
   ]
  },
  {
   "cell_type": "code",
   "execution_count": 0,
   "metadata": {
    "colab": {},
    "colab_type": "code",
    "id": "YYTUXwJn1w0r"
   },
   "outputs": [],
   "source": [
    "for layer in base_model.layers:\n",
    "    print(layer.name)"
   ]
  },
  {
   "cell_type": "code",
   "execution_count": 0,
   "metadata": {
    "colab": {},
    "colab_type": "code",
    "id": "UCWF-yD9y3-z"
   },
   "outputs": [],
   "source": [
    "# see: https://github.com/shudima/notebooks/blob/master/Beauty%20Classifier.ipynb\n",
    "\n",
    "def create_model_m04a(first_unfrozen_layer=102, display_layers=False):  \n",
    "    name = 'm04a'\n",
    "\n",
    "    # load dependencies for keras model\n",
    "    from keras.applications.inception_resnet_v2 import InceptionResNetV2\n",
    "    from keras.models import Sequential\n",
    "    from keras.layers import Dense, Dropout, Flatten  # GlobalAveragePooling2D, Input\n",
    "    from keras import backend as K\n",
    "    K.clear_session() # to reset layer numbers\n",
    "\n",
    "    # create the base model\n",
    "    input_shape = X_train[0].shape\n",
    "    base_model = InceptionResNetV2(\n",
    "                    include_top=False, \n",
    "                    pooling='avg',  # pooling: None (default), avg or max (when None include Flatten layer below)\n",
    "                    weights='imagenet',\n",
    "                    input_shape=input_shape) # default: (224, 224, 3)\n",
    "\n",
    "    # summarize input and output shape\n",
    "    n_hidden = base_model.output_shape[1]  \n",
    "\n",
    "    # set trainable and frozen layers of base model:\n",
    "    # see: https://towardsdatascience.com/a-comprehensive-hands-on-guide-to-transfer-learning-with-real-world-applications-in-deep-learning-212bf3b2f27a\n",
    "\n",
    "    base_model.trainable = True\n",
    "    set_trainable = False\n",
    "    for layer in base_model.layers:\n",
    "        if layer.name == f'conv2d_{first_unfrozen_layer}':\n",
    "            set_trainable = True\n",
    "        if set_trainable:\n",
    "            layer.trainable = True\n",
    "        else:\n",
    "            layer.trainable = False \n",
    "\n",
    "    # show frozen and trainable layers in dataframe\n",
    "    if display_layers:\n",
    "        pd.set_option('max_colwidth', -1)\n",
    "        pd.options.display.max_rows = 1000\n",
    "        layers = [(layer, layer.name, layer.trainable) for layer in base_model.layers]\n",
    "        display(pd.DataFrame(layers, columns=['Layer Type', 'Layer Name', 'Layer Trainable']))\n",
    "\n",
    "\n",
    "    # build model\n",
    "    model = Sequential(name=name)\n",
    "    model.add(base_model)\n",
    "    #model.add(Flatten())\n",
    "\n",
    "    model.add(Dense(n_hidden, activation='relu'))\n",
    "    #model.add(Dropout(0.1))\n",
    "    model.add(Dense(n_hidden, activation='relu'))\n",
    "    #model.add(Dropout(0.1))\n",
    "    model.add(Dense(1, name='regressor'))\n",
    "\n",
    "    return model"
   ]
  },
  {
   "cell_type": "code",
   "execution_count": 0,
   "metadata": {
    "colab": {},
    "colab_type": "code",
    "id": "qiG7XSFl5IYg"
   },
   "outputs": [],
   "source": [
    "# include preprocess_input function to datagen iterator for train and val set\n",
    "\n",
    "from keras.applications.inception_resnet_v2 import preprocess_input\n",
    "\n",
    "def preprocess_input_InceptionResNetV2(x):\n",
    "    x_pp = preprocess_input(x*255)\n",
    "    return x_pp\n",
    "\n",
    "traingen = ImageDataGenerator(preprocessing_function = preprocess_input_InceptionResNetV2)\n",
    "valgen = ImageDataGenerator(preprocessing_function = preprocess_input_InceptionResNetV2)"
   ]
  },
  {
   "cell_type": "markdown",
   "metadata": {
    "colab_type": "text",
    "id": "zrSuRiGMjTU9"
   },
   "source": [
    "---\n",
    "# 6) Train Model"
   ]
  },
  {
   "cell_type": "markdown",
   "metadata": {
    "colab_type": "text",
    "id": "NIUwsEeNfVdj"
   },
   "source": [
    "## a) Run 1: compile & train"
   ]
  },
  {
   "cell_type": "code",
   "execution_count": 27,
   "metadata": {
    "colab": {
     "base_uri": "https://localhost:8080/",
     "height": 1000
    },
    "colab_type": "code",
    "id": "g1IKJL1cCVul",
    "outputId": "ccb115e5-024c-4fb2-9526-a3b647a9b33a"
   },
   "outputs": [
    {
     "name": "stdout",
     "output_type": "stream",
     "text": [
      "Downloading data from https://github.com/rcmalli/keras-vggface/releases/download/v2.0/rcmalli_vggface_tf_notop_resnet50.h5\n",
      "94699520/94694792 [==============================] - 1s 0us/step\n"
     ]
    },
    {
     "data": {
      "text/html": [
       "<div>\n",
       "<style scoped>\n",
       "    .dataframe tbody tr th:only-of-type {\n",
       "        vertical-align: middle;\n",
       "    }\n",
       "\n",
       "    .dataframe tbody tr th {\n",
       "        vertical-align: top;\n",
       "    }\n",
       "\n",
       "    .dataframe thead th {\n",
       "        text-align: right;\n",
       "    }\n",
       "</style>\n",
       "<table border=\"1\" class=\"dataframe\">\n",
       "  <thead>\n",
       "    <tr style=\"text-align: right;\">\n",
       "      <th></th>\n",
       "      <th>Layer Type</th>\n",
       "      <th>Layer Name</th>\n",
       "      <th>Layer Trainable</th>\n",
       "    </tr>\n",
       "  </thead>\n",
       "  <tbody>\n",
       "    <tr>\n",
       "      <th>0</th>\n",
       "      <td>&lt;keras.engine.input_layer.InputLayer object at 0x7f48953b79b0&gt;</td>\n",
       "      <td>input_1</td>\n",
       "      <td>False</td>\n",
       "    </tr>\n",
       "    <tr>\n",
       "      <th>1</th>\n",
       "      <td>&lt;keras.layers.convolutional.Conv2D object at 0x7f48953b7be0&gt;</td>\n",
       "      <td>conv1/7x7_s2</td>\n",
       "      <td>False</td>\n",
       "    </tr>\n",
       "    <tr>\n",
       "      <th>2</th>\n",
       "      <td>&lt;keras.layers.normalization.BatchNormalization object at 0x7f48953b7e48&gt;</td>\n",
       "      <td>conv1/7x7_s2/bn</td>\n",
       "      <td>False</td>\n",
       "    </tr>\n",
       "    <tr>\n",
       "      <th>3</th>\n",
       "      <td>&lt;keras.layers.core.Activation object at 0x7f48953b7f98&gt;</td>\n",
       "      <td>activation_1</td>\n",
       "      <td>False</td>\n",
       "    </tr>\n",
       "    <tr>\n",
       "      <th>4</th>\n",
       "      <td>&lt;keras.layers.pooling.MaxPooling2D object at 0x7f489a93ae48&gt;</td>\n",
       "      <td>max_pooling2d_1</td>\n",
       "      <td>False</td>\n",
       "    </tr>\n",
       "    <tr>\n",
       "      <th>5</th>\n",
       "      <td>&lt;keras.layers.convolutional.Conv2D object at 0x7f4894127c88&gt;</td>\n",
       "      <td>conv2_1_1x1_reduce</td>\n",
       "      <td>False</td>\n",
       "    </tr>\n",
       "    <tr>\n",
       "      <th>6</th>\n",
       "      <td>&lt;keras.layers.normalization.BatchNormalization object at 0x7f48940a3be0&gt;</td>\n",
       "      <td>conv2_1_1x1_reduce/bn</td>\n",
       "      <td>False</td>\n",
       "    </tr>\n",
       "    <tr>\n",
       "      <th>7</th>\n",
       "      <td>&lt;keras.layers.core.Activation object at 0x7f48940a3fd0&gt;</td>\n",
       "      <td>activation_2</td>\n",
       "      <td>False</td>\n",
       "    </tr>\n",
       "    <tr>\n",
       "      <th>8</th>\n",
       "      <td>&lt;keras.layers.convolutional.Conv2D object at 0x7f48940ac9e8&gt;</td>\n",
       "      <td>conv2_1_3x3</td>\n",
       "      <td>False</td>\n",
       "    </tr>\n",
       "    <tr>\n",
       "      <th>9</th>\n",
       "      <td>&lt;keras.layers.normalization.BatchNormalization object at 0x7f489532d668&gt;</td>\n",
       "      <td>conv2_1_3x3/bn</td>\n",
       "      <td>False</td>\n",
       "    </tr>\n",
       "    <tr>\n",
       "      <th>10</th>\n",
       "      <td>&lt;keras.layers.core.Activation object at 0x7f489532d5f8&gt;</td>\n",
       "      <td>activation_3</td>\n",
       "      <td>False</td>\n",
       "    </tr>\n",
       "    <tr>\n",
       "      <th>11</th>\n",
       "      <td>&lt;keras.layers.convolutional.Conv2D object at 0x7f4895333f60&gt;</td>\n",
       "      <td>conv2_1_1x1_increase</td>\n",
       "      <td>False</td>\n",
       "    </tr>\n",
       "    <tr>\n",
       "      <th>12</th>\n",
       "      <td>&lt;keras.layers.convolutional.Conv2D object at 0x7f489416cfd0&gt;</td>\n",
       "      <td>conv2_1_1x1_proj</td>\n",
       "      <td>False</td>\n",
       "    </tr>\n",
       "    <tr>\n",
       "      <th>13</th>\n",
       "      <td>&lt;keras.layers.normalization.BatchNormalization object at 0x7f4894165e80&gt;</td>\n",
       "      <td>conv2_1_1x1_increase/bn</td>\n",
       "      <td>False</td>\n",
       "    </tr>\n",
       "    <tr>\n",
       "      <th>14</th>\n",
       "      <td>&lt;keras.layers.normalization.BatchNormalization object at 0x7f48940eb710&gt;</td>\n",
       "      <td>conv2_1_1x1_proj/bn</td>\n",
       "      <td>False</td>\n",
       "    </tr>\n",
       "    <tr>\n",
       "      <th>15</th>\n",
       "      <td>&lt;keras.layers.merge.Add object at 0x7f48940ebe80&gt;</td>\n",
       "      <td>add_1</td>\n",
       "      <td>False</td>\n",
       "    </tr>\n",
       "    <tr>\n",
       "      <th>16</th>\n",
       "      <td>&lt;keras.layers.core.Activation object at 0x7f488fffaa90&gt;</td>\n",
       "      <td>activation_4</td>\n",
       "      <td>False</td>\n",
       "    </tr>\n",
       "    <tr>\n",
       "      <th>17</th>\n",
       "      <td>&lt;keras.layers.convolutional.Conv2D object at 0x7f488fffac18&gt;</td>\n",
       "      <td>conv2_2_1x1_reduce</td>\n",
       "      <td>False</td>\n",
       "    </tr>\n",
       "    <tr>\n",
       "      <th>18</th>\n",
       "      <td>&lt;keras.layers.normalization.BatchNormalization object at 0x7f489002a940&gt;</td>\n",
       "      <td>conv2_2_1x1_reduce/bn</td>\n",
       "      <td>False</td>\n",
       "    </tr>\n",
       "    <tr>\n",
       "      <th>19</th>\n",
       "      <td>&lt;keras.layers.core.Activation object at 0x7f489002af60&gt;</td>\n",
       "      <td>activation_5</td>\n",
       "      <td>False</td>\n",
       "    </tr>\n",
       "    <tr>\n",
       "      <th>20</th>\n",
       "      <td>&lt;keras.layers.convolutional.Conv2D object at 0x7f4890034c88&gt;</td>\n",
       "      <td>conv2_2_3x3</td>\n",
       "      <td>False</td>\n",
       "    </tr>\n",
       "    <tr>\n",
       "      <th>21</th>\n",
       "      <td>&lt;keras.layers.normalization.BatchNormalization object at 0x7f488ffec940&gt;</td>\n",
       "      <td>conv2_2_3x3/bn</td>\n",
       "      <td>False</td>\n",
       "    </tr>\n",
       "    <tr>\n",
       "      <th>22</th>\n",
       "      <td>&lt;keras.layers.core.Activation object at 0x7f488ffec8d0&gt;</td>\n",
       "      <td>activation_6</td>\n",
       "      <td>False</td>\n",
       "    </tr>\n",
       "    <tr>\n",
       "      <th>23</th>\n",
       "      <td>&lt;keras.layers.convolutional.Conv2D object at 0x7f488fff2e48&gt;</td>\n",
       "      <td>conv2_2_1x1_increase</td>\n",
       "      <td>False</td>\n",
       "    </tr>\n",
       "    <tr>\n",
       "      <th>24</th>\n",
       "      <td>&lt;keras.layers.normalization.BatchNormalization object at 0x7f488ffb3240&gt;</td>\n",
       "      <td>conv2_2_1x1_increase/bn</td>\n",
       "      <td>False</td>\n",
       "    </tr>\n",
       "    <tr>\n",
       "      <th>25</th>\n",
       "      <td>&lt;keras.layers.merge.Add object at 0x7f488ffb3828&gt;</td>\n",
       "      <td>add_2</td>\n",
       "      <td>False</td>\n",
       "    </tr>\n",
       "    <tr>\n",
       "      <th>26</th>\n",
       "      <td>&lt;keras.layers.core.Activation object at 0x7f488ff4b780&gt;</td>\n",
       "      <td>activation_7</td>\n",
       "      <td>False</td>\n",
       "    </tr>\n",
       "    <tr>\n",
       "      <th>27</th>\n",
       "      <td>&lt;keras.layers.convolutional.Conv2D object at 0x7f488ff4bf60&gt;</td>\n",
       "      <td>conv2_3_1x1_reduce</td>\n",
       "      <td>False</td>\n",
       "    </tr>\n",
       "    <tr>\n",
       "      <th>28</th>\n",
       "      <td>&lt;keras.layers.normalization.BatchNormalization object at 0x7f488fefd630&gt;</td>\n",
       "      <td>conv2_3_1x1_reduce/bn</td>\n",
       "      <td>False</td>\n",
       "    </tr>\n",
       "    <tr>\n",
       "      <th>29</th>\n",
       "      <td>&lt;keras.layers.core.Activation object at 0x7f488fefdf28&gt;</td>\n",
       "      <td>activation_8</td>\n",
       "      <td>False</td>\n",
       "    </tr>\n",
       "    <tr>\n",
       "      <th>30</th>\n",
       "      <td>&lt;keras.layers.convolutional.Conv2D object at 0x7f488ff05940&gt;</td>\n",
       "      <td>conv2_3_3x3</td>\n",
       "      <td>False</td>\n",
       "    </tr>\n",
       "    <tr>\n",
       "      <th>31</th>\n",
       "      <td>&lt;keras.layers.normalization.BatchNormalization object at 0x7f488febb5f8&gt;</td>\n",
       "      <td>conv2_3_3x3/bn</td>\n",
       "      <td>False</td>\n",
       "    </tr>\n",
       "    <tr>\n",
       "      <th>32</th>\n",
       "      <td>&lt;keras.layers.core.Activation object at 0x7f488febb588&gt;</td>\n",
       "      <td>activation_9</td>\n",
       "      <td>False</td>\n",
       "    </tr>\n",
       "    <tr>\n",
       "      <th>33</th>\n",
       "      <td>&lt;keras.layers.convolutional.Conv2D object at 0x7f488fec5ef0&gt;</td>\n",
       "      <td>conv2_3_1x1_increase</td>\n",
       "      <td>False</td>\n",
       "    </tr>\n",
       "    <tr>\n",
       "      <th>34</th>\n",
       "      <td>&lt;keras.layers.normalization.BatchNormalization object at 0x7f488fe7ce10&gt;</td>\n",
       "      <td>conv2_3_1x1_increase/bn</td>\n",
       "      <td>False</td>\n",
       "    </tr>\n",
       "    <tr>\n",
       "      <th>35</th>\n",
       "      <td>&lt;keras.layers.merge.Add object at 0x7f488fe85f60&gt;</td>\n",
       "      <td>add_3</td>\n",
       "      <td>False</td>\n",
       "    </tr>\n",
       "    <tr>\n",
       "      <th>36</th>\n",
       "      <td>&lt;keras.layers.core.Activation object at 0x7f488fe9bd30&gt;</td>\n",
       "      <td>activation_10</td>\n",
       "      <td>False</td>\n",
       "    </tr>\n",
       "    <tr>\n",
       "      <th>37</th>\n",
       "      <td>&lt;keras.layers.convolutional.Conv2D object at 0x7f488fea1e48&gt;</td>\n",
       "      <td>conv3_1_1x1_reduce</td>\n",
       "      <td>True</td>\n",
       "    </tr>\n",
       "    <tr>\n",
       "      <th>38</th>\n",
       "      <td>&lt;keras.layers.normalization.BatchNormalization object at 0x7f488fe46eb8&gt;</td>\n",
       "      <td>conv3_1_1x1_reduce/bn</td>\n",
       "      <td>True</td>\n",
       "    </tr>\n",
       "    <tr>\n",
       "      <th>39</th>\n",
       "      <td>&lt;keras.layers.core.Activation object at 0x7f488fe4ee80&gt;</td>\n",
       "      <td>activation_11</td>\n",
       "      <td>True</td>\n",
       "    </tr>\n",
       "    <tr>\n",
       "      <th>40</th>\n",
       "      <td>&lt;keras.layers.convolutional.Conv2D object at 0x7f488fe4eeb8&gt;</td>\n",
       "      <td>conv3_1_3x3</td>\n",
       "      <td>True</td>\n",
       "    </tr>\n",
       "    <tr>\n",
       "      <th>41</th>\n",
       "      <td>&lt;keras.layers.normalization.BatchNormalization object at 0x7f488fe102b0&gt;</td>\n",
       "      <td>conv3_1_3x3/bn</td>\n",
       "      <td>True</td>\n",
       "    </tr>\n",
       "    <tr>\n",
       "      <th>42</th>\n",
       "      <td>&lt;keras.layers.core.Activation object at 0x7f488fe108d0&gt;</td>\n",
       "      <td>activation_12</td>\n",
       "      <td>True</td>\n",
       "    </tr>\n",
       "    <tr>\n",
       "      <th>43</th>\n",
       "      <td>&lt;keras.layers.convolutional.Conv2D object at 0x7f488fe18eb8&gt;</td>\n",
       "      <td>conv3_1_1x1_increase</td>\n",
       "      <td>True</td>\n",
       "    </tr>\n",
       "    <tr>\n",
       "      <th>44</th>\n",
       "      <td>&lt;keras.layers.convolutional.Conv2D object at 0x7f488fdd8da0&gt;</td>\n",
       "      <td>conv3_1_1x1_proj</td>\n",
       "      <td>True</td>\n",
       "    </tr>\n",
       "    <tr>\n",
       "      <th>45</th>\n",
       "      <td>&lt;keras.layers.normalization.BatchNormalization object at 0x7f488fdd2ac8&gt;</td>\n",
       "      <td>conv3_1_1x1_increase/bn</td>\n",
       "      <td>True</td>\n",
       "    </tr>\n",
       "    <tr>\n",
       "      <th>46</th>\n",
       "      <td>&lt;keras.layers.normalization.BatchNormalization object at 0x7f488fd99320&gt;</td>\n",
       "      <td>conv3_1_1x1_proj/bn</td>\n",
       "      <td>True</td>\n",
       "    </tr>\n",
       "    <tr>\n",
       "      <th>47</th>\n",
       "      <td>&lt;keras.layers.merge.Add object at 0x7f488fd99b00&gt;</td>\n",
       "      <td>add_4</td>\n",
       "      <td>True</td>\n",
       "    </tr>\n",
       "    <tr>\n",
       "      <th>48</th>\n",
       "      <td>&lt;keras.layers.core.Activation object at 0x7f488fdaf6d8&gt;</td>\n",
       "      <td>activation_13</td>\n",
       "      <td>True</td>\n",
       "    </tr>\n",
       "    <tr>\n",
       "      <th>49</th>\n",
       "      <td>&lt;keras.layers.convolutional.Conv2D object at 0x7f488fdaff98&gt;</td>\n",
       "      <td>conv3_2_1x1_reduce</td>\n",
       "      <td>True</td>\n",
       "    </tr>\n",
       "    <tr>\n",
       "      <th>50</th>\n",
       "      <td>&lt;keras.layers.normalization.BatchNormalization object at 0x7f488fd5ae80&gt;</td>\n",
       "      <td>conv3_2_1x1_reduce/bn</td>\n",
       "      <td>True</td>\n",
       "    </tr>\n",
       "    <tr>\n",
       "      <th>51</th>\n",
       "      <td>&lt;keras.layers.core.Activation object at 0x7f488fd64f98&gt;</td>\n",
       "      <td>activation_14</td>\n",
       "      <td>True</td>\n",
       "    </tr>\n",
       "    <tr>\n",
       "      <th>52</th>\n",
       "      <td>&lt;keras.layers.convolutional.Conv2D object at 0x7f488fd64fd0&gt;</td>\n",
       "      <td>conv3_2_3x3</td>\n",
       "      <td>True</td>\n",
       "    </tr>\n",
       "    <tr>\n",
       "      <th>53</th>\n",
       "      <td>&lt;keras.layers.normalization.BatchNormalization object at 0x7f488fd22588&gt;</td>\n",
       "      <td>conv3_2_3x3/bn</td>\n",
       "      <td>True</td>\n",
       "    </tr>\n",
       "    <tr>\n",
       "      <th>54</th>\n",
       "      <td>&lt;keras.layers.core.Activation object at 0x7f488fd22518&gt;</td>\n",
       "      <td>activation_15</td>\n",
       "      <td>True</td>\n",
       "    </tr>\n",
       "    <tr>\n",
       "      <th>55</th>\n",
       "      <td>&lt;keras.layers.convolutional.Conv2D object at 0x7f488fd2bfd0&gt;</td>\n",
       "      <td>conv3_2_1x1_increase</td>\n",
       "      <td>True</td>\n",
       "    </tr>\n",
       "    <tr>\n",
       "      <th>56</th>\n",
       "      <td>&lt;keras.layers.normalization.BatchNormalization object at 0x7f488fce3da0&gt;</td>\n",
       "      <td>conv3_2_1x1_increase/bn</td>\n",
       "      <td>True</td>\n",
       "    </tr>\n",
       "    <tr>\n",
       "      <th>57</th>\n",
       "      <td>&lt;keras.layers.merge.Add object at 0x7f488fceaf98&gt;</td>\n",
       "      <td>add_5</td>\n",
       "      <td>True</td>\n",
       "    </tr>\n",
       "    <tr>\n",
       "      <th>58</th>\n",
       "      <td>&lt;keras.layers.core.Activation object at 0x7f488fc82cc0&gt;</td>\n",
       "      <td>activation_16</td>\n",
       "      <td>True</td>\n",
       "    </tr>\n",
       "    <tr>\n",
       "      <th>59</th>\n",
       "      <td>&lt;keras.layers.convolutional.Conv2D object at 0x7f488fc87da0&gt;</td>\n",
       "      <td>conv3_3_1x1_reduce</td>\n",
       "      <td>True</td>\n",
       "    </tr>\n",
       "    <tr>\n",
       "      <th>60</th>\n",
       "      <td>&lt;keras.layers.normalization.BatchNormalization object at 0x7f488fca9dd8&gt;</td>\n",
       "      <td>conv3_3_1x1_reduce/bn</td>\n",
       "      <td>True</td>\n",
       "    </tr>\n",
       "    <tr>\n",
       "      <th>61</th>\n",
       "      <td>&lt;keras.layers.core.Activation object at 0x7f488fcb4e10&gt;</td>\n",
       "      <td>activation_17</td>\n",
       "      <td>True</td>\n",
       "    </tr>\n",
       "    <tr>\n",
       "      <th>62</th>\n",
       "      <td>&lt;keras.layers.convolutional.Conv2D object at 0x7f488fcb4e48&gt;</td>\n",
       "      <td>conv3_3_3x3</td>\n",
       "      <td>True</td>\n",
       "    </tr>\n",
       "    <tr>\n",
       "      <th>63</th>\n",
       "      <td>&lt;keras.layers.normalization.BatchNormalization object at 0x7f488fbf5240&gt;</td>\n",
       "      <td>conv3_3_3x3/bn</td>\n",
       "      <td>True</td>\n",
       "    </tr>\n",
       "    <tr>\n",
       "      <th>64</th>\n",
       "      <td>&lt;keras.layers.core.Activation object at 0x7f488fbf5860&gt;</td>\n",
       "      <td>activation_18</td>\n",
       "      <td>True</td>\n",
       "    </tr>\n",
       "    <tr>\n",
       "      <th>65</th>\n",
       "      <td>&lt;keras.layers.convolutional.Conv2D object at 0x7f488fbfee48&gt;</td>\n",
       "      <td>conv3_3_1x1_increase</td>\n",
       "      <td>True</td>\n",
       "    </tr>\n",
       "    <tr>\n",
       "      <th>66</th>\n",
       "      <td>&lt;keras.layers.normalization.BatchNormalization object at 0x7f488fc34a58&gt;</td>\n",
       "      <td>conv3_3_1x1_increase/bn</td>\n",
       "      <td>True</td>\n",
       "    </tr>\n",
       "    <tr>\n",
       "      <th>67</th>\n",
       "      <td>&lt;keras.layers.merge.Add object at 0x7f488fbbcb38&gt;</td>\n",
       "      <td>add_6</td>\n",
       "      <td>True</td>\n",
       "    </tr>\n",
       "    <tr>\n",
       "      <th>68</th>\n",
       "      <td>&lt;keras.layers.core.Activation object at 0x7f488fbd3fd0&gt;</td>\n",
       "      <td>activation_19</td>\n",
       "      <td>True</td>\n",
       "    </tr>\n",
       "    <tr>\n",
       "      <th>69</th>\n",
       "      <td>&lt;keras.layers.convolutional.Conv2D object at 0x7f488fbe54e0&gt;</td>\n",
       "      <td>conv3_4_1x1_reduce</td>\n",
       "      <td>True</td>\n",
       "    </tr>\n",
       "    <tr>\n",
       "      <th>70</th>\n",
       "      <td>&lt;keras.layers.normalization.BatchNormalization object at 0x7f488fb7def0&gt;</td>\n",
       "      <td>conv3_4_1x1_reduce/bn</td>\n",
       "      <td>True</td>\n",
       "    </tr>\n",
       "    <tr>\n",
       "      <th>71</th>\n",
       "      <td>&lt;keras.layers.core.Activation object at 0x7f488fb84d68&gt;</td>\n",
       "      <td>activation_20</td>\n",
       "      <td>True</td>\n",
       "    </tr>\n",
       "    <tr>\n",
       "      <th>72</th>\n",
       "      <td>&lt;keras.layers.convolutional.Conv2D object at 0x7f488fb84ef0&gt;</td>\n",
       "      <td>conv3_4_3x3</td>\n",
       "      <td>True</td>\n",
       "    </tr>\n",
       "    <tr>\n",
       "      <th>73</th>\n",
       "      <td>&lt;keras.layers.normalization.BatchNormalization object at 0x7f488fb3de10&gt;</td>\n",
       "      <td>conv3_4_3x3/bn</td>\n",
       "      <td>True</td>\n",
       "    </tr>\n",
       "    <tr>\n",
       "      <th>74</th>\n",
       "      <td>&lt;keras.layers.core.Activation object at 0x7f488fb42f60&gt;</td>\n",
       "      <td>activation_21</td>\n",
       "      <td>True</td>\n",
       "    </tr>\n",
       "    <tr>\n",
       "      <th>75</th>\n",
       "      <td>&lt;keras.layers.convolutional.Conv2D object at 0x7f488fb4eb00&gt;</td>\n",
       "      <td>conv3_4_1x1_increase</td>\n",
       "      <td>True</td>\n",
       "    </tr>\n",
       "    <tr>\n",
       "      <th>76</th>\n",
       "      <td>&lt;keras.layers.normalization.BatchNormalization object at 0x7f488fb037b8&gt;</td>\n",
       "      <td>conv3_4_1x1_increase/bn</td>\n",
       "      <td>True</td>\n",
       "    </tr>\n",
       "    <tr>\n",
       "      <th>77</th>\n",
       "      <td>&lt;keras.layers.merge.Add object at 0x7f488fb03748&gt;</td>\n",
       "      <td>add_7</td>\n",
       "      <td>True</td>\n",
       "    </tr>\n",
       "    <tr>\n",
       "      <th>78</th>\n",
       "      <td>&lt;keras.layers.core.Activation object at 0x7f488fb1a978&gt;</td>\n",
       "      <td>activation_22</td>\n",
       "      <td>True</td>\n",
       "    </tr>\n",
       "    <tr>\n",
       "      <th>79</th>\n",
       "      <td>&lt;keras.layers.convolutional.Conv2D object at 0x7f488fac3198&gt;</td>\n",
       "      <td>conv4_1_1x1_reduce</td>\n",
       "      <td>True</td>\n",
       "    </tr>\n",
       "    <tr>\n",
       "      <th>80</th>\n",
       "      <td>&lt;keras.layers.normalization.BatchNormalization object at 0x7f488facfba8&gt;</td>\n",
       "      <td>conv4_1_1x1_reduce/bn</td>\n",
       "      <td>True</td>\n",
       "    </tr>\n",
       "    <tr>\n",
       "      <th>81</th>\n",
       "      <td>&lt;keras.layers.core.Activation object at 0x7f488facfeb8&gt;</td>\n",
       "      <td>activation_23</td>\n",
       "      <td>True</td>\n",
       "    </tr>\n",
       "    <tr>\n",
       "      <th>82</th>\n",
       "      <td>&lt;keras.layers.convolutional.Conv2D object at 0x7f488fad8eb8&gt;</td>\n",
       "      <td>conv4_1_3x3</td>\n",
       "      <td>True</td>\n",
       "    </tr>\n",
       "    <tr>\n",
       "      <th>83</th>\n",
       "      <td>&lt;keras.layers.normalization.BatchNormalization object at 0x7f488fa91ac8&gt;</td>\n",
       "      <td>conv4_1_3x3/bn</td>\n",
       "      <td>True</td>\n",
       "    </tr>\n",
       "    <tr>\n",
       "      <th>84</th>\n",
       "      <td>&lt;keras.layers.core.Activation object at 0x7f488fa97d68&gt;</td>\n",
       "      <td>activation_24</td>\n",
       "      <td>True</td>\n",
       "    </tr>\n",
       "    <tr>\n",
       "      <th>85</th>\n",
       "      <td>&lt;keras.layers.convolutional.Conv2D object at 0x7f488fa97b70&gt;</td>\n",
       "      <td>conv4_1_1x1_increase</td>\n",
       "      <td>True</td>\n",
       "    </tr>\n",
       "    <tr>\n",
       "      <th>86</th>\n",
       "      <td>&lt;keras.layers.convolutional.Conv2D object at 0x7f488fa5aa90&gt;</td>\n",
       "      <td>conv4_1_1x1_proj</td>\n",
       "      <td>True</td>\n",
       "    </tr>\n",
       "    <tr>\n",
       "      <th>87</th>\n",
       "      <td>&lt;keras.layers.normalization.BatchNormalization object at 0x7f488fa5a470&gt;</td>\n",
       "      <td>conv4_1_1x1_increase/bn</td>\n",
       "      <td>True</td>\n",
       "    </tr>\n",
       "    <tr>\n",
       "      <th>88</th>\n",
       "      <td>&lt;keras.layers.normalization.BatchNormalization object at 0x7f488fa20358&gt;</td>\n",
       "      <td>conv4_1_1x1_proj/bn</td>\n",
       "      <td>True</td>\n",
       "    </tr>\n",
       "    <tr>\n",
       "      <th>89</th>\n",
       "      <td>&lt;keras.layers.merge.Add object at 0x7f488fa20b00&gt;</td>\n",
       "      <td>add_8</td>\n",
       "      <td>True</td>\n",
       "    </tr>\n",
       "    <tr>\n",
       "      <th>90</th>\n",
       "      <td>&lt;keras.layers.core.Activation object at 0x7f488f9b76d8&gt;</td>\n",
       "      <td>activation_25</td>\n",
       "      <td>True</td>\n",
       "    </tr>\n",
       "    <tr>\n",
       "      <th>91</th>\n",
       "      <td>&lt;keras.layers.convolutional.Conv2D object at 0x7f488f9c6d68&gt;</td>\n",
       "      <td>conv4_2_1x1_reduce</td>\n",
       "      <td>True</td>\n",
       "    </tr>\n",
       "    <tr>\n",
       "      <th>92</th>\n",
       "      <td>&lt;keras.layers.normalization.BatchNormalization object at 0x7f488f9ebc88&gt;</td>\n",
       "      <td>conv4_2_1x1_reduce/bn</td>\n",
       "      <td>True</td>\n",
       "    </tr>\n",
       "    <tr>\n",
       "      <th>93</th>\n",
       "      <td>&lt;keras.layers.core.Activation object at 0x7f488f9f2e10&gt;</td>\n",
       "      <td>activation_26</td>\n",
       "      <td>True</td>\n",
       "    </tr>\n",
       "    <tr>\n",
       "      <th>94</th>\n",
       "      <td>&lt;keras.layers.convolutional.Conv2D object at 0x7f488f9f2f98&gt;</td>\n",
       "      <td>conv4_2_3x3</td>\n",
       "      <td>True</td>\n",
       "    </tr>\n",
       "    <tr>\n",
       "      <th>95</th>\n",
       "      <td>&lt;keras.layers.normalization.BatchNormalization object at 0x7f488f9abbe0&gt;</td>\n",
       "      <td>conv4_2_3x3/bn</td>\n",
       "      <td>True</td>\n",
       "    </tr>\n",
       "    <tr>\n",
       "      <th>96</th>\n",
       "      <td>&lt;keras.layers.core.Activation object at 0x7f488f9b2fd0&gt;</td>\n",
       "      <td>activation_27</td>\n",
       "      <td>True</td>\n",
       "    </tr>\n",
       "    <tr>\n",
       "      <th>97</th>\n",
       "      <td>&lt;keras.layers.convolutional.Conv2D object at 0x7f488f939940&gt;</td>\n",
       "      <td>conv4_2_1x1_increase</td>\n",
       "      <td>True</td>\n",
       "    </tr>\n",
       "    <tr>\n",
       "      <th>98</th>\n",
       "      <td>&lt;keras.layers.normalization.BatchNormalization object at 0x7f488f973a90&gt;</td>\n",
       "      <td>conv4_2_1x1_increase/bn</td>\n",
       "      <td>True</td>\n",
       "    </tr>\n",
       "    <tr>\n",
       "      <th>99</th>\n",
       "      <td>&lt;keras.layers.merge.Add object at 0x7f488f973c50&gt;</td>\n",
       "      <td>add_9</td>\n",
       "      <td>True</td>\n",
       "    </tr>\n",
       "    <tr>\n",
       "      <th>100</th>\n",
       "      <td>&lt;keras.layers.core.Activation object at 0x7f489a9a6ac8&gt;</td>\n",
       "      <td>activation_28</td>\n",
       "      <td>True</td>\n",
       "    </tr>\n",
       "    <tr>\n",
       "      <th>101</th>\n",
       "      <td>&lt;keras.layers.convolutional.Conv2D object at 0x7f489a9a6c88&gt;</td>\n",
       "      <td>conv4_3_1x1_reduce</td>\n",
       "      <td>True</td>\n",
       "    </tr>\n",
       "    <tr>\n",
       "      <th>102</th>\n",
       "      <td>&lt;keras.layers.normalization.BatchNormalization object at 0x7f488f91ecf8&gt;</td>\n",
       "      <td>conv4_3_1x1_reduce/bn</td>\n",
       "      <td>True</td>\n",
       "    </tr>\n",
       "    <tr>\n",
       "      <th>103</th>\n",
       "      <td>&lt;keras.layers.core.Activation object at 0x7f488f926d68&gt;</td>\n",
       "      <td>activation_29</td>\n",
       "      <td>True</td>\n",
       "    </tr>\n",
       "    <tr>\n",
       "      <th>104</th>\n",
       "      <td>&lt;keras.layers.convolutional.Conv2D object at 0x7f488f926fd0&gt;</td>\n",
       "      <td>conv4_3_3x3</td>\n",
       "      <td>True</td>\n",
       "    </tr>\n",
       "    <tr>\n",
       "      <th>105</th>\n",
       "      <td>&lt;keras.layers.normalization.BatchNormalization object at 0x7f488f8e8240&gt;</td>\n",
       "      <td>conv4_3_3x3/bn</td>\n",
       "      <td>True</td>\n",
       "    </tr>\n",
       "    <tr>\n",
       "      <th>106</th>\n",
       "      <td>&lt;keras.layers.core.Activation object at 0x7f488f8e8828&gt;</td>\n",
       "      <td>activation_30</td>\n",
       "      <td>True</td>\n",
       "    </tr>\n",
       "    <tr>\n",
       "      <th>107</th>\n",
       "      <td>&lt;keras.layers.convolutional.Conv2D object at 0x7f488f8efe10&gt;</td>\n",
       "      <td>conv4_3_1x1_increase</td>\n",
       "      <td>True</td>\n",
       "    </tr>\n",
       "    <tr>\n",
       "      <th>108</th>\n",
       "      <td>&lt;keras.layers.normalization.BatchNormalization object at 0x7f488f8a5b38&gt;</td>\n",
       "      <td>conv4_3_1x1_increase/bn</td>\n",
       "      <td>True</td>\n",
       "    </tr>\n",
       "    <tr>\n",
       "      <th>109</th>\n",
       "      <td>&lt;keras.layers.merge.Add object at 0x7f488f8ace10&gt;</td>\n",
       "      <td>add_10</td>\n",
       "      <td>True</td>\n",
       "    </tr>\n",
       "    <tr>\n",
       "      <th>110</th>\n",
       "      <td>&lt;keras.layers.core.Activation object at 0x7f488f843f98&gt;</td>\n",
       "      <td>activation_31</td>\n",
       "      <td>True</td>\n",
       "    </tr>\n",
       "    <tr>\n",
       "      <th>111</th>\n",
       "      <td>&lt;keras.layers.convolutional.Conv2D object at 0x7f488f84aba8&gt;</td>\n",
       "      <td>conv4_4_1x1_reduce</td>\n",
       "      <td>True</td>\n",
       "    </tr>\n",
       "    <tr>\n",
       "      <th>112</th>\n",
       "      <td>&lt;keras.layers.normalization.BatchNormalization object at 0x7f488f8737f0&gt;</td>\n",
       "      <td>conv4_4_1x1_reduce/bn</td>\n",
       "      <td>True</td>\n",
       "    </tr>\n",
       "    <tr>\n",
       "      <th>113</th>\n",
       "      <td>&lt;keras.layers.core.Activation object at 0x7f488f873f60&gt;</td>\n",
       "      <td>activation_32</td>\n",
       "      <td>True</td>\n",
       "    </tr>\n",
       "    <tr>\n",
       "      <th>114</th>\n",
       "      <td>&lt;keras.layers.convolutional.Conv2D object at 0x7f488f7fab00&gt;</td>\n",
       "      <td>conv4_4_3x3</td>\n",
       "      <td>True</td>\n",
       "    </tr>\n",
       "    <tr>\n",
       "      <th>115</th>\n",
       "      <td>&lt;keras.layers.normalization.BatchNormalization object at 0x7f488f832898&gt;</td>\n",
       "      <td>conv4_4_3x3/bn</td>\n",
       "      <td>True</td>\n",
       "    </tr>\n",
       "    <tr>\n",
       "      <th>116</th>\n",
       "      <td>&lt;keras.layers.core.Activation object at 0x7f488f832828&gt;</td>\n",
       "      <td>activation_33</td>\n",
       "      <td>True</td>\n",
       "    </tr>\n",
       "    <tr>\n",
       "      <th>117</th>\n",
       "      <td>&lt;keras.layers.convolutional.Conv2D object at 0x7f488f7bcda0&gt;</td>\n",
       "      <td>conv4_4_1x1_increase</td>\n",
       "      <td>True</td>\n",
       "    </tr>\n",
       "    <tr>\n",
       "      <th>118</th>\n",
       "      <td>&lt;keras.layers.normalization.BatchNormalization object at 0x7f488f77b278&gt;</td>\n",
       "      <td>conv4_4_1x1_increase/bn</td>\n",
       "      <td>True</td>\n",
       "    </tr>\n",
       "    <tr>\n",
       "      <th>119</th>\n",
       "      <td>&lt;keras.layers.merge.Add object at 0x7f488f77b860&gt;</td>\n",
       "      <td>add_11</td>\n",
       "      <td>True</td>\n",
       "    </tr>\n",
       "    <tr>\n",
       "      <th>120</th>\n",
       "      <td>&lt;keras.layers.core.Activation object at 0x7f488f7927b8&gt;</td>\n",
       "      <td>activation_34</td>\n",
       "      <td>True</td>\n",
       "    </tr>\n",
       "    <tr>\n",
       "      <th>121</th>\n",
       "      <td>&lt;keras.layers.convolutional.Conv2D object at 0x7f488f792fd0&gt;</td>\n",
       "      <td>conv4_5_1x1_reduce</td>\n",
       "      <td>True</td>\n",
       "    </tr>\n",
       "    <tr>\n",
       "      <th>122</th>\n",
       "      <td>&lt;keras.layers.normalization.BatchNormalization object at 0x7f488f746e48&gt;</td>\n",
       "      <td>conv4_5_1x1_reduce/bn</td>\n",
       "      <td>True</td>\n",
       "    </tr>\n",
       "    <tr>\n",
       "      <th>123</th>\n",
       "      <td>&lt;keras.layers.core.Activation object at 0x7f488f74ec88&gt;</td>\n",
       "      <td>activation_35</td>\n",
       "      <td>True</td>\n",
       "    </tr>\n",
       "    <tr>\n",
       "      <th>124</th>\n",
       "      <td>&lt;keras.layers.convolutional.Conv2D object at 0x7f488f74ee10&gt;</td>\n",
       "      <td>conv4_5_3x3</td>\n",
       "      <td>True</td>\n",
       "    </tr>\n",
       "    <tr>\n",
       "      <th>125</th>\n",
       "      <td>&lt;keras.layers.normalization.BatchNormalization object at 0x7f488f705e48&gt;</td>\n",
       "      <td>conv4_5_3x3/bn</td>\n",
       "      <td>True</td>\n",
       "    </tr>\n",
       "    <tr>\n",
       "      <th>126</th>\n",
       "      <td>&lt;keras.layers.core.Activation object at 0x7f488f70bf60&gt;</td>\n",
       "      <td>activation_36</td>\n",
       "      <td>True</td>\n",
       "    </tr>\n",
       "    <tr>\n",
       "      <th>127</th>\n",
       "      <td>&lt;keras.layers.convolutional.Conv2D object at 0x7f488f717b00&gt;</td>\n",
       "      <td>conv4_5_1x1_increase</td>\n",
       "      <td>True</td>\n",
       "    </tr>\n",
       "    <tr>\n",
       "      <th>128</th>\n",
       "      <td>&lt;keras.layers.normalization.BatchNormalization object at 0x7f488f6cb8d0&gt;</td>\n",
       "      <td>conv4_5_1x1_increase/bn</td>\n",
       "      <td>True</td>\n",
       "    </tr>\n",
       "    <tr>\n",
       "      <th>129</th>\n",
       "      <td>&lt;keras.layers.merge.Add object at 0x7f488f6cb860&gt;</td>\n",
       "      <td>add_12</td>\n",
       "      <td>True</td>\n",
       "    </tr>\n",
       "    <tr>\n",
       "      <th>130</th>\n",
       "      <td>&lt;keras.layers.core.Activation object at 0x7f488f6e2a90&gt;</td>\n",
       "      <td>activation_37</td>\n",
       "      <td>True</td>\n",
       "    </tr>\n",
       "    <tr>\n",
       "      <th>131</th>\n",
       "      <td>&lt;keras.layers.convolutional.Conv2D object at 0x7f488f686710&gt;</td>\n",
       "      <td>conv4_6_1x1_reduce</td>\n",
       "      <td>True</td>\n",
       "    </tr>\n",
       "    <tr>\n",
       "      <th>132</th>\n",
       "      <td>&lt;keras.layers.normalization.BatchNormalization object at 0x7f488f695dd8&gt;</td>\n",
       "      <td>conv4_6_1x1_reduce/bn</td>\n",
       "      <td>True</td>\n",
       "    </tr>\n",
       "    <tr>\n",
       "      <th>133</th>\n",
       "      <td>&lt;keras.layers.core.Activation object at 0x7f488f69cdd8&gt;</td>\n",
       "      <td>activation_38</td>\n",
       "      <td>True</td>\n",
       "    </tr>\n",
       "    <tr>\n",
       "      <th>134</th>\n",
       "      <td>&lt;keras.layers.convolutional.Conv2D object at 0x7f488f69cbe0&gt;</td>\n",
       "      <td>conv4_6_3x3</td>\n",
       "      <td>True</td>\n",
       "    </tr>\n",
       "    <tr>\n",
       "      <th>135</th>\n",
       "      <td>&lt;keras.layers.normalization.BatchNormalization object at 0x7f488f65d588&gt;</td>\n",
       "      <td>conv4_6_3x3/bn</td>\n",
       "      <td>True</td>\n",
       "    </tr>\n",
       "    <tr>\n",
       "      <th>136</th>\n",
       "      <td>&lt;keras.layers.core.Activation object at 0x7f488f65d518&gt;</td>\n",
       "      <td>activation_39</td>\n",
       "      <td>True</td>\n",
       "    </tr>\n",
       "    <tr>\n",
       "      <th>137</th>\n",
       "      <td>&lt;keras.layers.convolutional.Conv2D object at 0x7f488f664fd0&gt;</td>\n",
       "      <td>conv4_6_1x1_increase</td>\n",
       "      <td>True</td>\n",
       "    </tr>\n",
       "    <tr>\n",
       "      <th>138</th>\n",
       "      <td>&lt;keras.layers.normalization.BatchNormalization object at 0x7f488f61ae80&gt;</td>\n",
       "      <td>conv4_6_1x1_increase/bn</td>\n",
       "      <td>True</td>\n",
       "    </tr>\n",
       "    <tr>\n",
       "      <th>139</th>\n",
       "      <td>&lt;keras.layers.merge.Add object at 0x7f488f624fd0&gt;</td>\n",
       "      <td>add_13</td>\n",
       "      <td>True</td>\n",
       "    </tr>\n",
       "    <tr>\n",
       "      <th>140</th>\n",
       "      <td>&lt;keras.layers.core.Activation object at 0x7f488f5badd8&gt;</td>\n",
       "      <td>activation_40</td>\n",
       "      <td>True</td>\n",
       "    </tr>\n",
       "    <tr>\n",
       "      <th>141</th>\n",
       "      <td>&lt;keras.layers.convolutional.Conv2D object at 0x7f488f5c1f60&gt;</td>\n",
       "      <td>conv5_1_1x1_reduce</td>\n",
       "      <td>True</td>\n",
       "    </tr>\n",
       "    <tr>\n",
       "      <th>142</th>\n",
       "      <td>&lt;keras.layers.normalization.BatchNormalization object at 0x7f488f5ecb38&gt;</td>\n",
       "      <td>conv5_1_1x1_reduce/bn</td>\n",
       "      <td>True</td>\n",
       "    </tr>\n",
       "    <tr>\n",
       "      <th>143</th>\n",
       "      <td>&lt;keras.layers.core.Activation object at 0x7f488f5ece48&gt;</td>\n",
       "      <td>activation_41</td>\n",
       "      <td>True</td>\n",
       "    </tr>\n",
       "    <tr>\n",
       "      <th>144</th>\n",
       "      <td>&lt;keras.layers.convolutional.Conv2D object at 0x7f488f576e48&gt;</td>\n",
       "      <td>conv5_1_3x3</td>\n",
       "      <td>True</td>\n",
       "    </tr>\n",
       "    <tr>\n",
       "      <th>145</th>\n",
       "      <td>&lt;keras.layers.normalization.BatchNormalization object at 0x7f488f5aeb38&gt;</td>\n",
       "      <td>conv5_1_3x3/bn</td>\n",
       "      <td>True</td>\n",
       "    </tr>\n",
       "    <tr>\n",
       "      <th>146</th>\n",
       "      <td>&lt;keras.layers.core.Activation object at 0x7f488f535e10&gt;</td>\n",
       "      <td>activation_42</td>\n",
       "      <td>True</td>\n",
       "    </tr>\n",
       "    <tr>\n",
       "      <th>147</th>\n",
       "      <td>&lt;keras.layers.convolutional.Conv2D object at 0x7f488f535c18&gt;</td>\n",
       "      <td>conv5_1_1x1_increase</td>\n",
       "      <td>True</td>\n",
       "    </tr>\n",
       "    <tr>\n",
       "      <th>148</th>\n",
       "      <td>&lt;keras.layers.convolutional.Conv2D object at 0x7f488f4f5550&gt;</td>\n",
       "      <td>conv5_1_1x1_proj</td>\n",
       "      <td>True</td>\n",
       "    </tr>\n",
       "    <tr>\n",
       "      <th>149</th>\n",
       "      <td>&lt;keras.layers.normalization.BatchNormalization object at 0x7f488f4f55c0&gt;</td>\n",
       "      <td>conv5_1_1x1_increase/bn</td>\n",
       "      <td>True</td>\n",
       "    </tr>\n",
       "    <tr>\n",
       "      <th>150</th>\n",
       "      <td>&lt;keras.layers.normalization.BatchNormalization object at 0x7f488f4bc588&gt;</td>\n",
       "      <td>conv5_1_1x1_proj/bn</td>\n",
       "      <td>True</td>\n",
       "    </tr>\n",
       "    <tr>\n",
       "      <th>151</th>\n",
       "      <td>&lt;keras.layers.merge.Add object at 0x7f488f4bcc88&gt;</td>\n",
       "      <td>add_14</td>\n",
       "      <td>True</td>\n",
       "    </tr>\n",
       "    <tr>\n",
       "      <th>152</th>\n",
       "      <td>&lt;keras.layers.core.Activation object at 0x7f488f4d4908&gt;</td>\n",
       "      <td>activation_43</td>\n",
       "      <td>True</td>\n",
       "    </tr>\n",
       "    <tr>\n",
       "      <th>153</th>\n",
       "      <td>&lt;keras.layers.convolutional.Conv2D object at 0x7f488f4d4f60&gt;</td>\n",
       "      <td>conv5_2_1x1_reduce</td>\n",
       "      <td>True</td>\n",
       "    </tr>\n",
       "    <tr>\n",
       "      <th>154</th>\n",
       "      <td>&lt;keras.layers.normalization.BatchNormalization object at 0x7f488f483f60&gt;</td>\n",
       "      <td>conv5_2_1x1_reduce/bn</td>\n",
       "      <td>True</td>\n",
       "    </tr>\n",
       "    <tr>\n",
       "      <th>155</th>\n",
       "      <td>&lt;keras.layers.core.Activation object at 0x7f488f48de10&gt;</td>\n",
       "      <td>activation_44</td>\n",
       "      <td>True</td>\n",
       "    </tr>\n",
       "    <tr>\n",
       "      <th>156</th>\n",
       "      <td>&lt;keras.layers.convolutional.Conv2D object at 0x7f488f48df98&gt;</td>\n",
       "      <td>conv5_2_3x3</td>\n",
       "      <td>True</td>\n",
       "    </tr>\n",
       "    <tr>\n",
       "      <th>157</th>\n",
       "      <td>&lt;keras.layers.normalization.BatchNormalization object at 0x7f488f445f28&gt;</td>\n",
       "      <td>conv5_2_3x3/bn</td>\n",
       "      <td>True</td>\n",
       "    </tr>\n",
       "    <tr>\n",
       "      <th>158</th>\n",
       "      <td>&lt;keras.layers.core.Activation object at 0x7f488f44d6a0&gt;</td>\n",
       "      <td>activation_45</td>\n",
       "      <td>True</td>\n",
       "    </tr>\n",
       "    <tr>\n",
       "      <th>159</th>\n",
       "      <td>&lt;keras.layers.convolutional.Conv2D object at 0x7f488f457c88&gt;</td>\n",
       "      <td>conv5_2_1x1_increase</td>\n",
       "      <td>True</td>\n",
       "    </tr>\n",
       "    <tr>\n",
       "      <th>160</th>\n",
       "      <td>&lt;keras.layers.normalization.BatchNormalization object at 0x7f488f40ca20&gt;</td>\n",
       "      <td>conv5_2_1x1_increase/bn</td>\n",
       "      <td>True</td>\n",
       "    </tr>\n",
       "    <tr>\n",
       "      <th>161</th>\n",
       "      <td>&lt;keras.layers.merge.Add object at 0x7f488f40c9b0&gt;</td>\n",
       "      <td>add_15</td>\n",
       "      <td>True</td>\n",
       "    </tr>\n",
       "    <tr>\n",
       "      <th>162</th>\n",
       "      <td>&lt;keras.layers.core.Activation object at 0x7f488f424f98&gt;</td>\n",
       "      <td>activation_46</td>\n",
       "      <td>True</td>\n",
       "    </tr>\n",
       "    <tr>\n",
       "      <th>163</th>\n",
       "      <td>&lt;keras.layers.convolutional.Conv2D object at 0x7f488f42fa20&gt;</td>\n",
       "      <td>conv5_3_1x1_reduce</td>\n",
       "      <td>True</td>\n",
       "    </tr>\n",
       "    <tr>\n",
       "      <th>164</th>\n",
       "      <td>&lt;keras.layers.normalization.BatchNormalization object at 0x7f488f3db668&gt;</td>\n",
       "      <td>conv5_3_1x1_reduce/bn</td>\n",
       "      <td>True</td>\n",
       "    </tr>\n",
       "    <tr>\n",
       "      <th>165</th>\n",
       "      <td>&lt;keras.layers.core.Activation object at 0x7f488f3dbf60&gt;</td>\n",
       "      <td>activation_47</td>\n",
       "      <td>True</td>\n",
       "    </tr>\n",
       "    <tr>\n",
       "      <th>166</th>\n",
       "      <td>&lt;keras.layers.convolutional.Conv2D object at 0x7f488f3e3978&gt;</td>\n",
       "      <td>conv5_3_3x3</td>\n",
       "      <td>True</td>\n",
       "    </tr>\n",
       "    <tr>\n",
       "      <th>167</th>\n",
       "      <td>&lt;keras.layers.normalization.BatchNormalization object at 0x7f488f39e710&gt;</td>\n",
       "      <td>conv5_3_3x3/bn</td>\n",
       "      <td>True</td>\n",
       "    </tr>\n",
       "    <tr>\n",
       "      <th>168</th>\n",
       "      <td>&lt;keras.layers.core.Activation object at 0x7f488f39e6a0&gt;</td>\n",
       "      <td>activation_48</td>\n",
       "      <td>True</td>\n",
       "    </tr>\n",
       "    <tr>\n",
       "      <th>169</th>\n",
       "      <td>&lt;keras.layers.convolutional.Conv2D object at 0x7f488f3a7e80&gt;</td>\n",
       "      <td>conv5_3_1x1_increase</td>\n",
       "      <td>True</td>\n",
       "    </tr>\n",
       "    <tr>\n",
       "      <th>170</th>\n",
       "      <td>&lt;keras.layers.normalization.BatchNormalization object at 0x7f488f3650f0&gt;</td>\n",
       "      <td>conv5_3_1x1_increase/bn</td>\n",
       "      <td>True</td>\n",
       "    </tr>\n",
       "    <tr>\n",
       "      <th>171</th>\n",
       "      <td>&lt;keras.layers.merge.Add object at 0x7f488f365710&gt;</td>\n",
       "      <td>add_16</td>\n",
       "      <td>True</td>\n",
       "    </tr>\n",
       "    <tr>\n",
       "      <th>172</th>\n",
       "      <td>&lt;keras.layers.core.Activation object at 0x7f488f2fa630&gt;</td>\n",
       "      <td>activation_49</td>\n",
       "      <td>True</td>\n",
       "    </tr>\n",
       "    <tr>\n",
       "      <th>173</th>\n",
       "      <td>&lt;keras.layers.pooling.AveragePooling2D object at 0x7f488f2faf98&gt;</td>\n",
       "      <td>avg_pool</td>\n",
       "      <td>True</td>\n",
       "    </tr>\n",
       "    <tr>\n",
       "      <th>174</th>\n",
       "      <td>&lt;keras.layers.pooling.GlobalAveragePooling2D object at 0x7f488f32f630&gt;</td>\n",
       "      <td>global_average_pooling2d_1</td>\n",
       "      <td>True</td>\n",
       "    </tr>\n",
       "  </tbody>\n",
       "</table>\n",
       "</div>"
      ],
      "text/plain": [
       "                                                                   Layer Type  ... Layer Trainable\n",
       "0    <keras.engine.input_layer.InputLayer object at 0x7f48953b79b0>            ...  False         \n",
       "1    <keras.layers.convolutional.Conv2D object at 0x7f48953b7be0>              ...  False         \n",
       "2    <keras.layers.normalization.BatchNormalization object at 0x7f48953b7e48>  ...  False         \n",
       "3    <keras.layers.core.Activation object at 0x7f48953b7f98>                   ...  False         \n",
       "4    <keras.layers.pooling.MaxPooling2D object at 0x7f489a93ae48>              ...  False         \n",
       "5    <keras.layers.convolutional.Conv2D object at 0x7f4894127c88>              ...  False         \n",
       "6    <keras.layers.normalization.BatchNormalization object at 0x7f48940a3be0>  ...  False         \n",
       "7    <keras.layers.core.Activation object at 0x7f48940a3fd0>                   ...  False         \n",
       "8    <keras.layers.convolutional.Conv2D object at 0x7f48940ac9e8>              ...  False         \n",
       "9    <keras.layers.normalization.BatchNormalization object at 0x7f489532d668>  ...  False         \n",
       "10   <keras.layers.core.Activation object at 0x7f489532d5f8>                   ...  False         \n",
       "11   <keras.layers.convolutional.Conv2D object at 0x7f4895333f60>              ...  False         \n",
       "12   <keras.layers.convolutional.Conv2D object at 0x7f489416cfd0>              ...  False         \n",
       "13   <keras.layers.normalization.BatchNormalization object at 0x7f4894165e80>  ...  False         \n",
       "14   <keras.layers.normalization.BatchNormalization object at 0x7f48940eb710>  ...  False         \n",
       "15   <keras.layers.merge.Add object at 0x7f48940ebe80>                         ...  False         \n",
       "16   <keras.layers.core.Activation object at 0x7f488fffaa90>                   ...  False         \n",
       "17   <keras.layers.convolutional.Conv2D object at 0x7f488fffac18>              ...  False         \n",
       "18   <keras.layers.normalization.BatchNormalization object at 0x7f489002a940>  ...  False         \n",
       "19   <keras.layers.core.Activation object at 0x7f489002af60>                   ...  False         \n",
       "20   <keras.layers.convolutional.Conv2D object at 0x7f4890034c88>              ...  False         \n",
       "21   <keras.layers.normalization.BatchNormalization object at 0x7f488ffec940>  ...  False         \n",
       "22   <keras.layers.core.Activation object at 0x7f488ffec8d0>                   ...  False         \n",
       "23   <keras.layers.convolutional.Conv2D object at 0x7f488fff2e48>              ...  False         \n",
       "24   <keras.layers.normalization.BatchNormalization object at 0x7f488ffb3240>  ...  False         \n",
       "25   <keras.layers.merge.Add object at 0x7f488ffb3828>                         ...  False         \n",
       "26   <keras.layers.core.Activation object at 0x7f488ff4b780>                   ...  False         \n",
       "27   <keras.layers.convolutional.Conv2D object at 0x7f488ff4bf60>              ...  False         \n",
       "28   <keras.layers.normalization.BatchNormalization object at 0x7f488fefd630>  ...  False         \n",
       "29   <keras.layers.core.Activation object at 0x7f488fefdf28>                   ...  False         \n",
       "30   <keras.layers.convolutional.Conv2D object at 0x7f488ff05940>              ...  False         \n",
       "31   <keras.layers.normalization.BatchNormalization object at 0x7f488febb5f8>  ...  False         \n",
       "32   <keras.layers.core.Activation object at 0x7f488febb588>                   ...  False         \n",
       "33   <keras.layers.convolutional.Conv2D object at 0x7f488fec5ef0>              ...  False         \n",
       "34   <keras.layers.normalization.BatchNormalization object at 0x7f488fe7ce10>  ...  False         \n",
       "35   <keras.layers.merge.Add object at 0x7f488fe85f60>                         ...  False         \n",
       "36   <keras.layers.core.Activation object at 0x7f488fe9bd30>                   ...  False         \n",
       "37   <keras.layers.convolutional.Conv2D object at 0x7f488fea1e48>              ...  True          \n",
       "38   <keras.layers.normalization.BatchNormalization object at 0x7f488fe46eb8>  ...  True          \n",
       "39   <keras.layers.core.Activation object at 0x7f488fe4ee80>                   ...  True          \n",
       "40   <keras.layers.convolutional.Conv2D object at 0x7f488fe4eeb8>              ...  True          \n",
       "41   <keras.layers.normalization.BatchNormalization object at 0x7f488fe102b0>  ...  True          \n",
       "42   <keras.layers.core.Activation object at 0x7f488fe108d0>                   ...  True          \n",
       "43   <keras.layers.convolutional.Conv2D object at 0x7f488fe18eb8>              ...  True          \n",
       "44   <keras.layers.convolutional.Conv2D object at 0x7f488fdd8da0>              ...  True          \n",
       "45   <keras.layers.normalization.BatchNormalization object at 0x7f488fdd2ac8>  ...  True          \n",
       "46   <keras.layers.normalization.BatchNormalization object at 0x7f488fd99320>  ...  True          \n",
       "47   <keras.layers.merge.Add object at 0x7f488fd99b00>                         ...  True          \n",
       "48   <keras.layers.core.Activation object at 0x7f488fdaf6d8>                   ...  True          \n",
       "49   <keras.layers.convolutional.Conv2D object at 0x7f488fdaff98>              ...  True          \n",
       "50   <keras.layers.normalization.BatchNormalization object at 0x7f488fd5ae80>  ...  True          \n",
       "51   <keras.layers.core.Activation object at 0x7f488fd64f98>                   ...  True          \n",
       "52   <keras.layers.convolutional.Conv2D object at 0x7f488fd64fd0>              ...  True          \n",
       "53   <keras.layers.normalization.BatchNormalization object at 0x7f488fd22588>  ...  True          \n",
       "54   <keras.layers.core.Activation object at 0x7f488fd22518>                   ...  True          \n",
       "55   <keras.layers.convolutional.Conv2D object at 0x7f488fd2bfd0>              ...  True          \n",
       "56   <keras.layers.normalization.BatchNormalization object at 0x7f488fce3da0>  ...  True          \n",
       "57   <keras.layers.merge.Add object at 0x7f488fceaf98>                         ...  True          \n",
       "58   <keras.layers.core.Activation object at 0x7f488fc82cc0>                   ...  True          \n",
       "59   <keras.layers.convolutional.Conv2D object at 0x7f488fc87da0>              ...  True          \n",
       "60   <keras.layers.normalization.BatchNormalization object at 0x7f488fca9dd8>  ...  True          \n",
       "61   <keras.layers.core.Activation object at 0x7f488fcb4e10>                   ...  True          \n",
       "62   <keras.layers.convolutional.Conv2D object at 0x7f488fcb4e48>              ...  True          \n",
       "63   <keras.layers.normalization.BatchNormalization object at 0x7f488fbf5240>  ...  True          \n",
       "64   <keras.layers.core.Activation object at 0x7f488fbf5860>                   ...  True          \n",
       "65   <keras.layers.convolutional.Conv2D object at 0x7f488fbfee48>              ...  True          \n",
       "66   <keras.layers.normalization.BatchNormalization object at 0x7f488fc34a58>  ...  True          \n",
       "67   <keras.layers.merge.Add object at 0x7f488fbbcb38>                         ...  True          \n",
       "68   <keras.layers.core.Activation object at 0x7f488fbd3fd0>                   ...  True          \n",
       "69   <keras.layers.convolutional.Conv2D object at 0x7f488fbe54e0>              ...  True          \n",
       "70   <keras.layers.normalization.BatchNormalization object at 0x7f488fb7def0>  ...  True          \n",
       "71   <keras.layers.core.Activation object at 0x7f488fb84d68>                   ...  True          \n",
       "72   <keras.layers.convolutional.Conv2D object at 0x7f488fb84ef0>              ...  True          \n",
       "73   <keras.layers.normalization.BatchNormalization object at 0x7f488fb3de10>  ...  True          \n",
       "74   <keras.layers.core.Activation object at 0x7f488fb42f60>                   ...  True          \n",
       "75   <keras.layers.convolutional.Conv2D object at 0x7f488fb4eb00>              ...  True          \n",
       "76   <keras.layers.normalization.BatchNormalization object at 0x7f488fb037b8>  ...  True          \n",
       "77   <keras.layers.merge.Add object at 0x7f488fb03748>                         ...  True          \n",
       "78   <keras.layers.core.Activation object at 0x7f488fb1a978>                   ...  True          \n",
       "79   <keras.layers.convolutional.Conv2D object at 0x7f488fac3198>              ...  True          \n",
       "80   <keras.layers.normalization.BatchNormalization object at 0x7f488facfba8>  ...  True          \n",
       "81   <keras.layers.core.Activation object at 0x7f488facfeb8>                   ...  True          \n",
       "82   <keras.layers.convolutional.Conv2D object at 0x7f488fad8eb8>              ...  True          \n",
       "83   <keras.layers.normalization.BatchNormalization object at 0x7f488fa91ac8>  ...  True          \n",
       "84   <keras.layers.core.Activation object at 0x7f488fa97d68>                   ...  True          \n",
       "85   <keras.layers.convolutional.Conv2D object at 0x7f488fa97b70>              ...  True          \n",
       "86   <keras.layers.convolutional.Conv2D object at 0x7f488fa5aa90>              ...  True          \n",
       "87   <keras.layers.normalization.BatchNormalization object at 0x7f488fa5a470>  ...  True          \n",
       "88   <keras.layers.normalization.BatchNormalization object at 0x7f488fa20358>  ...  True          \n",
       "89   <keras.layers.merge.Add object at 0x7f488fa20b00>                         ...  True          \n",
       "90   <keras.layers.core.Activation object at 0x7f488f9b76d8>                   ...  True          \n",
       "91   <keras.layers.convolutional.Conv2D object at 0x7f488f9c6d68>              ...  True          \n",
       "92   <keras.layers.normalization.BatchNormalization object at 0x7f488f9ebc88>  ...  True          \n",
       "93   <keras.layers.core.Activation object at 0x7f488f9f2e10>                   ...  True          \n",
       "94   <keras.layers.convolutional.Conv2D object at 0x7f488f9f2f98>              ...  True          \n",
       "95   <keras.layers.normalization.BatchNormalization object at 0x7f488f9abbe0>  ...  True          \n",
       "96   <keras.layers.core.Activation object at 0x7f488f9b2fd0>                   ...  True          \n",
       "97   <keras.layers.convolutional.Conv2D object at 0x7f488f939940>              ...  True          \n",
       "98   <keras.layers.normalization.BatchNormalization object at 0x7f488f973a90>  ...  True          \n",
       "99   <keras.layers.merge.Add object at 0x7f488f973c50>                         ...  True          \n",
       "100  <keras.layers.core.Activation object at 0x7f489a9a6ac8>                   ...  True          \n",
       "101  <keras.layers.convolutional.Conv2D object at 0x7f489a9a6c88>              ...  True          \n",
       "102  <keras.layers.normalization.BatchNormalization object at 0x7f488f91ecf8>  ...  True          \n",
       "103  <keras.layers.core.Activation object at 0x7f488f926d68>                   ...  True          \n",
       "104  <keras.layers.convolutional.Conv2D object at 0x7f488f926fd0>              ...  True          \n",
       "105  <keras.layers.normalization.BatchNormalization object at 0x7f488f8e8240>  ...  True          \n",
       "106  <keras.layers.core.Activation object at 0x7f488f8e8828>                   ...  True          \n",
       "107  <keras.layers.convolutional.Conv2D object at 0x7f488f8efe10>              ...  True          \n",
       "108  <keras.layers.normalization.BatchNormalization object at 0x7f488f8a5b38>  ...  True          \n",
       "109  <keras.layers.merge.Add object at 0x7f488f8ace10>                         ...  True          \n",
       "110  <keras.layers.core.Activation object at 0x7f488f843f98>                   ...  True          \n",
       "111  <keras.layers.convolutional.Conv2D object at 0x7f488f84aba8>              ...  True          \n",
       "112  <keras.layers.normalization.BatchNormalization object at 0x7f488f8737f0>  ...  True          \n",
       "113  <keras.layers.core.Activation object at 0x7f488f873f60>                   ...  True          \n",
       "114  <keras.layers.convolutional.Conv2D object at 0x7f488f7fab00>              ...  True          \n",
       "115  <keras.layers.normalization.BatchNormalization object at 0x7f488f832898>  ...  True          \n",
       "116  <keras.layers.core.Activation object at 0x7f488f832828>                   ...  True          \n",
       "117  <keras.layers.convolutional.Conv2D object at 0x7f488f7bcda0>              ...  True          \n",
       "118  <keras.layers.normalization.BatchNormalization object at 0x7f488f77b278>  ...  True          \n",
       "119  <keras.layers.merge.Add object at 0x7f488f77b860>                         ...  True          \n",
       "120  <keras.layers.core.Activation object at 0x7f488f7927b8>                   ...  True          \n",
       "121  <keras.layers.convolutional.Conv2D object at 0x7f488f792fd0>              ...  True          \n",
       "122  <keras.layers.normalization.BatchNormalization object at 0x7f488f746e48>  ...  True          \n",
       "123  <keras.layers.core.Activation object at 0x7f488f74ec88>                   ...  True          \n",
       "124  <keras.layers.convolutional.Conv2D object at 0x7f488f74ee10>              ...  True          \n",
       "125  <keras.layers.normalization.BatchNormalization object at 0x7f488f705e48>  ...  True          \n",
       "126  <keras.layers.core.Activation object at 0x7f488f70bf60>                   ...  True          \n",
       "127  <keras.layers.convolutional.Conv2D object at 0x7f488f717b00>              ...  True          \n",
       "128  <keras.layers.normalization.BatchNormalization object at 0x7f488f6cb8d0>  ...  True          \n",
       "129  <keras.layers.merge.Add object at 0x7f488f6cb860>                         ...  True          \n",
       "130  <keras.layers.core.Activation object at 0x7f488f6e2a90>                   ...  True          \n",
       "131  <keras.layers.convolutional.Conv2D object at 0x7f488f686710>              ...  True          \n",
       "132  <keras.layers.normalization.BatchNormalization object at 0x7f488f695dd8>  ...  True          \n",
       "133  <keras.layers.core.Activation object at 0x7f488f69cdd8>                   ...  True          \n",
       "134  <keras.layers.convolutional.Conv2D object at 0x7f488f69cbe0>              ...  True          \n",
       "135  <keras.layers.normalization.BatchNormalization object at 0x7f488f65d588>  ...  True          \n",
       "136  <keras.layers.core.Activation object at 0x7f488f65d518>                   ...  True          \n",
       "137  <keras.layers.convolutional.Conv2D object at 0x7f488f664fd0>              ...  True          \n",
       "138  <keras.layers.normalization.BatchNormalization object at 0x7f488f61ae80>  ...  True          \n",
       "139  <keras.layers.merge.Add object at 0x7f488f624fd0>                         ...  True          \n",
       "140  <keras.layers.core.Activation object at 0x7f488f5badd8>                   ...  True          \n",
       "141  <keras.layers.convolutional.Conv2D object at 0x7f488f5c1f60>              ...  True          \n",
       "142  <keras.layers.normalization.BatchNormalization object at 0x7f488f5ecb38>  ...  True          \n",
       "143  <keras.layers.core.Activation object at 0x7f488f5ece48>                   ...  True          \n",
       "144  <keras.layers.convolutional.Conv2D object at 0x7f488f576e48>              ...  True          \n",
       "145  <keras.layers.normalization.BatchNormalization object at 0x7f488f5aeb38>  ...  True          \n",
       "146  <keras.layers.core.Activation object at 0x7f488f535e10>                   ...  True          \n",
       "147  <keras.layers.convolutional.Conv2D object at 0x7f488f535c18>              ...  True          \n",
       "148  <keras.layers.convolutional.Conv2D object at 0x7f488f4f5550>              ...  True          \n",
       "149  <keras.layers.normalization.BatchNormalization object at 0x7f488f4f55c0>  ...  True          \n",
       "150  <keras.layers.normalization.BatchNormalization object at 0x7f488f4bc588>  ...  True          \n",
       "151  <keras.layers.merge.Add object at 0x7f488f4bcc88>                         ...  True          \n",
       "152  <keras.layers.core.Activation object at 0x7f488f4d4908>                   ...  True          \n",
       "153  <keras.layers.convolutional.Conv2D object at 0x7f488f4d4f60>              ...  True          \n",
       "154  <keras.layers.normalization.BatchNormalization object at 0x7f488f483f60>  ...  True          \n",
       "155  <keras.layers.core.Activation object at 0x7f488f48de10>                   ...  True          \n",
       "156  <keras.layers.convolutional.Conv2D object at 0x7f488f48df98>              ...  True          \n",
       "157  <keras.layers.normalization.BatchNormalization object at 0x7f488f445f28>  ...  True          \n",
       "158  <keras.layers.core.Activation object at 0x7f488f44d6a0>                   ...  True          \n",
       "159  <keras.layers.convolutional.Conv2D object at 0x7f488f457c88>              ...  True          \n",
       "160  <keras.layers.normalization.BatchNormalization object at 0x7f488f40ca20>  ...  True          \n",
       "161  <keras.layers.merge.Add object at 0x7f488f40c9b0>                         ...  True          \n",
       "162  <keras.layers.core.Activation object at 0x7f488f424f98>                   ...  True          \n",
       "163  <keras.layers.convolutional.Conv2D object at 0x7f488f42fa20>              ...  True          \n",
       "164  <keras.layers.normalization.BatchNormalization object at 0x7f488f3db668>  ...  True          \n",
       "165  <keras.layers.core.Activation object at 0x7f488f3dbf60>                   ...  True          \n",
       "166  <keras.layers.convolutional.Conv2D object at 0x7f488f3e3978>              ...  True          \n",
       "167  <keras.layers.normalization.BatchNormalization object at 0x7f488f39e710>  ...  True          \n",
       "168  <keras.layers.core.Activation object at 0x7f488f39e6a0>                   ...  True          \n",
       "169  <keras.layers.convolutional.Conv2D object at 0x7f488f3a7e80>              ...  True          \n",
       "170  <keras.layers.normalization.BatchNormalization object at 0x7f488f3650f0>  ...  True          \n",
       "171  <keras.layers.merge.Add object at 0x7f488f365710>                         ...  True          \n",
       "172  <keras.layers.core.Activation object at 0x7f488f2fa630>                   ...  True          \n",
       "173  <keras.layers.pooling.AveragePooling2D object at 0x7f488f2faf98>          ...  True          \n",
       "174  <keras.layers.pooling.GlobalAveragePooling2D object at 0x7f488f32f630>    ...  True          \n",
       "\n",
       "[175 rows x 3 columns]"
      ]
     },
     "metadata": {
      "tags": []
     },
     "output_type": "display_data"
    },
    {
     "name": "stdout",
     "output_type": "stream",
     "text": [
      "Model: \"m03d_resnet50\"\n",
      "_________________________________________________________________\n",
      "Layer (type)                 Output Shape              Param #   \n",
      "=================================================================\n",
      "vggface_resnet50 (Model)     (None, 2048)              23561152  \n",
      "_________________________________________________________________\n",
      "dense_1 (Dense)              (None, 2048)              4196352   \n",
      "_________________________________________________________________\n",
      "dense_2 (Dense)              (None, 2048)              4196352   \n",
      "_________________________________________________________________\n",
      "regressor (Dense)            (None, 1)                 2049      \n",
      "=================================================================\n",
      "Total params: 31,955,905\n",
      "Trainable params: 31,677,441\n",
      "Non-trainable params: 278,464\n",
      "_________________________________________________________________\n"
     ]
    }
   ],
   "source": [
    "# Step 1: create a basic model instance and show model summary (select from all models above)\n",
    "#==================================================================\n",
    "\n",
    "model = create_model_m03d(model_type='resnet50', \n",
    "                          first_unfrozen_layer=3, \n",
    "                          display_layers=True,\n",
    "                          dropout=None, #0.1,\n",
    "                          L2=None,  #0.01, \n",
    "                          WC=None)  #1.0)\n",
    "model.summary()"
   ]
  },
  {
   "cell_type": "code",
   "execution_count": 28,
   "metadata": {
    "colab": {
     "base_uri": "https://localhost:8080/",
     "height": 34
    },
    "colab_type": "code",
    "id": "MeYWooPmS74y",
    "outputId": "c1840089-5d1c-42cb-e400-cc5f7c51e2f7"
   },
   "outputs": [
    {
     "name": "stdout",
     "output_type": "stream",
     "text": [
      "epochs: 30, batch_size: 32, steps_per_epoch: 49, validation_steps: 11\n"
     ]
    }
   ],
   "source": [
    "# Step 2: create empty history dict and set options for training\n",
    "#==================================================================\n",
    "\n",
    "histories = {}\n",
    "run1_epochs = 30    \n",
    "total_epochs = run1_epochs\n",
    "batch_size = 32\n",
    "steps_per_epoch = np.ceil(n_train/batch_size).astype('int')\n",
    "validation_steps = np.ceil(n_val/batch_size).astype('int')\n",
    "\n",
    "print('epochs: {}, batch_size: {}, steps_per_epoch: {}, validation_steps: {}'.format(\\\n",
    "       run1_epochs, batch_size, steps_per_epoch, validation_steps))"
   ]
  },
  {
   "cell_type": "code",
   "execution_count": 0,
   "metadata": {
    "colab": {},
    "colab_type": "code",
    "id": "1nHjL-ASL6ek"
   },
   "outputs": [],
   "source": [
    "# Step 3 | option 1: compile model for run 1 without LR schedule\n",
    "#==================================================================\n",
    "\n",
    "if tf_version==1:\n",
    "    from keras.optimizers import Adam, SGD, RMSprop, Adagrad, Adadelta, Nadam\n",
    "elif tf_version==2:\n",
    "    from tensorflow.keras.optimizers import Adam, SGD, RMSprop, Adagrad, Adadelta, Nadam\n",
    "\n",
    "# select one optimizer\n",
    "opt1 = Adam(lr = 0.0001)    # Adam(lr=0.001, beta_1=0.9, beta_2=0.999, amsgrad=False, decay=1e-6)\n",
    "opt2 = RMSprop(lr = 0.0001) # it's recommended to leave all parameters except for lr at their default values\n",
    "opt3 = SGD(lr = 0.001, momentum=0.9, nesterov=True)\n",
    "opt4 = Adagrad()   # it's recommended to leave all parameters (also lr) at their default values\n",
    "opt5 = Adadelta()  # it's recommended to leave all parameters (also lr) at their default values\n",
    "opt6 = Nadam()     # it's recommended to leave all parameters (also lr) at their default values\n",
    "\n",
    "# compile the model\n",
    "model.compile(loss='mse',                 # 'mean_squared_error'\n",
    "              metrics= ['mse', 'mae'],    # 'mean_absolute_error'\n",
    "              optimizer = opt1)           # or: optimizer='adam', optimizer=tf.keras.optimizers.Adam(lr=lr))"
   ]
  },
  {
   "cell_type": "code",
   "execution_count": 0,
   "metadata": {
    "colab": {
     "base_uri": "https://localhost:8080/",
     "height": 279
    },
    "colab_type": "code",
    "id": "PSHZjoQ1t1MR",
    "outputId": "b3d674c4-cb27-45fb-8a25-5f9cd3769be0"
   },
   "outputs": [
    {
     "data": {
      "image/png": "[encoded data removed]",
      "text/plain": [
       "<Figure size 432x288 with 1 Axes>"
      ]
     },
     "metadata": {
      "tags": []
     },
     "output_type": "display_data"
    }
   ],
   "source": [
    "# Step 3 | option 2: compile model with LR schedule (with Adam)\n",
    "#==================================================================\n",
    "# many models train better if you gradually reduce the learning rate during training. \n",
    "# Use optimizers.schedules to reduce the learning rate over time.\n",
    "# see: https://machinelearningmastery.com/using-learning-rate-schedules-deep-learning-models-python-keras/\n",
    "\n",
    "from keras.callbacks import LearningRateScheduler\n",
    "from keras.optimizers import Adam\n",
    "import math\n",
    "\n",
    "# learning rate schedule\n",
    "def step_decay(epoch):\n",
    "    initial_lrate = 0.01\n",
    "    drop = 0.5\n",
    "    epochs_drop = 10.0\n",
    "    lrate = initial_lrate * math.pow(drop, math.floor((1+epoch)/epochs_drop))\n",
    "    return lrate\n",
    "\n",
    "# learning schedule callback\n",
    "lrs = LearningRateScheduler(step_decay)\n",
    "\n",
    "# compile model with lr=0 (to indicate that it is not used if we have a lr schedule)\n",
    "model.compile(loss='mse',                 # 'mean_squared_error'\n",
    "              metrics= ['mse', 'mae'],    # 'mean_absolute_error'\n",
    "              optimizer=Adam(lr=0))       # or: optimizer='adam', optimizer=tf.keras.optimizers.Adam(lr=lr))\n",
    "\n",
    "# plot the lr schedule\n",
    "epochs = np.arange(31)\n",
    "lr_list = [step_decay(epoch) for epoch in epochs]\n",
    "plt.plot(epochs, lr_list)\n",
    "plt.ylim([0,max(plt.ylim())])\n",
    "plt.xlabel('Epoch')\n",
    "plt.ylabel('Learning Rate');"
   ]
  },
  {
   "cell_type": "code",
   "execution_count": 0,
   "metadata": {
    "colab": {
     "base_uri": "https://localhost:8080/",
     "height": 279
    },
    "colab_type": "code",
    "id": "hx7pV839zKmG",
    "outputId": "5efaf466-594a-46fb-a40e-debfeb2d148b"
   },
   "outputs": [
    {
     "data": {
      "image/png": "[encoded data removed]",
      "text/plain": [
       "<Figure size 432x288 with 1 Axes>"
      ]
     },
     "metadata": {
      "tags": []
     },
     "output_type": "display_data"
    }
   ],
   "source": [
    "# Step 3 | option 3: compile model with LR schedule (with SGD)\n",
    "#===============================================================\n",
    "\n",
    "from keras.optimizers import SGD\n",
    "\n",
    "learning_rate = 0.001\n",
    "decay_rate = learning_rate / total_epochs * (0.1/learning_rate)\n",
    "momentum = 0.8\n",
    "sgd = SGD(lr=learning_rate, momentum=momentum, decay=decay_rate, nesterov=False)\n",
    "\n",
    "# compile model\n",
    "model.compile(loss='mse',                 # 'mean_squared_error'\n",
    "              metrics= ['mse', 'mae'],    # 'mean_absolute_error'\n",
    "              optimizer=sgd)  \n",
    "\n",
    "# plot the lr schedule\n",
    "def sgd_decay(epoch, lr):\n",
    "    lr_new = lr * 1/(1 + decay_rate * epoch)    \n",
    "    return lr_new\n",
    "epochs = np.arange(total_epochs+1)\n",
    "lr_list = []\n",
    "lr = learning_rate\n",
    "for epoch in epochs:\n",
    "    lr = sgd_decay(epoch, lr)\n",
    "    lr_list.append(lr)\n",
    "plt.plot(epochs, lr_list)\n",
    "plt.xlabel('Epoch')\n",
    "plt.ylabel('Learning Rate');          "
   ]
  },
  {
   "cell_type": "code",
   "execution_count": 0,
   "metadata": {
    "colab": {},
    "colab_type": "code",
    "id": "tf9xCSXVnPd2"
   },
   "outputs": [],
   "source": [
    "# OPTIONAL: set options for early stopping\n",
    "#============================================\n",
    "# https://machinelearningmastery.com/how-to-stop-training-deep-neural-networks-at-the-right-time-using-early-stopping/\n",
    "\n",
    "from keras.callbacks import EarlyStopping\n",
    "\n",
    "es = EarlyStopping(monitor='val_loss', mode='min',  # minimize validation loss\n",
    "                   min_delta=0.01, \n",
    "                   verbose=1, patience=10,          # wait until no improvement for 10 epochs\n",
    "                   restore_best_weights=True)"
   ]
  },
  {
   "cell_type": "code",
   "execution_count": 0,
   "metadata": {
    "colab": {},
    "colab_type": "code",
    "id": "a1yn6PIfoX_5"
   },
   "outputs": [],
   "source": [
    "# OPTIONAL: use checkpoint to restore best weights\n",
    "#============================================\n",
    "\n",
    "from keras.callbacks import ModelCheckpoint\n",
    "\n",
    "cp = ModelCheckpoint(filepath= models_dir_bucket + \"best_weights.hdf5\",\n",
    "                     monitor = 'val_loss',\n",
    "                     verbose=1,\n",
    "                     save_best_only=True)"
   ]
  },
  {
   "cell_type": "code",
   "execution_count": 30,
   "metadata": {
    "colab": {
     "base_uri": "https://localhost:8080/",
     "height": 1000
    },
    "colab_type": "code",
    "id": "JAMmzWM5GBOg",
    "outputId": "6968c424-bbd0-4241-a081-470b4863b1c9"
   },
   "outputs": [
    {
     "name": "stdout",
     "output_type": "stream",
     "text": [
      "Epoch 1/30\n",
      "49/49 [==============================] - 25s 510ms/step - loss: 2.5114 - mean_squared_error: 2.5114 - mean_absolute_error: 1.0764 - val_loss: 0.5814 - val_mean_squared_error: 0.5814 - val_mean_absolute_error: 0.6121\n",
      "Epoch 2/30\n",
      "49/49 [==============================] - 8s 171ms/step - loss: 0.3041 - mean_squared_error: 0.3041 - mean_absolute_error: 0.4373 - val_loss: 0.8203 - val_mean_squared_error: 0.8203 - val_mean_absolute_error: 0.7597\n",
      "Epoch 3/30\n",
      "49/49 [==============================] - 8s 170ms/step - loss: 0.1607 - mean_squared_error: 0.1607 - mean_absolute_error: 0.3163 - val_loss: 0.4125 - val_mean_squared_error: 0.4125 - val_mean_absolute_error: 0.5186\n",
      "Epoch 4/30\n",
      "49/49 [==============================] - 8s 170ms/step - loss: 0.1489 - mean_squared_error: 0.1489 - mean_absolute_error: 0.3072 - val_loss: 0.4034 - val_mean_squared_error: 0.4034 - val_mean_absolute_error: 0.5038\n",
      "Epoch 5/30\n",
      "49/49 [==============================] - 8s 170ms/step - loss: 0.1310 - mean_squared_error: 0.1310 - mean_absolute_error: 0.2878 - val_loss: 0.3672 - val_mean_squared_error: 0.3672 - val_mean_absolute_error: 0.4927\n",
      "Epoch 6/30\n",
      "49/49 [==============================] - 8s 170ms/step - loss: 0.0950 - mean_squared_error: 0.0950 - mean_absolute_error: 0.2430 - val_loss: 0.4593 - val_mean_squared_error: 0.4593 - val_mean_absolute_error: 0.5549\n",
      "Epoch 7/30\n",
      "49/49 [==============================] - 8s 171ms/step - loss: 0.0982 - mean_squared_error: 0.0982 - mean_absolute_error: 0.2494 - val_loss: 0.3869 - val_mean_squared_error: 0.3869 - val_mean_absolute_error: 0.4957\n",
      "Epoch 8/30\n",
      "49/49 [==============================] - 8s 172ms/step - loss: 0.0824 - mean_squared_error: 0.0824 - mean_absolute_error: 0.2271 - val_loss: 0.3565 - val_mean_squared_error: 0.3565 - val_mean_absolute_error: 0.4797\n",
      "Epoch 9/30\n",
      "49/49 [==============================] - 8s 170ms/step - loss: 0.0765 - mean_squared_error: 0.0765 - mean_absolute_error: 0.2172 - val_loss: 0.3619 - val_mean_squared_error: 0.3619 - val_mean_absolute_error: 0.4791\n",
      "Epoch 10/30\n",
      "49/49 [==============================] - 8s 170ms/step - loss: 0.0639 - mean_squared_error: 0.0639 - mean_absolute_error: 0.2001 - val_loss: 0.3681 - val_mean_squared_error: 0.3681 - val_mean_absolute_error: 0.4889\n",
      "Epoch 11/30\n",
      "49/49 [==============================] - 8s 170ms/step - loss: 0.0728 - mean_squared_error: 0.0728 - mean_absolute_error: 0.2176 - val_loss: 0.3657 - val_mean_squared_error: 0.3657 - val_mean_absolute_error: 0.4893\n",
      "Epoch 12/30\n",
      "49/49 [==============================] - 8s 170ms/step - loss: 0.0900 - mean_squared_error: 0.0900 - mean_absolute_error: 0.2420 - val_loss: 0.3397 - val_mean_squared_error: 0.3397 - val_mean_absolute_error: 0.4726\n",
      "Epoch 13/30\n",
      "49/49 [==============================] - 8s 170ms/step - loss: 0.0688 - mean_squared_error: 0.0688 - mean_absolute_error: 0.2075 - val_loss: 0.3382 - val_mean_squared_error: 0.3382 - val_mean_absolute_error: 0.4677\n",
      "Epoch 14/30\n",
      "49/49 [==============================] - 8s 170ms/step - loss: 0.0490 - mean_squared_error: 0.0490 - mean_absolute_error: 0.1720 - val_loss: 0.3535 - val_mean_squared_error: 0.3535 - val_mean_absolute_error: 0.4809\n",
      "Epoch 15/30\n",
      "49/49 [==============================] - 8s 170ms/step - loss: 0.0541 - mean_squared_error: 0.0541 - mean_absolute_error: 0.1857 - val_loss: 0.4021 - val_mean_squared_error: 0.4021 - val_mean_absolute_error: 0.5188\n",
      "Epoch 16/30\n",
      "49/49 [==============================] - 8s 171ms/step - loss: 0.0395 - mean_squared_error: 0.0395 - mean_absolute_error: 0.1562 - val_loss: 0.3276 - val_mean_squared_error: 0.3276 - val_mean_absolute_error: 0.4579\n",
      "Epoch 17/30\n",
      "49/49 [==============================] - 8s 170ms/step - loss: 0.0351 - mean_squared_error: 0.0351 - mean_absolute_error: 0.1489 - val_loss: 0.4607 - val_mean_squared_error: 0.4607 - val_mean_absolute_error: 0.5629\n",
      "Epoch 18/30\n",
      "49/49 [==============================] - 8s 169ms/step - loss: 0.0523 - mean_squared_error: 0.0523 - mean_absolute_error: 0.1857 - val_loss: 0.3772 - val_mean_squared_error: 0.3772 - val_mean_absolute_error: 0.5064\n",
      "Epoch 19/30\n",
      "49/49 [==============================] - 8s 171ms/step - loss: 0.0388 - mean_squared_error: 0.0388 - mean_absolute_error: 0.1560 - val_loss: 0.3249 - val_mean_squared_error: 0.3249 - val_mean_absolute_error: 0.4554\n",
      "Epoch 20/30\n",
      "49/49 [==============================] - 8s 171ms/step - loss: 0.0524 - mean_squared_error: 0.0524 - mean_absolute_error: 0.1841 - val_loss: 0.3600 - val_mean_squared_error: 0.3600 - val_mean_absolute_error: 0.4795\n",
      "Epoch 21/30\n",
      "49/49 [==============================] - 8s 171ms/step - loss: 0.0424 - mean_squared_error: 0.0424 - mean_absolute_error: 0.1635 - val_loss: 0.3081 - val_mean_squared_error: 0.3081 - val_mean_absolute_error: 0.4471\n",
      "Epoch 22/30\n",
      "49/49 [==============================] - 8s 170ms/step - loss: 0.0494 - mean_squared_error: 0.0494 - mean_absolute_error: 0.1739 - val_loss: 0.3937 - val_mean_squared_error: 0.3937 - val_mean_absolute_error: 0.5149\n",
      "Epoch 23/30\n",
      "49/49 [==============================] - 8s 170ms/step - loss: 0.0389 - mean_squared_error: 0.0389 - mean_absolute_error: 0.1552 - val_loss: 0.3317 - val_mean_squared_error: 0.3317 - val_mean_absolute_error: 0.4640\n",
      "Epoch 24/30\n",
      "49/49 [==============================] - 8s 170ms/step - loss: 0.0409 - mean_squared_error: 0.0409 - mean_absolute_error: 0.1609 - val_loss: 0.3669 - val_mean_squared_error: 0.3669 - val_mean_absolute_error: 0.4946\n",
      "Epoch 25/30\n",
      "49/49 [==============================] - 8s 170ms/step - loss: 0.0384 - mean_squared_error: 0.0384 - mean_absolute_error: 0.1548 - val_loss: 0.3177 - val_mean_squared_error: 0.3177 - val_mean_absolute_error: 0.4520\n",
      "Epoch 26/30\n",
      "49/49 [==============================] - 8s 170ms/step - loss: 0.0522 - mean_squared_error: 0.0522 - mean_absolute_error: 0.1810 - val_loss: 0.3401 - val_mean_squared_error: 0.3401 - val_mean_absolute_error: 0.4644\n",
      "Epoch 27/30\n",
      "49/49 [==============================] - 8s 170ms/step - loss: 0.0495 - mean_squared_error: 0.0495 - mean_absolute_error: 0.1782 - val_loss: 0.3164 - val_mean_squared_error: 0.3164 - val_mean_absolute_error: 0.4545\n",
      "Epoch 28/30\n",
      "49/49 [==============================] - 8s 170ms/step - loss: 0.0368 - mean_squared_error: 0.0368 - mean_absolute_error: 0.1541 - val_loss: 0.3201 - val_mean_squared_error: 0.3201 - val_mean_absolute_error: 0.4624\n",
      "Epoch 29/30\n",
      "49/49 [==============================] - 8s 170ms/step - loss: 0.0330 - mean_squared_error: 0.0330 - mean_absolute_error: 0.1438 - val_loss: 0.3358 - val_mean_squared_error: 0.3358 - val_mean_absolute_error: 0.4594\n",
      "Epoch 30/30\n",
      "49/49 [==============================] - 8s 169ms/step - loss: 0.0300 - mean_squared_error: 0.0300 - mean_absolute_error: 0.1373 - val_loss: 0.3269 - val_mean_squared_error: 0.3269 - val_mean_absolute_error: 0.4638\n"
     ]
    }
   ],
   "source": [
    "# Step 4 | option 1: fit model (use iterator for augmentation/preprocessing)\n",
    "#===========================================================================\n",
    "\n",
    "histories['run1'] = model.fit(traingen.flow(X_train, y_train, \n",
    "                                            batch_size = batch_size), \n",
    "                              steps_per_epoch = steps_per_epoch,\n",
    "                              epochs = total_epochs,\n",
    "                              # callbacks = [lrs],  # use for lr schedule\n",
    "                              # callbacks = [cp],   # use to save best weights\n",
    "                              # callbacks = [es],   # use for early stopping\n",
    "                              validation_data = valgen.flow(X_val, y_val,\n",
    "                                                            batch_size = batch_size),\n",
    "                              validation_steps = validation_steps )"
   ]
  },
  {
   "cell_type": "code",
   "execution_count": 0,
   "metadata": {
    "colab": {},
    "colab_type": "code",
    "id": "sncGxW7OGgKg"
   },
   "outputs": [],
   "source": [
    "# Step 4 | option 2: fit model without iterator or input preprocessing\n",
    "#========================================================================\n",
    "'''\n",
    "histories['run1'] = model.fit(X_train, y_train, \n",
    "                              batch_size = batch_size, \n",
    "                              #steps_per_epoch = steps_per_epoch,\n",
    "                              epochs = total_epochs,\n",
    "                              validation_data = (X_val, y_val),\n",
    "                              #validation_steps = validation_steps\n",
    "                              )\n",
    "''';"
   ]
  },
  {
   "cell_type": "code",
   "execution_count": 0,
   "metadata": {
    "colab": {},
    "colab_type": "code",
    "id": "RlcvdohOj4EG"
   },
   "outputs": [],
   "source": [
    "# Step 4 | option 3: fit model with prepared augmented dataset\n",
    "#================================================================\n",
    "'''\n",
    "history = model.fit(x = center_X_aug(X_train_aug), y = y_train_aug, \n",
    "                    batch_size = batch_size, \n",
    "                    epochs = epochs,\n",
    "                    # callbacks = [es]  # include line for early stopping\n",
    "                    validation_data = (center_X_aug(X_val), y_val),\n",
    "                    validation_steps = validation_steps )\n",
    "''';"
   ]
  },
  {
   "cell_type": "markdown",
   "metadata": {
    "colab_type": "text",
    "id": "NIGyI9Gkfb3q"
   },
   "source": [
    "## b) Run 2: compile & train"
   ]
  },
  {
   "cell_type": "code",
   "execution_count": 0,
   "metadata": {
    "colab": {},
    "colab_type": "code",
    "id": "Bj2-nRJJ2aXE"
   },
   "outputs": [],
   "source": [
    "# Optional: unfreeze all layers\n",
    "\n",
    "for layer in model.layers:\n",
    "    layer.trainable = True\n",
    "\n",
    "for layer in model.layers[0].layers:\n",
    "    layer.trainable = True"
   ]
  },
  {
   "cell_type": "code",
   "execution_count": 31,
   "metadata": {
    "colab": {
     "base_uri": "https://localhost:8080/",
     "height": 34
    },
    "colab_type": "code",
    "id": "Yw2TElEr9fwf",
    "outputId": "2e1a697d-4706-473c-b216-60c02a38f0b8"
   },
   "outputs": [
    {
     "data": {
      "text/plain": [
       "(29, 30, 45)"
      ]
     },
     "execution_count": 31,
     "metadata": {
      "tags": []
     },
     "output_type": "execute_result"
    }
   ],
   "source": [
    "# Continue to train the model (e.g. with smaller learning rate)\n",
    "\n",
    "run2_epochs = 15\n",
    "total_epochs = run1_epochs + run2_epochs\n",
    "\n",
    "# Run2 starts from this layer onwards\n",
    "run1_last_epoch = histories['run1'].epoch[-1]\n",
    "run2_initial_epoch = run1_last_epoch + 1\n",
    "\n",
    "run1_last_epoch, run2_initial_epoch, total_epochs"
   ]
  },
  {
   "cell_type": "code",
   "execution_count": 0,
   "metadata": {
    "colab": {},
    "colab_type": "code",
    "id": "rmtnzEDR-5Ym"
   },
   "outputs": [],
   "source": [
    "# compile model for run 2\n",
    "\n",
    "from keras.optimizers import Adam\n",
    "lr = 0.00005\n",
    "model.compile(loss='mse',                 # 'mean_squared_error'\n",
    "              metrics= ['mse', 'mae'],    # 'mean_absolute_error'\n",
    "              optimizer=Adam(lr=lr))      "
   ]
  },
  {
   "cell_type": "code",
   "execution_count": 33,
   "metadata": {
    "colab": {
     "base_uri": "https://localhost:8080/",
     "height": 289
    },
    "colab_type": "code",
    "id": "IVOTBXaf3ab7",
    "outputId": "163be944-6d97-4469-ed56-46906c1608e0"
   },
   "outputs": [
    {
     "name": "stdout",
     "output_type": "stream",
     "text": [
      "Model: \"m03d_resnet50\"\n",
      "_________________________________________________________________\n",
      "Layer (type)                 Output Shape              Param #   \n",
      "=================================================================\n",
      "vggface_resnet50 (Model)     (None, 2048)              23561152  \n",
      "_________________________________________________________________\n",
      "dense_1 (Dense)              (None, 2048)              4196352   \n",
      "_________________________________________________________________\n",
      "dense_2 (Dense)              (None, 2048)              4196352   \n",
      "_________________________________________________________________\n",
      "regressor (Dense)            (None, 1)                 2049      \n",
      "=================================================================\n",
      "Total params: 31,955,905\n",
      "Trainable params: 31,677,441\n",
      "Non-trainable params: 278,464\n",
      "_________________________________________________________________\n"
     ]
    }
   ],
   "source": [
    "model.summary()"
   ]
  },
  {
   "cell_type": "code",
   "execution_count": 34,
   "metadata": {
    "colab": {
     "base_uri": "https://localhost:8080/",
     "height": 547
    },
    "colab_type": "code",
    "id": "jeMOEv-X9wB7",
    "outputId": "d5e70a44-0256-4b26-b4d0-b271a9249219"
   },
   "outputs": [
    {
     "name": "stdout",
     "output_type": "stream",
     "text": [
      "Epoch 31/45\n",
      "49/49 [==============================] - 19s 378ms/step - loss: 0.1370 - mean_squared_error: 0.1370 - mean_absolute_error: 0.2742 - val_loss: 0.3563 - val_mean_squared_error: 0.3563 - val_mean_absolute_error: 0.4860\n",
      "Epoch 32/45\n",
      "49/49 [==============================] - 8s 170ms/step - loss: 0.0600 - mean_squared_error: 0.0600 - mean_absolute_error: 0.1903 - val_loss: 0.4386 - val_mean_squared_error: 0.4386 - val_mean_absolute_error: 0.5220\n",
      "Epoch 33/45\n",
      "49/49 [==============================] - 8s 170ms/step - loss: 0.0513 - mean_squared_error: 0.0513 - mean_absolute_error: 0.1800 - val_loss: 0.5088 - val_mean_squared_error: 0.5088 - val_mean_absolute_error: 0.5889\n",
      "Epoch 34/45\n",
      "49/49 [==============================] - 8s 170ms/step - loss: 0.0533 - mean_squared_error: 0.0533 - mean_absolute_error: 0.1830 - val_loss: 0.3489 - val_mean_squared_error: 0.3489 - val_mean_absolute_error: 0.4790\n",
      "Epoch 35/45\n",
      "49/49 [==============================] - 8s 170ms/step - loss: 0.0544 - mean_squared_error: 0.0544 - mean_absolute_error: 0.1829 - val_loss: 0.3211 - val_mean_squared_error: 0.3211 - val_mean_absolute_error: 0.4574\n",
      "Epoch 36/45\n",
      "49/49 [==============================] - 8s 170ms/step - loss: 0.0325 - mean_squared_error: 0.0325 - mean_absolute_error: 0.1415 - val_loss: 0.3180 - val_mean_squared_error: 0.3180 - val_mean_absolute_error: 0.4613\n",
      "Epoch 37/45\n",
      "49/49 [==============================] - 8s 170ms/step - loss: 0.0355 - mean_squared_error: 0.0355 - mean_absolute_error: 0.1513 - val_loss: 0.3432 - val_mean_squared_error: 0.3432 - val_mean_absolute_error: 0.4725\n",
      "Epoch 38/45\n",
      "49/49 [==============================] - 8s 171ms/step - loss: 0.0345 - mean_squared_error: 0.0345 - mean_absolute_error: 0.1491 - val_loss: 0.3171 - val_mean_squared_error: 0.3171 - val_mean_absolute_error: 0.4539\n",
      "Epoch 39/45\n",
      "49/49 [==============================] - 8s 170ms/step - loss: 0.0281 - mean_squared_error: 0.0281 - mean_absolute_error: 0.1319 - val_loss: 0.3166 - val_mean_squared_error: 0.3166 - val_mean_absolute_error: 0.4552\n",
      "Epoch 40/45\n",
      "49/49 [==============================] - 8s 170ms/step - loss: 0.0273 - mean_squared_error: 0.0273 - mean_absolute_error: 0.1303 - val_loss: 0.3756 - val_mean_squared_error: 0.3756 - val_mean_absolute_error: 0.5022\n",
      "Epoch 41/45\n",
      "49/49 [==============================] - 8s 171ms/step - loss: 0.0265 - mean_squared_error: 0.0265 - mean_absolute_error: 0.1266 - val_loss: 0.3157 - val_mean_squared_error: 0.3157 - val_mean_absolute_error: 0.4545\n",
      "Epoch 42/45\n",
      "49/49 [==============================] - 8s 171ms/step - loss: 0.0327 - mean_squared_error: 0.0327 - mean_absolute_error: 0.1428 - val_loss: 0.3170 - val_mean_squared_error: 0.3170 - val_mean_absolute_error: 0.4604\n",
      "Epoch 43/45\n",
      "49/49 [==============================] - 8s 170ms/step - loss: 0.0280 - mean_squared_error: 0.0280 - mean_absolute_error: 0.1312 - val_loss: 0.3631 - val_mean_squared_error: 0.3631 - val_mean_absolute_error: 0.4888\n",
      "Epoch 44/45\n",
      "49/49 [==============================] - 8s 171ms/step - loss: 0.0272 - mean_squared_error: 0.0272 - mean_absolute_error: 0.1319 - val_loss: 0.3307 - val_mean_squared_error: 0.3307 - val_mean_absolute_error: 0.4635\n",
      "Epoch 45/45\n",
      "49/49 [==============================] - 8s 170ms/step - loss: 0.0261 - mean_squared_error: 0.0261 - mean_absolute_error: 0.1275 - val_loss: 0.3252 - val_mean_squared_error: 0.3252 - val_mean_absolute_error: 0.4604\n"
     ]
    }
   ],
   "source": [
    "histories['run2'] = model.fit(traingen.flow(X_train, y_train, \n",
    "                                            batch_size = batch_size), \n",
    "                              steps_per_epoch = steps_per_epoch,\n",
    "                              epochs = total_epochs,\n",
    "                              #callbacks = [cp],\n",
    "                              initial_epoch =  run2_initial_epoch,\n",
    "                              validation_data = valgen.flow(X_val, y_val,\n",
    "                                                            batch_size = batch_size),\n",
    "                              validation_steps = validation_steps )"
   ]
  },
  {
   "cell_type": "markdown",
   "metadata": {
    "colab_type": "text",
    "id": "e844xTUMffRz"
   },
   "source": [
    "## c) Run 3: compile & train"
   ]
  },
  {
   "cell_type": "code",
   "execution_count": 35,
   "metadata": {
    "colab": {
     "base_uri": "https://localhost:8080/",
     "height": 34
    },
    "colab_type": "code",
    "id": "ZRqxibDi9egX",
    "outputId": "8884c58c-c962-432b-b1b9-f9584f0a0be0"
   },
   "outputs": [
    {
     "data": {
      "text/plain": [
       "(44, 45, 55)"
      ]
     },
     "execution_count": 35,
     "metadata": {
      "tags": []
     },
     "output_type": "execute_result"
    }
   ],
   "source": [
    "# Continue train the model (e.g. fine-tuning)\n",
    "\n",
    "run3_epochs = 10\n",
    "total_epochs = run1_epochs + run2_epochs + run3_epochs\n",
    "\n",
    "# Run3 starts from this layer onwards\n",
    "run2_last_epoch = histories['run2'].epoch[-1]\n",
    "run3_initial_epoch = run2_last_epoch + 1\n",
    "\n",
    "run2_last_epoch, run3_initial_epoch, total_epochs"
   ]
  },
  {
   "cell_type": "code",
   "execution_count": 0,
   "metadata": {
    "colab": {},
    "colab_type": "code",
    "id": "PAoUVBLMDmsJ"
   },
   "outputs": [],
   "source": [
    "# unfreeze all layers\n",
    "for layer in model.layers:\n",
    "    layer.trainable = True\n",
    "\n",
    "# compile model\n",
    "from keras.optimizers import Adam\n",
    "lr = 0.00001\n",
    "model.compile(loss='mse',                  # 'mean_squared_error'\n",
    "              metrics= ['mse', 'mae'],     # 'mean_absolute_error'\n",
    "              optimizer=Adam(lr=lr))       # optimizer='adam'"
   ]
  },
  {
   "cell_type": "code",
   "execution_count": 37,
   "metadata": {
    "colab": {
     "base_uri": "https://localhost:8080/",
     "height": 377
    },
    "colab_type": "code",
    "id": "chfv3-pfDqbP",
    "outputId": "d525937a-91fb-41c0-835e-f7f7f9c58e38"
   },
   "outputs": [
    {
     "name": "stdout",
     "output_type": "stream",
     "text": [
      "Epoch 46/55\n",
      "49/49 [==============================] - 20s 403ms/step - loss: 0.0150 - mean_squared_error: 0.0150 - mean_absolute_error: 0.0951 - val_loss: 0.3000 - val_mean_squared_error: 0.3000 - val_mean_absolute_error: 0.4449\n",
      "Epoch 47/55\n",
      "49/49 [==============================] - 8s 172ms/step - loss: 0.0090 - mean_squared_error: 0.0090 - mean_absolute_error: 0.0755 - val_loss: 0.3449 - val_mean_squared_error: 0.3449 - val_mean_absolute_error: 0.4764\n",
      "Epoch 48/55\n",
      "49/49 [==============================] - 8s 171ms/step - loss: 0.0103 - mean_squared_error: 0.0103 - mean_absolute_error: 0.0811 - val_loss: 0.3006 - val_mean_squared_error: 0.3006 - val_mean_absolute_error: 0.4460\n",
      "Epoch 49/55\n",
      "49/49 [==============================] - 8s 171ms/step - loss: 0.0053 - mean_squared_error: 0.0053 - mean_absolute_error: 0.0586 - val_loss: 0.3054 - val_mean_squared_error: 0.3054 - val_mean_absolute_error: 0.4505\n",
      "Epoch 50/55\n",
      "49/49 [==============================] - 8s 170ms/step - loss: 0.0049 - mean_squared_error: 0.0049 - mean_absolute_error: 0.0567 - val_loss: 0.3049 - val_mean_squared_error: 0.3049 - val_mean_absolute_error: 0.4502\n",
      "Epoch 51/55\n",
      "49/49 [==============================] - 8s 171ms/step - loss: 0.0059 - mean_squared_error: 0.0059 - mean_absolute_error: 0.0613 - val_loss: 0.3127 - val_mean_squared_error: 0.3127 - val_mean_absolute_error: 0.4562\n",
      "Epoch 52/55\n",
      "49/49 [==============================] - 8s 171ms/step - loss: 0.0047 - mean_squared_error: 0.0047 - mean_absolute_error: 0.0557 - val_loss: 0.2968 - val_mean_squared_error: 0.2968 - val_mean_absolute_error: 0.4442\n",
      "Epoch 53/55\n",
      "49/49 [==============================] - 8s 171ms/step - loss: 0.0046 - mean_squared_error: 0.0046 - mean_absolute_error: 0.0543 - val_loss: 0.3036 - val_mean_squared_error: 0.3036 - val_mean_absolute_error: 0.4494\n",
      "Epoch 54/55\n",
      "49/49 [==============================] - 8s 171ms/step - loss: 0.0047 - mean_squared_error: 0.0047 - mean_absolute_error: 0.0539 - val_loss: 0.3321 - val_mean_squared_error: 0.3321 - val_mean_absolute_error: 0.4695\n",
      "Epoch 55/55\n",
      "49/49 [==============================] - 8s 172ms/step - loss: 0.0051 - mean_squared_error: 0.0051 - mean_absolute_error: 0.0577 - val_loss: 0.3114 - val_mean_squared_error: 0.3114 - val_mean_absolute_error: 0.4547\n"
     ]
    }
   ],
   "source": [
    "histories['run3'] = model.fit(traingen.flow(X_train, y_train, \n",
    "                                            batch_size = batch_size), \n",
    "                              steps_per_epoch = steps_per_epoch,\n",
    "                              epochs = total_epochs,\n",
    "                              initial_epoch =  run3_initial_epoch,\n",
    "                              validation_data = valgen.flow(X_val, y_val,\n",
    "                                                            batch_size = batch_size),\n",
    "                              validation_steps = validation_steps )"
   ]
  },
  {
   "cell_type": "markdown",
   "metadata": {
    "colab_type": "text",
    "id": "t3tKZRDfsegH"
   },
   "source": [
    "---\n",
    "# 7) Save Model"
   ]
  },
  {
   "cell_type": "code",
   "execution_count": 0,
   "metadata": {
    "colab": {},
    "colab_type": "code",
    "id": "OkgSpqgSnclz"
   },
   "outputs": [],
   "source": [
    "# write function to save the model to Google Storage bucket\n",
    "\n",
    "def save_model(total_epochs=0):\n",
    "    model_file = '_'.join([model.name, f'{total_epochs:d}ep', y_name, X_name])\n",
    "    model.save(models_dir_bucket + 'final_models/' + model_file + '.h5')  #, save_format='h5')\n",
    "    print('model saved to: ' + models_dir_bucket + 'final_models/' + model_file)\n",
    "\n",
    "    import pickle\n",
    "    history_file = model_file + '_histories'\n",
    "    with open(models_dir_bucket + 'final_models/' + history_file, 'wb') as file_pi:\n",
    "        pickle.dump(histories, file_pi)\n",
    "    print('histories saved to: ' + models_dir_bucket + 'final_models/' + history_file)"
   ]
  },
  {
   "cell_type": "code",
   "execution_count": 0,
   "metadata": {
    "colab": {
     "base_uri": "https://localhost:8080/",
     "height": 51
    },
    "colab_type": "code",
    "id": "-tO4eG2RsI8e",
    "outputId": "39421b98-e577-470b-dc45-3ff4e4e83e00"
   },
   "outputs": [
    {
     "name": "stdout",
     "output_type": "stream",
     "text": [
      "model saved to: /content/my-bucket/models/final_models/m03d_API_resnet50_30ep_yE_Xf\n",
      "histories saved to: /content/my-bucket/models/final_models/m03d_API_resnet50_30ep_yE_Xf_histories\n"
     ]
    }
   ],
   "source": [
    "# save model and histories to bucket\n",
    "\n",
    "save_model(total_epochs=total_epochs)"
   ]
  },
  {
   "cell_type": "code",
   "execution_count": 0,
   "metadata": {
    "colab": {},
    "colab_type": "code",
    "id": "l6kwTH80zxnO"
   },
   "outputs": [],
   "source": [
    "# Load a saved model\n",
    "# see: https://www.tensorflow.org/guide/keras/save_and_serialize\n",
    "\n",
    "# model = keras.models.load_model('/content/my-bucket/models/final_models/m03d_API_resnet50_30ep_yF_Xf.h5')  # with h5 file extension!\n",
    "# model.summary()"
   ]
  },
  {
   "cell_type": "code",
   "execution_count": 0,
   "metadata": {
    "colab": {},
    "colab_type": "code",
    "id": "sWIrJTrIPrwJ"
   },
   "outputs": [],
   "source": [
    "# Load saved histories\n",
    "# with open('/content/my-bucket/models/m02a_90ep_yT_Xf_histories', 'rb') as f:  # create file object with permissions\n",
    "#     histories = pickle.load(f)  # load using pickle de-serializer"
   ]
  },
  {
   "cell_type": "markdown",
   "metadata": {
    "colab_type": "text",
    "id": "FFWwkgaPuE_U"
   },
   "source": [
    "# 8) Evaluate Model"
   ]
  },
  {
   "cell_type": "markdown",
   "metadata": {
    "colab_type": "text",
    "id": "v86g-_V7XUJQ"
   },
   "source": [
    "## a) Plot train history"
   ]
  },
  {
   "cell_type": "code",
   "execution_count": 0,
   "metadata": {
    "colab": {},
    "colab_type": "code",
    "id": "gH1dZHNe46ti"
   },
   "outputs": [],
   "source": [
    "# Visualize the model's training progress using the stats stored in the history object\n",
    "# see: # https://www.tensorflow.org/tutorials/keras/regression\n",
    "\n",
    "def plot_history(history, ymax=20, use_mse=False):\n",
    "    hist = pd.DataFrame(history.history)\n",
    "    hist['epoch'] = history.epoch\n",
    "\n",
    "    if use_mse:\n",
    "        if tf_version==1:\n",
    "            plt.plot(hist.epoch, hist.mean_squared_error)\n",
    "            plt.plot(hist.epoch, hist.val_mean_squared_error)\n",
    "        elif tf_version==2:\n",
    "            plt.plot(hist.epoch, hist.mse)\n",
    "            plt.plot(hist.epoch, hist.val_mse)     \n",
    "    plt.plot(hist.epoch, hist.loss)  # hist.mse\n",
    "    plt.plot(hist.epoch, hist.val_loss)  # hist.val_mse\n",
    "    plt.ylim([0, ymax])\n",
    "    plt.ylabel('Loss (MSE)')\n",
    "    plt.xlabel('Epochs')\n",
    "    plt.legend(labels=['train','val']);\n",
    "    plt.show()"
   ]
  },
  {
   "cell_type": "code",
   "execution_count": 39,
   "metadata": {
    "colab": {
     "base_uri": "https://localhost:8080/",
     "height": 283
    },
    "colab_type": "code",
    "id": "DxHQaI8C97Ku",
    "outputId": "d8f45a22-ba47-4bc0-a704-ddf413b880e3"
   },
   "outputs": [
    {
     "data": {
      "image/png": "[encoded data removed]",
      "text/plain": [
       "<Figure size 432x288 with 1 Axes>"
      ]
     },
     "metadata": {
      "tags": []
     },
     "output_type": "display_data"
    }
   ],
   "source": [
    "# plot train history of a single run (run1, run2, or run3)\n",
    "\n",
    "plot_history(histories['run1'], ymax=5)"
   ]
  },
  {
   "cell_type": "code",
   "execution_count": 0,
   "metadata": {
    "colab": {},
    "colab_type": "code",
    "id": "NCJ-BvDKmTP9"
   },
   "outputs": [],
   "source": [
    "# write function to plot train histories of all runs\n",
    "\n",
    "def plot_joint_histories(histories, ymax=20):\n",
    "  \n",
    "    # create dataframe with joint histories\n",
    "    hist_dict = {}\n",
    "    for i, run in enumerate(histories):\n",
    "        history = histories[run]\n",
    "        hist_dict[run] = pd.DataFrame(history.history)\n",
    "        hist_dict[run]['epoch'] = history.epoch\n",
    "        hist_dict[run]['run'] = run\n",
    "\n",
    "    hist_df = pd.concat([hist for run, hist in hist_dict.items()], axis=0, ignore_index=True)\n",
    "\n",
    "    # plot joint histories\n",
    "    plt.plot(hist_df.epoch, hist_df.loss, label='train')  # hist.mse\n",
    "    plt.plot(hist_df.epoch, hist_df.val_loss, label='val')  # hist.val_mse\n",
    "    plt.ylim([0, ymax])\n",
    "    plt.ylabel('Loss (MSE)')\n",
    "    plt.xlabel('Epochs')\n",
    "\n",
    "    # include dashed line where runs start\n",
    "    runs_start_at = []\n",
    "    for run in range(1,len(histories)):\n",
    "        runs_start_at.append(hist_df[hist_df.run==f'run{run+1}'].first_valid_index())\n",
    "    plt.vlines(runs_start_at, ymin=0, ymax=ymax,\n",
    "               linestyles='dashed', color='lightgray', label='new run')\n",
    "    plt.legend(loc='upper left');\n",
    "    plt.show()\n",
    "\n",
    "    return hist_df"
   ]
  },
  {
   "cell_type": "code",
   "execution_count": 45,
   "metadata": {
    "colab": {
     "base_uri": "https://localhost:8080/",
     "height": 283
    },
    "colab_type": "code",
    "id": "_xYslUBJohoT",
    "outputId": "97e7974d-0e30-4530-ed9a-13b1c9fbc503"
   },
   "outputs": [
    {
     "data": {
      "image/png": "[encoded data removed]",
      "text/plain": [
       "<Figure size 432x288 with 1 Axes>"
      ]
     },
     "metadata": {
      "tags": []
     },
     "output_type": "display_data"
    }
   ],
   "source": [
    "# plot joint train histories\n",
    "\n",
    "histories_df = plot_joint_histories(histories, ymax=5)"
   ]
  },
  {
   "cell_type": "markdown",
   "metadata": {
    "colab_type": "text",
    "id": "xeFFTyQYXdbV"
   },
   "source": [
    "## b) Plot model evaluation metrics"
   ]
  },
  {
   "cell_type": "code",
   "execution_count": 0,
   "metadata": {
    "colab": {},
    "colab_type": "code",
    "id": "ru78zZO5PTpB"
   },
   "outputs": [],
   "source": [
    "# write function to make dataframe with model statistics (RMSE, MAE, PC)\n",
    "\n",
    "def evaluate_model(model, preprocessing_function=None, lims=(1,9)):\n",
    "    from sklearn.metrics import mean_squared_error, mean_absolute_error\n",
    "    from scipy.stats import pearsonr\n",
    "\n",
    "    if preprocessing_function != None:\n",
    "        X_train_pp = preprocessing_function(X_train)\n",
    "        X_val_pp = preprocessing_function(X_val)\n",
    "        X_test_pp = preprocessing_function(X_test)\n",
    "\n",
    "        y_pred_train = model.predict(X_train_pp).ravel()\n",
    "        y_pred_val   = model.predict(X_val_pp).ravel()\n",
    "        y_pred_test  = model.predict(X_test_pp).ravel()\n",
    "\n",
    "    else:\n",
    "        y_pred_train = model.predict(X_train).ravel()\n",
    "        y_pred_val   = model.predict(X_val).ravel()\n",
    "        y_pred_test  = model.predict(X_test).ravel()\n",
    "\n",
    "    # calculate pearson correlations\n",
    "    pc_train = 100*pearsonr(y_pred_train, y_train)[0]\n",
    "    pc_val = 100*pearsonr(y_pred_val, y_val)[0]\n",
    "    pc_test = 100*pearsonr(y_pred_test, y_test)[0]\n",
    "\n",
    "    # calculate rmse and mae\n",
    "    rmse_train = np.sqrt(mean_squared_error(y_train, y_pred_train))\n",
    "    rmse_val = np.sqrt(mean_squared_error(y_val, y_pred_val))\n",
    "    rmse_test = np.sqrt(mean_squared_error(y_test, y_pred_test))\n",
    "\n",
    "    mae_train = mean_absolute_error(y_train, y_pred_train)\n",
    "    mae_val = mean_absolute_error(y_val, y_pred_val)\n",
    "    mae_test = mean_absolute_error(y_test, y_pred_test)\n",
    "\n",
    "    df_model_eval = pd.DataFrame([[n_train, rmse_train, mae_train, pc_train],\n",
    "                                  [n_val, rmse_val, mae_val, pc_val],\n",
    "                                  [n_test, rmse_test, mae_test, pc_test]],\n",
    "                                 index=['train', 'val', 'test'],\n",
    "                                 columns=['n_samples', 'RMSE', 'MAE', 'PC'])\n",
    "  \n",
    "    # display evaluation metrics in dataframe\n",
    "    with pd.option_context('display.float_format', '{:,.3f}'.format):\n",
    "        display(df_model_eval)\n",
    "\n",
    "    # display scatterplot and histograms\n",
    "    fig = plt.figure(figsize=(15,11))\n",
    "\n",
    "    # (1) plot correlations\n",
    "    fig.add_subplot(221)\n",
    "    sns.scatterplot(y_train, y_pred_train, color='blue')\n",
    "    sns.scatterplot(y_val, y_pred_val, color='orange')\n",
    "    sns.scatterplot(y_test, y_pred_test, color='red')\n",
    "    plt.xlabel('true rating', size=12)\n",
    "    plt.ylabel('predicted rating', size=12);\n",
    "    plt.legend(['train','val', 'test'])\n",
    "    plt.ylim(lims)\n",
    "    plt.xlim(lims)\n",
    "    plt.plot(lims, lims, ls=\"--\", c='gray') \n",
    "\n",
    "    # (2) plot error distribution vs. rating\n",
    "    fig.add_subplot(222)\n",
    "    sns.scatterplot(y_train, y_pred_train - y_train, color='blue')\n",
    "    sns.scatterplot(y_val, y_pred_val - y_val, color='orange')\n",
    "    sns.scatterplot(y_test, y_pred_test - y_test, color='red')\n",
    "    plt.legend(['train','val', 'test'])\n",
    "    plt.xlabel(\"rating\")\n",
    "    plt.xlabel(\"prediction error\")\n",
    "    plt.plot(plt.gca().get_xlim(), (0,0), ls=\"--\", c='gray') \n",
    "\n",
    "    # (3) plot true/predicted rating distribution\n",
    "    fig.add_subplot(223)\n",
    "    sns.distplot(y_pred_train, color='blue', bins = 25)\n",
    "    sns.distplot(y_pred_val, color='orange', bins = 25)\n",
    "    sns.distplot(y_pred_test, color='red', bins = 25)\n",
    "    plt.legend(['train','val', 'test'])\n",
    "    plt.xlabel(\"rating\")\n",
    "\n",
    "    # (4) plot error distribution\n",
    "    fig.add_subplot(224)\n",
    "    sns.distplot(y_pred_train - y_train, color='blue', bins = 25)\n",
    "    sns.distplot(y_pred_val - y_val, color='orange', bins = 25)\n",
    "    sns.distplot(y_pred_test - y_test, color='red', bins = 25)\n",
    "    plt.legend(['train','val', 'test'])\n",
    "    plt.xlabel(\"prediction error\")\n",
    "    plt.show();\n",
    "\n",
    "    return df_model_eval"
   ]
  },
  {
   "cell_type": "code",
   "execution_count": 47,
   "metadata": {
    "colab": {
     "base_uri": "https://localhost:8080/",
     "height": 789
    },
    "colab_type": "code",
    "id": "6kOsKolJEpGT",
    "outputId": "b854d2af-38ce-4292-d285-70225f47abfd"
   },
   "outputs": [
    {
     "data": {
      "text/html": [
       "<div>\n",
       "<style scoped>\n",
       "    .dataframe tbody tr th:only-of-type {\n",
       "        vertical-align: middle;\n",
       "    }\n",
       "\n",
       "    .dataframe tbody tr th {\n",
       "        vertical-align: top;\n",
       "    }\n",
       "\n",
       "    .dataframe thead th {\n",
       "        text-align: right;\n",
       "    }\n",
       "</style>\n",
       "<table border=\"1\" class=\"dataframe\">\n",
       "  <thead>\n",
       "    <tr style=\"text-align: right;\">\n",
       "      <th></th>\n",
       "      <th>n_samples</th>\n",
       "      <th>RMSE</th>\n",
       "      <th>MAE</th>\n",
       "      <th>PC</th>\n",
       "    </tr>\n",
       "  </thead>\n",
       "  <tbody>\n",
       "    <tr>\n",
       "      <th>train</th>\n",
       "      <td>1554</td>\n",
       "      <td>0.115</td>\n",
       "      <td>0.097</td>\n",
       "      <td>99.782</td>\n",
       "    </tr>\n",
       "    <tr>\n",
       "      <th>val</th>\n",
       "      <td>334</td>\n",
       "      <td>0.558</td>\n",
       "      <td>0.455</td>\n",
       "      <td>80.965</td>\n",
       "    </tr>\n",
       "    <tr>\n",
       "      <th>test</th>\n",
       "      <td>334</td>\n",
       "      <td>0.591</td>\n",
       "      <td>0.471</td>\n",
       "      <td>78.749</td>\n",
       "    </tr>\n",
       "  </tbody>\n",
       "</table>\n",
       "</div>"
      ],
      "text/plain": [
       "       n_samples  RMSE   MAE     PC\n",
       "train  1554      0.115 0.097 99.782\n",
       "val    334       0.558 0.455 80.965\n",
       "test   334       0.591 0.471 78.749"
      ]
     },
     "metadata": {
      "tags": []
     },
     "output_type": "display_data"
    },
    {
     "data": {
      "image/png": "[encoded data removed]",
      "text/plain": [
       "<Figure size 1080x792 with 4 Axes>"
      ]
     },
     "metadata": {
      "tags": []
     },
     "output_type": "display_data"
    }
   ],
   "source": [
    "# show model performance (evaluation metrics and plots)\n",
    "\n",
    "df_model_eval = evaluate_model(model,\n",
    "                               preprocessing_function = preprocess_input_vggface)"
   ]
  },
  {
   "cell_type": "code",
   "execution_count": 48,
   "metadata": {
    "colab": {
     "base_uri": "https://localhost:8080/",
     "height": 51
    },
    "colab_type": "code",
    "id": "G2LiIXfvFdrY",
    "outputId": "a7d931f6-0998-4d22-cdc0-79b256ee9e94"
   },
   "outputs": [
    {
     "name": "stdout",
     "output_type": "stream",
     "text": [
      "1554/1554 [==============================] - 4s 3ms/step\n"
     ]
    },
    {
     "data": {
      "text/plain": [
       "(0.013561267157635403, 0.013561267157635403, 0.09872732380527327)"
      ]
     },
     "execution_count": 48,
     "metadata": {
      "tags": []
     },
     "output_type": "execute_result"
    }
   ],
   "source": [
    "loss, mse, mae = model.evaluate(preprocess_input(X_train*255), y_train)\n",
    "loss, mse, mae"
   ]
  },
  {
   "cell_type": "markdown",
   "metadata": {
    "colab_type": "text",
    "id": "Ne71x8wdXj1z"
   },
   "source": [
    "## c) Plot faces with min/max predicted ratings"
   ]
  },
  {
   "cell_type": "code",
   "execution_count": 0,
   "metadata": {
    "colab": {},
    "colab_type": "code",
    "id": "B-u6v7_Gahjw"
   },
   "outputs": [],
   "source": [
    "# write function to show min/max predictions\n",
    "\n",
    "def plot_min_max_predictions(model, preprocessing_function, n=5):\n",
    "\n",
    "    X_test_pp = preprocessing_function(X_test)\n",
    "    y_pred_test = model.predict(X_test_pp).ravel()\n",
    "\n",
    "    y_pred_min = y_pred_test.argsort()[:n]\n",
    "    y_pred_max = y_pred_test.argsort()[-n:]\n",
    "\n",
    "    fig, ax = plt.subplots(2,n,figsize=(3*n,7))\n",
    "\n",
    "    for p, i in enumerate(y_pred_min,start=1):\n",
    "        plt.subplot(2,n,p)\n",
    "        plt.imshow(X_test[i])  #/255.0)\n",
    "        plt.title('true: {:.2f}\\npredicted: {:.2f}'.format(y_test[i], y_pred_test[i]))\n",
    "        plt.axis('off');\n",
    "\n",
    "    for p, i in enumerate(y_pred_max,start=n+1):\n",
    "        plt.subplot(2,n,p)\n",
    "        plt.imshow(X_test[i])  #/255.0)\n",
    "        plt.title('true: {:.2f}\\npredicted: {:.2f}'.format(y_test[i], y_pred_test[i]))\n",
    "        plt.axis('off');\n",
    "\n",
    "    plt.show();"
   ]
  },
  {
   "cell_type": "code",
   "execution_count": null,
   "metadata": {
    "colab": {
     "base_uri": "https://localhost:8080/",
     "height": 415
    },
    "colab_type": "code",
    "id": "aY5SZUncG25H",
    "outputId": "0926fc0c-98d3-4813-c5e2-aa5ba76a753a"
   },
   "outputs": [],
   "source": [
    "# plot faces with min/max predicted ratings\n",
    "# Note: output not shown in GitHub because of license agreement for face images\n",
    "\n",
    "plot_min_max_predictions(model, \n",
    "                         preprocessing_function = preprocess_input_vggface,\n",
    "                         n=4)"
   ]
  },
  {
   "cell_type": "markdown",
   "metadata": {
    "colab_type": "text",
    "id": "pkPki29QmUJJ"
   },
   "source": [
    "---\n",
    "# 9) Appendix"
   ]
  },
  {
   "cell_type": "markdown",
   "metadata": {
    "colab_type": "text",
    "id": "opRif7LLp6ct"
   },
   "source": [
    "## a) Stratified train/val/test split"
   ]
  },
  {
   "cell_type": "code",
   "execution_count": 0,
   "metadata": {
    "colab": {},
    "colab_type": "code",
    "id": "7GqJfL41zpYp"
   },
   "outputs": [],
   "source": [
    "# load all attribute ratings (mean ratings) from bucket\n",
    "'''\n",
    "df_ratings = pd.read_csv(data_dir_bucket + 'df_ratings.csv')\n",
    "display(df_ratings.head(3))\n",
    "display(df_ratings.tail(3))\n",
    "'''"
   ]
  },
  {
   "cell_type": "code",
   "execution_count": 0,
   "metadata": {
    "colab": {},
    "colab_type": "code",
    "id": "uUAayeA50Hvz"
   },
   "outputs": [],
   "source": [
    "# save single attribute ratings to bucket (to load later)\n",
    "'''\n",
    "yA = df_ratings.attractive.values\n",
    "np.save(data_dir_bucket + 'yA.npy', yA)\n",
    "\n",
    "yF = df_ratings.friendly.values\n",
    "np.save(data_dir_bucket + 'yF.npy', yF)\n",
    "\n",
    "yE = df_ratings.emotional.values\n",
    "np.save(data_dir_bucket + 'yE.npy', yE)\n",
    "\n",
    "yS = df_ratings.sociable.values\n",
    "np.save(data_dir_bucket + 'yS.npy', yS)\n",
    "\n",
    "yI = df_ratings.intelligent.values\n",
    "np.save(data_dir_bucket + 'yI.npy', yI)\n",
    "'''"
   ]
  },
  {
   "cell_type": "code",
   "execution_count": 0,
   "metadata": {
    "colab": {},
    "colab_type": "code",
    "id": "9iBzqlr1dPtT"
   },
   "outputs": [],
   "source": [
    "# or: load and save PCA ratings\n",
    "'''\n",
    "df_ratings = pd.read_csv(data_dir_bucket + 'df_PCA_transformed.csv')\n",
    "display(df_ratings.head(3))\n",
    "display(df_ratings.tail(3))\n",
    "\n",
    "# save single PC ratings to bucket (to load later)\n",
    "\n",
    "yPC1 = df_ratings.PC1.values\n",
    "np.save(data_dir_bucket + 'yPC1.npy', yPC1)\n",
    "\n",
    "yPC2 = df_ratings.PC2.values\n",
    "np.save(data_dir_bucket + 'yPC2.npy', yPC2)\n",
    "'''"
   ]
  },
  {
   "cell_type": "code",
   "execution_count": 0,
   "metadata": {
    "colab": {},
    "colab_type": "code",
    "id": "ztRuJhOZzjHV"
   },
   "outputs": [],
   "source": [
    "# choose type of X and y values for modeling and load data\n",
    "'''\n",
    "y_name = 'yPC2'  # yT, yA, yI, yE, yF, yS, yPC1, yPC2\n",
    "X_name = 'Xf'    # Xr, Xs, Xp (load raw, non-centered image data)\n",
    "\n",
    "X = np.load(data_dir_bucket + X_name + '.npy')\n",
    "y = np.load(data_dir_bucket + y_name + '.npy')\n",
    "X.shape, y.shape\n",
    "''';"
   ]
  },
  {
   "cell_type": "code",
   "execution_count": 0,
   "metadata": {
    "colab": {},
    "colab_type": "code",
    "id": "-19qTtOWW-eO"
   },
   "outputs": [],
   "source": [
    "# make stratified train-val-test split\n",
    "# see: https://medium.com/@danilzherebtsov/continuous-data-stratification-c121fc91964b\n",
    "# see: https://stackoverflow.com/questions/39308146/\n",
    "'''\n",
    "# step 1: prepare y-bins based on percentiles for stratification\n",
    "percentile_bins = [10, 20, 30, 40, 50, 60, 70, 80, 90, 100]   # [20, 40, 60, 80, 100]\n",
    "y_percentiles = [np.percentile(y,perc) for perc in percentile_bins]\n",
    "y_binned = np.digitize(y, y_percentiles, right=True)\n",
    "np.unique(y_binned, return_counts=True)\n",
    "''';"
   ]
  },
  {
   "cell_type": "code",
   "execution_count": 0,
   "metadata": {
    "colab": {},
    "colab_type": "code",
    "id": "AIPs8nfvkbEW"
   },
   "outputs": [],
   "source": [
    "# step 2: do stratified train-test split\n",
    "'''\n",
    "from sklearn.model_selection import train_test_split\n",
    "\n",
    "indices = np.arange(len(y)) # to get indices of train-test-split (see: https://stackoverflow.com/questions/31521170/)\n",
    "X_train_raw, X_test, y_train_raw, y_test, idx_train_raw, idx_test = train_test_split(\n",
    "                                                    X, y, indices,\n",
    "                                                    test_size = 0.15,\n",
    "                                                    shuffle = True,\n",
    "                                                    random_state = 0,\n",
    "                                                    stratify = y_binned)\n",
    "X_train_raw.shape, X_test.shape, y_train_raw.shape, y_test.shape, idx_train_raw.shape, idx_test.shape\n",
    "''';"
   ]
  },
  {
   "cell_type": "code",
   "execution_count": 0,
   "metadata": {
    "colab": {},
    "colab_type": "code",
    "id": "hx6NauY3lS_d"
   },
   "outputs": [],
   "source": [
    "# step 3: do stratified train-val split\n",
    "'''\n",
    "y_train_raw_binned = np.digitize(y_train_raw, y_percentiles, right=True)\n",
    "print(np.unique(y_train_raw_binned, return_counts=True))\n",
    "\n",
    "X_train, X_val, y_train, y_val, idx_train, idx_val = train_test_split(\n",
    "                                                  X_train_raw, y_train_raw, idx_train_raw,\n",
    "                                                  test_size = 0.1765,\n",
    "                                                  shuffle = True,\n",
    "                                                  random_state = 0,\n",
    "                                                  stratify = y_train_raw_binned)\n",
    "X_train.shape, X_val.shape, y_train.shape, y_val.shape, idx_train.shape, idx_val.shape\n",
    "''';"
   ]
  },
  {
   "cell_type": "code",
   "execution_count": 0,
   "metadata": {
    "colab": {},
    "colab_type": "code",
    "id": "X5rSU1lc4RtZ"
   },
   "outputs": [],
   "source": [
    "# check stratification for y\n",
    "'''\n",
    "sns.distplot(y_train, bins=25)\n",
    "sns.distplot(y_val, bins=25)\n",
    "sns.distplot(y_test, bins=25)\n",
    "plt.legend(labels=['train','val','test']);\n",
    "''';"
   ]
  },
  {
   "cell_type": "code",
   "execution_count": 0,
   "metadata": {
    "colab": {},
    "colab_type": "code",
    "id": "eavBvGnv8j9d"
   },
   "outputs": [],
   "source": [
    "# save train, val and test indices to bucket\n",
    "'''\n",
    "skfold_folder = 'skfold_1/'\n",
    "np.save(data_dir_bucket + skfold_folder + y_name + '_train_raw_indices.npy', idx_train_raw)\n",
    "np.save(data_dir_bucket + skfold_folder + y_name + '_train_indices.npy', idx_train)\n",
    "np.save(data_dir_bucket + skfold_folder + y_name + '_test_indices.npy', idx_test)\n",
    "np.save(data_dir_bucket + skfold_folder + y_name + '_val_indices.npy', idx_val)\n",
    "''';"
   ]
  },
  {
   "cell_type": "code",
   "execution_count": 0,
   "metadata": {
    "colab": {},
    "colab_type": "code",
    "id": "qPkfxyhMUYZi"
   },
   "outputs": [],
   "source": [
    "# alternative: save train, val and test set (with indices) to bucket\n",
    "'''\n",
    "skfold_folder = 'skfold_1/'\n",
    "np.save(data_dir_bucket + skfold_folder + y_name + '_train_raw.npy', y_train_raw)\n",
    "np.save(data_dir_bucket + skfold_folder + y_name + '_train.npy', y_train)\n",
    "np.save(data_dir_bucket + skfold_folder + y_name + '_test.npy', y_test)\n",
    "np.save(data_dir_bucket + skfold_folder + y_name + '_val.npy', y_val)\n",
    "\n",
    "np.save(data_dir_bucket + skfold_folder + X_name + '_train_raw.npy', X_train_raw)\n",
    "np.save(data_dir_bucket + skfold_folder + X_name + '_train.npy', X_train)\n",
    "np.save(data_dir_bucket + skfold_folder + X_name + '_test.npy', X_test)\n",
    "np.save(data_dir_bucket + skfold_folder + X_name + '_val.npy', X_val)\n",
    "\n",
    "np.save(data_dir_bucket + skfold_folder + y_name + '_train_raw_indices.npy', idx_train_raw)\n",
    "np.save(data_dir_bucket + skfold_folder + y_name + '_train_indices.npy', idx_train)\n",
    "np.save(data_dir_bucket + skfold_folder + y_name + '_test_indices.npy', idx_test)\n",
    "np.save(data_dir_bucket + skfold_folder + y_name + '_val_indices.npy', idx_val)\n",
    "'''"
   ]
  },
  {
   "cell_type": "markdown",
   "metadata": {
    "colab_type": "text",
    "id": "Yo_41X01y_Mw"
   },
   "source": [
    "## b) Options for Data Augmentation"
   ]
  },
  {
   "cell_type": "markdown",
   "metadata": {
    "colab_type": "text",
    "id": "PCrtvJPUy_Mz"
   },
   "source": [
    "### ImageDataGenerator - option 1: generate augmented images and save as numpy array (X_train_aug)"
   ]
  },
  {
   "cell_type": "code",
   "execution_count": 0,
   "metadata": {
    "colab": {},
    "colab_type": "code",
    "id": "Uq_w3uOyy_Mz"
   },
   "outputs": [],
   "source": [
    "# Option 1: generate augmented images and save as numpy array\n",
    "'''\n",
    "n_gen = 3\n",
    "i = 1\n",
    "for X_batch, y_batch in datagen.flow(X_train, y_train, shuffle=True, batch_size=n_train):\n",
    "\n",
    "  if i==1:\n",
    "    X_train_aug = X_batch\n",
    "    y_train_aug = y_batch\n",
    "  else:\n",
    "    X_train_aug = np.vstack([X_train_aug, X_batch])\n",
    "    y_train_aug = np.concatenate([y_train_aug, y_batch])\n",
    "\n",
    "  i += 1\n",
    "  if i > n_gen:\n",
    "    break\n",
    "\n",
    "X_train_aug.shape, y_train_aug.shape\n",
    "'''"
   ]
  },
  {
   "cell_type": "code",
   "execution_count": 0,
   "metadata": {
    "colab": {},
    "colab_type": "code",
    "id": "HQvE24aRwFpC"
   },
   "outputs": [],
   "source": [
    "# plot some example images from augmented training data\n",
    "'''\n",
    "fig = plt.figure(figsize=(15,7))\n",
    "for i in range(10):\n",
    "  plt.subplot(2,5,i+1)\n",
    "  plt.imshow(X_train_aug[i])\n",
    "  plt.title(y_train_aug[i]);\n",
    "'''"
   ]
  },
  {
   "cell_type": "code",
   "execution_count": 0,
   "metadata": {
    "colab": {},
    "colab_type": "code",
    "id": "O7ug_7Ugy_M6"
   },
   "outputs": [],
   "source": [
    "# take the mean of augmented trainings set for mean-centering of train/val/test set later\n",
    "'''\n",
    "X_mean_aug = np.mean(X_train_aug, axis=0)\n",
    "print(X_mean_aug.shape)\n",
    "\n",
    "# write functon to center X using mean of augmented training data:\n",
    "def center_X_aug(X):\n",
    "  return X - X_mean_aug\n",
    "\n",
    "def decenter_X_aug(X):\n",
    "  return X + X_mean_aug\n",
    "'''"
   ]
  },
  {
   "cell_type": "markdown",
   "metadata": {
    "colab_type": "text",
    "id": "5q_FOChmy_M9"
   },
   "source": [
    "### ImageDataGenerator - option 2: create iterator for model training"
   ]
  },
  {
   "cell_type": "code",
   "execution_count": 0,
   "metadata": {
    "colab": {
     "base_uri": "https://localhost:8080/",
     "height": 34
    },
    "colab_type": "code",
    "id": "8KvRVI6by_M9",
    "outputId": "bac58f15-7df9-4b01-ebaa-f7c2d97ca79a"
   },
   "outputs": [
    {
     "data": {
      "text/plain": [
       "keras_preprocessing.image.numpy_array_iterator.NumpyArrayIterator"
      ]
     },
     "execution_count": 33,
     "metadata": {
      "tags": []
     },
     "output_type": "execute_result"
    }
   ],
   "source": [
    "# Option 2: create iterator for model training\n",
    "'''\n",
    "# see: https://machinelearningmastery.com/how-to-configure-image-data-augmentation-when-training-deep-learning-neural-networks/\n",
    "\n",
    "batch_size = 32  # (default)\n",
    "it = datagen.flow(X_train, y_train, batch_size=batch_size)\n",
    "type(it)\n",
    "'''"
   ]
  },
  {
   "cell_type": "markdown",
   "metadata": {
    "colab_type": "text",
    "id": "ltH-7MPPvF6S"
   },
   "source": [
    "## c) Code Snippets"
   ]
  },
  {
   "cell_type": "code",
   "execution_count": 0,
   "metadata": {
    "colab": {},
    "colab_type": "code",
    "id": "DPqSHiLzqT0X"
   },
   "outputs": [],
   "source": [
    "# mount google drive\n",
    "#from google.colab import drive\n",
    "#drive.mount('/content/drive')"
   ]
  },
  {
   "cell_type": "code",
   "execution_count": 0,
   "metadata": {
    "colab": {},
    "colab_type": "code",
    "id": "O-yFB3arejSy"
   },
   "outputs": [],
   "source": [
    "# move folders within google cloud storage (bucket)\n",
    "#!gsutil -m cp -r gs://{bucket_name}/colorFERET/* gs://{bucket_name}/datasets/colorFERET/"
   ]
  },
  {
   "cell_type": "code",
   "execution_count": 0,
   "metadata": {
    "colab": {},
    "colab_type": "code",
    "id": "YdZyep1mRmms"
   },
   "outputs": [],
   "source": [
    "# copy files from google drive to bucket on Google cloud\n",
    "#!gsutil -m cp -r /content/drive/My\\ Drive/Data/* gs://{bucket_name}/"
   ]
  },
  {
   "cell_type": "code",
   "execution_count": 0,
   "metadata": {
    "colab": {},
    "colab_type": "code",
    "id": "kxKD5Ku2RD9K"
   },
   "outputs": [],
   "source": [
    "# get history from memory location (if forgot to assign model.fit output to variable)\n",
    "\n",
    "#import ctypes\n",
    "#model_history = ctypes.cast(int(\"0x7f4d445829e8\", 0), ctypes.py_object).value\n",
    "#type(model_history)"
   ]
  },
  {
   "cell_type": "code",
   "execution_count": 0,
   "metadata": {
    "colab": {},
    "colab_type": "code",
    "id": "nDyOdfrqMFow"
   },
   "outputs": [],
   "source": [
    "'''\n",
    "data_dir_colab = '/content/my_data/'\n",
    "\n",
    "if os.path.isdir(data_dir_colab) == False:\n",
    "    print('making directory:', data_dir_colab)\n",
    "    os.mkdir(data_dir_colab)\n",
    "else:\n",
    "    print('directory already exists:', data_dir_colab)\n",
    "''';"
   ]
  },
  {
   "cell_type": "code",
   "execution_count": 0,
   "metadata": {
    "colab": {},
    "colab_type": "code",
    "id": "eB7j3ROZMFox"
   },
   "outputs": [],
   "source": [
    "'''\n",
    "models_dir_colab = '/content/my_models/'\n",
    "\n",
    "if os.path.isdir(models_dir_colab) == False:\n",
    "    print('making directory:', models_dir_colab)\n",
    "    os.mkdir(models_dir_colab)\n",
    "else:\n",
    "    print('directory already exists:', models_dir_colab)\n",
    "''';"
   ]
  },
  {
   "cell_type": "code",
   "execution_count": 0,
   "metadata": {
    "colab": {},
    "colab_type": "code",
    "id": "HQHxfIySQYV0"
   },
   "outputs": [],
   "source": [
    "# function to copy model and/or history from Colab to Google Cloud (bucket)\n",
    "'''\n",
    "def copy_to_bucket(total_epochs=0, model=True, history=True, eval=True):\n",
    " \n",
    "  model_file = '_'.join([model_name, f'{total_epochs:d}ep', y_name, X_name])\n",
    "  if model:\n",
    "    print('transfer model to: ' + models_dir_bucket + model_file)\n",
    "    !gsutil cp {models_dir_colab}{model_file} {models_dir_bucket}{model_file}\n",
    "\n",
    "  if history:\n",
    "    history_file = model_file + '_history.csv'\n",
    "    print('transfer history to: ' + models_dir_bucket + history_file)\n",
    "    !gsutil cp {models_dir_colab}{history_file} {models_dir_bucket}{history_file}\n",
    "\n",
    "  if eval:\n",
    "    eval_file = model_file + '_eval.csv'\n",
    "    print('transfer evaluation to: ' + models_dir_bucket + eval_file)\n",
    "    !gsutil cp {models_dir_colab}{eval_file} {models_dir_bucket}{eval_file}   \n",
    "\n",
    "#!gsutil mv {models_dir_colab} {models_dir_bucket}\n",
    "#!gsutil -m cp -r /content/drive/My\\ Drive/Data/* gs://{bucket_name}/\n",
    "''';"
   ]
  }
 ],
 "metadata": {
  "accelerator": "GPU",
  "colab": {
   "collapsed_sections": [
    "ULZpopZvDnYZ",
    "mZlhn2fENHeg",
    "MZ7dWDuKEwBB",
    "SweShasPvVcv",
    "AWTs596LlTrr",
    "nbtYJyRplWwa",
    "9aQP8e41D-YM",
    "khtsSe59_uGS",
    "SjV3mPZ5Xr1I",
    "HH3HbiJuQvI1",
    "Cim9YxzhUhTT",
    "EGyE970ScP5g",
    "hLYouLPZKQoJ",
    "GsorwE1AXz7l",
    "V4C3dcvZdUYo",
    "dSFshkxpjyjm",
    "FT2yjwa9nb5i",
    "8PDHzZ4is-OD",
    "zd1ixjZ6xNAl",
    "wUvglBWJyxMf",
    "70PQeMWzBguP",
    "DzLFKYNw4r3J",
    "_hgWaVTvYMMT",
    "yCMTZnt1qNmE",
    "qNNXF5gw9rlT",
    "gg8nRONhX92c",
    "-OxgU8oWfD1r",
    "WRqyLWxyO45e",
    "cYmcb3QOnJcO",
    "abOFXJjoqv5i",
    "ixdkZIYzEldz",
    "4_fRK2DPyn67",
    "w467Zxupy3eb",
    "t3tKZRDfsegH",
    "pkPki29QmUJJ",
    "opRif7LLp6ct",
    "Yo_41X01y_Mw",
    "5q_FOChmy_M9",
    "ltH-7MPPvF6S"
   ],
   "machine_shape": "hm",
   "name": "5_CNN_Train.ipynb",
   "provenance": []
  },
  "kernelspec": {
   "display_name": "Python [conda env:nf] *",
   "language": "python",
   "name": "conda-env-nf-py"
  },
  "language_info": {
   "codemirror_mode": {
    "name": "ipython",
    "version": 3
   },
   "file_extension": ".py",
   "mimetype": "text/x-python",
   "name": "python",
   "nbconvert_exporter": "python",
   "pygments_lexer": "ipython3",
   "version": "3.6.6"
  }
 },
 "nbformat": 4,
 "nbformat_minor": 1
}
